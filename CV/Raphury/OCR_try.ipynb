{
 "cells": [
  {
   "cell_type": "code",
   "execution_count": 1,
   "metadata": {},
   "outputs": [],
   "source": [
    "import numpy as np\n",
    "#import argparse\n",
    "#import imutils\n",
    "import time\n",
    "import cv2"
   ]
  },
  {
   "cell_type": "code",
   "execution_count": 2,
   "metadata": {},
   "outputs": [],
   "source": [
    "def decode_predictions(scores, geometry):\n",
    "\t# grab the number of rows and columns from the scores volume, then\n",
    "\t# initialize our set of bounding box rectangles and corresponding\n",
    "\t# confidence scores\n",
    "\t(numRows, numCols) = scores.shape[2:4]\n",
    "\trects = []\n",
    "\tconfidences = []\n",
    "\t# loop over the number of rows\n",
    "\tfor y in range(0, numRows):\n",
    "\t\t# extract the scores (probabilities), followed by the\n",
    "\t\t# geometrical data used to derive potential bounding box\n",
    "\t\t# coordinates that surround text\n",
    "\t\tscoresData = scores[0, 0, y]\n",
    "\t\txData0 = geometry[0, 0, y]\n",
    "\t\txData1 = geometry[0, 1, y]\n",
    "\t\txData2 = geometry[0, 2, y]\n",
    "\t\txData3 = geometry[0, 3, y]\n",
    "\t\tanglesData = geometry[0, 4, y]\n",
    "\t\t# loop over the number of columns\n",
    "\t\tfor x in range(0, numCols):\n",
    "\t\t\t# if our score does not have sufficient probability,\n",
    "\t\t\t# ignore it\n",
    "\t\t\tif scoresData[x] < 0.5:\n",
    "\t\t\t\tcontinue\n",
    "\t\t\t# compute the offset factor as our resulting feature\n",
    "\t\t\t# maps will be 4x smaller than the input image\n",
    "\t\t\t(offsetX, offsetY) = (x * 4.0, y * 4.0)\n",
    "\t\t\t# extract the rotation angle for the prediction and\n",
    "\t\t\t# then compute the sin and cosine\n",
    "\t\t\tangle = anglesData[x]\n",
    "\t\t\tcos = np.cos(angle)\n",
    "\t\t\tsin = np.sin(angle)\n",
    "\t\t\t# use the geometry volume to derive the width and height\n",
    "\t\t\t# of the bounding box\n",
    "\t\t\th = xData0[x] + xData2[x]\n",
    "\t\t\tw = xData1[x] + xData3[x]\n",
    "\t\t\t# compute both the starting and ending (x, y)-coordinates\n",
    "\t\t\t# for the text prediction bounding box\n",
    "\t\t\tendX = int(offsetX + (cos * xData1[x]) + (sin * xData2[x]))\n",
    "\t\t\tendY = int(offsetY - (sin * xData1[x]) + (cos * xData2[x]))\n",
    "\t\t\tstartX = int(endX - w)\n",
    "\t\t\tstartY = int(endY - h)\n",
    "\t\t\t# add the bounding box coordinates and probability score\n",
    "\t\t\t# to our respective lists\n",
    "\t\t\trects.append((startX, startY, endX, endY))\n",
    "\t\t\tconfidences.append(scoresData[x])\n",
    "\t# return a tuple of the bounding boxes and associated confidences\n",
    "\treturn (rects, confidences)"
   ]
  },
  {
   "cell_type": "code",
   "execution_count": 3,
   "metadata": {},
   "outputs": [],
   "source": [
    "# ap = argparse.ArgumentParser()\n",
    "# ap.add_argument(\"-east\", \"--east\", type=str, required=True,\n",
    "# \thelp=\"path to input EAST text detector\")\n",
    "# ap.add_argument(\"-v\", \"--video\", type=str,\n",
    "# \thelp=\"path to optinal input video file\")\n",
    "# ap.add_argument(\"-c\", \"--min-confidence\", type=float, default=0.5,\n",
    "# \thelp=\"minimum probability required to inspect a region\")\n",
    "# ap.add_argument(\"-w\", \"--width\", type=int, default=320,\n",
    "# \thelp=\"resized image width (should be multiple of 32)\")\n",
    "# ap.add_argument(\"-e\", \"--height\", type=int, default=320,\n",
    "# \thelp=\"resized image height (should be multiple of 32)\")\n",
    "# args = vars(ap.parse_args())"
   ]
  },
  {
   "cell_type": "code",
   "execution_count": 4,
   "metadata": {
    "tags": []
   },
   "outputs": [
    {
     "output_type": "stream",
     "name": "stdout",
     "text": "[INFO] loading EAST text detector...\ndone loading\n"
    }
   ],
   "source": [
    "# initialize the original frame dimensions, new frame dimensions,\n",
    "# and ratio between the dimensions\n",
    "(W, H) = (None, None)\n",
    "(newW, newH) = (320,320)\n",
    "(rW, rH) = (None, None)\n",
    "# define the two output layer names for the EAST detector model that\n",
    "# we are interested -- the first is the output probabilities and the\n",
    "# second can be used to derive the bounding box coordinates of text\n",
    "layerNames = [\n",
    "\t\"feature_fusion/Conv_7/Sigmoid\",\n",
    "\t\"feature_fusion/concat_3\"]\n",
    "# load the pre-trained EAST text detector\n",
    "print(\"[INFO] loading EAST text detector...\")\n",
    "net = cv2.dnn.readNet(\"/2TBRaid/code/hackathon/TIL/notebooks/models/frozen_east_text_detection.pb\")\n",
    "print(\"done loading\")"
   ]
  },
  {
   "cell_type": "code",
   "execution_count": 5,
   "metadata": {},
   "outputs": [],
   "source": [
    "# # if a video path was not supplied, grab the reference to the web cam\n",
    "# if not args.get(\"video\", False):\n",
    "# \tprint(\"[INFO] starting video stream...\")\n",
    "# \tvs = VideoStream(src=0).start()\n",
    "# \ttime.sleep(1.0)\n",
    "# # otherwise, grab a reference to the video file\n",
    "# else:\n",
    "# \tvs = cv2.VideoCapture(args[\"video\"])\n",
    "# # start the FPS throughput estimator\n",
    "# fps = FPS().start()"
   ]
  },
  {
   "cell_type": "code",
   "execution_count": 6,
   "metadata": {},
   "outputs": [],
   "source": [
    "# loop over frames from the video stream\n",
    "frame = cv2.imread(\"/2TBRaid/code/hackathon/TIL/notebooks/models/test.jpg\")\n",
    "# while True:\n",
    "# grab the current frame, then handle if we are using a\n",
    "# VideoStream or VideoCapture object\n",
    "#frame = vs.read()\n",
    "#frame = frame[1] if args.get(\"video\", False) else frame\n",
    "# check to see if we have reached the end of the stream\n",
    "# if frame is None:\n",
    "#     break\n",
    "# resize the frame, maintaining the aspect ratio\n",
    "#frame = cv2.resize(frame, width=1000)\n",
    "orig = frame.copy()\n",
    "# if our frame dimensions are None, we still need to compute the\n",
    "# ratio of old frame dimensions to new frame dimensions\n",
    "if W is None or H is None:\n",
    "    (H, W) = frame.shape[:2]\n",
    "    rW = W / float(newW)\n",
    "    rH = H / float(newH)\n",
    "# resize the frame, this time ignoring aspect ratio\n",
    "frame = cv2.resize(frame, (newW, newH))"
   ]
  },
  {
   "cell_type": "code",
   "execution_count": 7,
   "metadata": {},
   "outputs": [],
   "source": [
    "def non_max_suppression_fast(boxes, overlapThresh):\n",
    "\t# if there are no boxes, return an empty list\n",
    "\tif len(boxes) == 0:\n",
    "\t\treturn []\n",
    "\t# if the bounding boxes integers, convert them to floats --\n",
    "\t# this is important since we'll be doing a bunch of divisions\n",
    "\tif boxes.dtype.kind == \"i\":\n",
    "\t\tboxes = boxes.astype(\"float\")\n",
    "\t# initialize the list of picked indexes\t\n",
    "\tpick = []\n",
    "\t# grab the coordinates of the bounding boxes\n",
    "\tx1 = boxes[:,0]\n",
    "\ty1 = boxes[:,1]\n",
    "\tx2 = boxes[:,2]\n",
    "\ty2 = boxes[:,3]\n",
    "\t# compute the area of the bounding boxes and sort the bounding\n",
    "\t# boxes by the bottom-right y-coordinate of the bounding box\n",
    "\tarea = (x2 - x1 + 1) * (y2 - y1 + 1)\n",
    "\tidxs = np.argsort(y2)\n",
    "\t# keep looping while some indexes still remain in the indexes\n",
    "\t# list\n",
    "\twhile len(idxs) > 0:\n",
    "\t\t# grab the last index in the indexes list and add the\n",
    "\t\t# index value to the list of picked indexes\n",
    "\t\tlast = len(idxs) - 1\n",
    "\t\ti = idxs[last]\n",
    "\t\tpick.append(i)\n",
    "\t\t# find the largest (x, y) coordinates for the start of\n",
    "\t\t# the bounding box and the smallest (x, y) coordinates\n",
    "\t\t# for the end of the bounding box\n",
    "\t\txx1 = np.maximum(x1[i], x1[idxs[:last]])\n",
    "\t\tyy1 = np.maximum(y1[i], y1[idxs[:last]])\n",
    "\t\txx2 = np.minimum(x2[i], x2[idxs[:last]])\n",
    "\t\tyy2 = np.minimum(y2[i], y2[idxs[:last]])\n",
    "\t\t# compute the width and height of the bounding box\n",
    "\t\tw = np.maximum(0, xx2 - xx1 + 1)\n",
    "\t\th = np.maximum(0, yy2 - yy1 + 1)\n",
    "\t\t# compute the ratio of overlap\n",
    "\t\toverlap = (w * h) / area[idxs[:last]]\n",
    "\t\t# delete all indexes from the index list that have\n",
    "\t\tidxs = np.delete(idxs, np.concatenate(([last],\n",
    "\t\t\tnp.where(overlap > overlapThresh)[0])))\n",
    "\t# return only the bounding boxes that were picked using the\n",
    "\t# integer data type\n",
    "\treturn boxes[pick].astype(\"int\")"
   ]
  },
  {
   "cell_type": "code",
   "execution_count": 8,
   "metadata": {
    "tags": []
   },
   "outputs": [
    {
     "output_type": "stream",
     "name": "stdout",
     "text": "rects []\nlooping []\n"
    }
   ],
   "source": [
    "# construct a blob from the frame and then perform a forward pass\n",
    "# of the model to obtain the two output layer sets\n",
    "blob = cv2.dnn.blobFromImage(frame, 1.0, (newW, newH),\n",
    "    (123.68, 116.78, 103.94), swapRB=True, crop=False)\n",
    "net.setInput(blob)\n",
    "(scores, geometry) = net.forward(layerNames)\n",
    "# decode the predictions, then  apply non-maxima suppression to\n",
    "# suppress weak, overlapping bounding boxes\n",
    "(rects, confidences) = decode_predictions(scores, geometry)\n",
    "print(\"rects\",rects)\n",
    "boxes = non_max_suppression_fast(np.array(rects), overlapThresh=0.3)\n",
    "# loop over the bounding boxes\n",
    "print(\"looping\", boxes)\n",
    "for (startX, startY, endX, endY) in boxes:\n",
    "    # scale the bounding box coordinates based on the respective\n",
    "    # ratios\n",
    "    startX = int(startX * rW)\n",
    "    startY = int(startY * rH)\n",
    "    endX = int(endX * rW)\n",
    "    endY = int(endY * rH)\n",
    "    print(startX, startY, endX, endY)\n",
    "    # draw the bounding box on the frame\n",
    "    cv2.rectangle(orig, (startX, startY), (endX, endY), (0, 255, 0), 2)"
   ]
  },
  {
   "cell_type": "code",
   "execution_count": 8,
   "metadata": {},
   "outputs": [
    {
     "output_type": "error",
     "ename": "IndentationError",
     "evalue": "unexpected indent (<ipython-input-8-39d4d56869d6>, line 2)",
     "traceback": [
      "\u001b[0;36m  File \u001b[0;32m\"<ipython-input-8-39d4d56869d6>\"\u001b[0;36m, line \u001b[0;32m2\u001b[0m\n\u001b[0;31m    fps.update()\u001b[0m\n\u001b[0m    ^\u001b[0m\n\u001b[0;31mIndentationError\u001b[0m\u001b[0;31m:\u001b[0m unexpected indent\n"
     ]
    }
   ],
   "source": []
  },
  {
   "cell_type": "code",
   "execution_count": null,
   "metadata": {},
   "outputs": [],
   "source": []
  }
 ],
 "metadata": {
  "language_info": {
   "codemirror_mode": {
    "name": "ipython",
    "version": 3
   },
   "file_extension": ".py",
   "mimetype": "text/x-python",
   "name": "python",
   "nbconvert_exporter": "python",
   "pygments_lexer": "ipython3",
   "version": "3.6.9-final"
  },
  "orig_nbformat": 2,
  "kernelspec": {
   "name": "python36964bitnotebookspipenv57eabbfff9a149fba4c264734c2a3b05",
   "display_name": "Python 3.6.9 64-bit ('notebooks': pipenv)"
  }
 },
 "nbformat": 4,
 "nbformat_minor": 2
}