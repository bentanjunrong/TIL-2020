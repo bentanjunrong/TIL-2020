{
 "cells": [
  {
   "cell_type": "code",
   "execution_count": 1,
   "metadata": {},
   "outputs": [],
   "source": [
    "import tensorflow as tf\n",
    "from tensorflow.keras.models import Sequential\n",
    "from tensorflow.keras.layers import Dense, Conv2D, Flatten, Dropout, MaxPooling2D\n",
    "from tensorflow.keras.preprocessing.image import ImageDataGenerator\n",
    "\n",
    "import os\n",
    "import numpy as np"
   ]
  },
  {
   "cell_type": "code",
   "execution_count": 3,
   "metadata": {
    "tags": []
   },
   "outputs": [
    {
     "output_type": "stream",
     "name": "stdout",
     "text": "Found 3956 images belonging to 2 classes.\nFound 439 images belonging to 2 classes.\n"
    }
   ],
   "source": [
    "from tensorflow.keras.applications.xception import preprocess_input\n",
    "train_path = '../../data/binary_classifier_train' # 2 levels up cos this notebook is in a subfolder\n",
    "\n",
    "train_image_generator = ImageDataGenerator(validation_split = 0.1, horizontal_flip=True,brightness_range=(0.75,1.25), channel_shift_range=100, preprocessing_function=preprocess_input) \n",
    "# Brightness range based on this https://pillow.readthedocs.io/en/3.0.x/reference/ImageEnhance.html#PIL.ImageEnhance.Brightness\n",
    "\n",
    "\n",
    "train_data_gen = train_image_generator.flow_from_directory(train_path, subset='training',class_mode='binary')\n",
    "val_data_gen = train_image_generator.flow_from_directory(train_path, subset='validation',class_mode='binary')"
   ]
  },
  {
   "cell_type": "code",
   "execution_count": 6,
   "metadata": {
    "tags": []
   },
   "outputs": [
    {
     "output_type": "stream",
     "name": "stdout",
     "text": "Downloading data from https://storage.googleapis.com/tensorflow/keras-applications/xception/xception_weights_tf_dim_ordering_tf_kernels_notop.h5\n83689472/83683744 [==============================] - 3s 0us/step\n"
    }
   ],
   "source": [
    "from tensorflow.keras.applications import Xception\n",
    "from tensorflow.keras.metrics import TopKCategoricalAccuracy\n",
    "# Create Model here\n",
    "model = Sequential()\n",
    "model.add(Xception(include_top=False, weights='imagenet', pooling='avg'))\n",
    "model.add(Dense(2,activation='softmax'))\n",
    "model.layers[0].trainable = False\n",
    "\n",
    "metric = 'binary_accuracy'\n",
    "model.compile(optimizer='adam', metrics=metric, loss=['binary_crossentropy'])"
   ]
  },
  {
   "cell_type": "code",
   "execution_count": 7,
   "metadata": {
    "tags": []
   },
   "outputs": [
    {
     "output_type": "stream",
     "name": "stdout",
     "text": "Model: \"sequential_2\"\n_________________________________________________________________\nLayer (type)                 Output Shape              Param #   \n=================================================================\nxception (Model)             (None, 2048)              20861480  \n_________________________________________________________________\ndense (Dense)                (None, 2)                 4098      \n=================================================================\nTotal params: 20,865,578\nTrainable params: 4,098\nNon-trainable params: 20,861,480\n_________________________________________________________________\n"
    }
   ],
   "source": [
    "from PIL import Image\n",
    "model.summary()"
   ]
  },
  {
   "cell_type": "code",
   "execution_count": null,
   "metadata": {},
   "outputs": [],
   "source": [
    "from tensorflow.keras.callbacks import ModelCheckpoint\n",
    "checkpoint = ModelCheckpoint(os.path.join('saved_models','Xception_binary_snapshot_{epoch:02d}.h5'))\n"
   ]
  },
  {
   "cell_type": "code",
   "execution_count": null,
   "metadata": {},
   "outputs": [],
   "source": [
    "history = model.fit(\n",
    "            train_data_gen,\n",
    "            steps_per_epoch=124,\n",
    "            epochs=5,\n",
    "            \n",
    "            validation_data=val_data_gen,\n",
    "            validation_steps=14) # steps tbc\n",
    "model.save('saved_models/Xception_binary.h5',save_format='h5')"
   ]
  }
 ],
 "metadata": {
  "language_info": {
   "codemirror_mode": {
    "name": "ipython",
    "version": 3
   },
   "file_extension": ".py",
   "mimetype": "text/x-python",
   "name": "python",
   "nbconvert_exporter": "python",
   "pygments_lexer": "ipython3",
   "version": "3.6.9-final"
  },
  "orig_nbformat": 2,
  "kernelspec": {
   "name": "python36964bitnotebookspipenv57eabbfff9a149fba4c264734c2a3b05",
   "display_name": "Python 3.6.9 64-bit ('notebooks': pipenv)"
  }
 },
 "nbformat": 4,
 "nbformat_minor": 2
}