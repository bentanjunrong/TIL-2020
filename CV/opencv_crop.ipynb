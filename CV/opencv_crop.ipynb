{
 "cells": [
  {
   "cell_type": "code",
   "execution_count": 18,
   "metadata": {},
   "outputs": [],
   "source": [
    "import cv2\n",
    "\n",
    "\n",
    "# cv2.imshow('original',image)"
   ]
  },
  {
   "cell_type": "code",
   "execution_count": 23,
   "metadata": {},
   "outputs": [],
   "source": [
    "image_paths = ['center_look_left','center_look_front','center_look_right']\n",
    "crop_by = 7\n",
    "\n",
    "width = (1280/crop_by)/2\n",
    "x_left = int((1280/2) - width)\n",
    "x_right = int((1280/2) + width)\n"
   ]
  },
  {
   "cell_type": "code",
   "execution_count": 24,
   "metadata": {},
   "outputs": [],
   "source": [
    "for image_path in image_paths:\n",
    "    image = cv2.imread(image_path+'.png')\n",
    "    cropped_image = image[0:720,x_left:x_right]\n",
    "    cv2.imwrite('{}_{}x.png'.format(image_path,crop_by),cropped_image)"
   ]
  },
  {
   "cell_type": "code",
   "execution_count": null,
   "metadata": {},
   "outputs": [],
   "source": []
  }
 ],
 "metadata": {
  "language_info": {
   "codemirror_mode": {
    "name": "ipython",
    "version": 3
   },
   "file_extension": ".py",
   "mimetype": "text/x-python",
   "name": "python",
   "nbconvert_exporter": "python",
   "pygments_lexer": "ipython3",
   "version": "3.6.9-final"
  },
  "orig_nbformat": 2,
  "kernelspec": {
   "name": "python36964bitnotebookspipenv57eabbfff9a149fba4c264734c2a3b05",
   "display_name": "Python 3.6.9 64-bit ('notebooks': pipenv)"
  }
 },
 "nbformat": 4,
 "nbformat_minor": 2
}