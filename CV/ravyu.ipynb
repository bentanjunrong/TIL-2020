{
 "cells": [
  {
   "cell_type": "code",
   "execution_count": 2,
   "metadata": {},
   "outputs": [],
   "source": [
    "import pandas as pd\n",
    "import os\n",
    "import json\n",
    "from pathlib import Path "
   ]
  },
  {
   "cell_type": "code",
   "execution_count": 8,
   "metadata": {},
   "outputs": [],
   "source": [
    "train_json_path = Path('../data/train.json')\n",
    "\n",
    "# train_data = pd.read_json(train_json_path)\n",
    "train_json = json.load(train_json_path.open())\n",
    "\n",
    "# train_data.head()"
   ]
  },
  {
   "cell_type": "code",
   "execution_count": 19,
   "metadata": {
    "tags": [
     "outputPrepend"
    ]
   },
   "outputs": [],
   "source": [
    "# print(train_json['annotations'])\n",
    "train_data_prearranged = pd.read_json(json.dumps(train_json['annotations']))\n"
   ]
  },
  {
   "cell_type": "code",
   "execution_count": 20,
   "metadata": {},
   "outputs": [],
   "source": [
    "# Commented out for now. Will probably be used later in the test.\n",
    "# train_data = pd.DataFrame(train_data_prearranged,columns=['image_id','category_id','bbox','area'])\n",
    "\n"
   ]
  },
  {
   "cell_type": "code",
   "execution_count": 22,
   "metadata": {},
   "outputs": [
    {
     "output_type": "execute_result",
     "data": {
      "text/plain": "   image_id  category_id\n0        10            4\n1      1000            1\n2     10003            2\n3     10003            5\n4     10003            1",
      "text/html": "<div>\n<style scoped>\n    .dataframe tbody tr th:only-of-type {\n        vertical-align: middle;\n    }\n\n    .dataframe tbody tr th {\n        vertical-align: top;\n    }\n\n    .dataframe thead th {\n        text-align: right;\n    }\n</style>\n<table border=\"1\" class=\"dataframe\">\n  <thead>\n    <tr style=\"text-align: right;\">\n      <th></th>\n      <th>image_id</th>\n      <th>category_id</th>\n    </tr>\n  </thead>\n  <tbody>\n    <tr>\n      <th>0</th>\n      <td>10</td>\n      <td>4</td>\n    </tr>\n    <tr>\n      <th>1</th>\n      <td>1000</td>\n      <td>1</td>\n    </tr>\n    <tr>\n      <th>2</th>\n      <td>10003</td>\n      <td>2</td>\n    </tr>\n    <tr>\n      <th>3</th>\n      <td>10003</td>\n      <td>5</td>\n    </tr>\n    <tr>\n      <th>4</th>\n      <td>10003</td>\n      <td>1</td>\n    </tr>\n  </tbody>\n</table>\n</div>"
     },
     "metadata": {},
     "execution_count": 22
    }
   ],
   "source": [
    "# Use this DataFrame with flow_from_dataframe method of the ImageDataGenerator class to generate data set. Example method call below\n",
    "# ImageDataGenerator.flow_from_dataframe(train_data_flowvers, directory='../data/train/train',class_mode = 'categorical', xcol = 'image_id', ycol = 'category_id',save_to_dir = '../data/train/results')\n",
    "train_data_flowvers = pd.DataFrame(train_data_prearranged,columns=['image_id','category_id'])\n",
    "train_data_flowvers.head()"
   ]
  },
  {
   "cell_type": "code",
   "execution_count": null,
   "metadata": {},
   "outputs": [],
   "source": []
  }
 ],
 "metadata": {
  "kernelspec": {
   "display_name": "Python 3",
   "language": "python",
   "name": "python3"
  },
  "language_info": {
   "codemirror_mode": {
    "name": "ipython",
    "version": 3
   },
   "file_extension": ".py",
   "mimetype": "text/x-python",
   "name": "python",
   "nbconvert_exporter": "python",
   "pygments_lexer": "ipython3",
   "version": "3.6.9-final"
  }
 },
 "nbformat": 4,
 "nbformat_minor": 4
}