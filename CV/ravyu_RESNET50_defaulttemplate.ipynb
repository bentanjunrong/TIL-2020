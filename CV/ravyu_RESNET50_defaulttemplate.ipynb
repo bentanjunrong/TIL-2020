{
 "cells": [
  {
   "cell_type": "code",
   "execution_count": 1,
   "metadata": {},
   "outputs": [],
   "source": [
    "import pandas as pd\n",
    "import os\n",
    "import json\n",
    "from pathlib import Path "
   ]
  },
  {
   "cell_type": "code",
   "execution_count": 2,
   "metadata": {},
   "outputs": [],
   "source": [
    "train_json_path = Path('../data/train.json')\n",
    "val_json_path = Path('../data/val.json')\n",
    "\n",
    "# train_data = pd.read_json(train_json_path)\n",
    "train_json = json.load(train_json_path.open())\n",
    "val_json = json.load(val_json_path.open())\n",
    "\n",
    "# train_data.head()"
   ]
  },
  {
   "cell_type": "code",
   "execution_count": 3,
   "metadata": {
    "tags": [
     "outputPrepend"
    ]
   },
   "outputs": [
    {
     "output_type": "execute_result",
     "data": {
      "text/plain": "      area  iscrowd  id  image_id  category_id                    bbox\n0  2304645        0   1        10            4  [704, 620, 1401, 1645]\n1    55769        0   2      1000            1    [321, 332, 217, 257]\n2    17108        0   3     10003            2     [220, 758, 188, 91]\n3   117909        0   4     10003            5    [150, 397, 297, 397]\n4   105925        0   5     10003            1     [85, 207, 475, 223]",
      "text/html": "<div>\n<style scoped>\n    .dataframe tbody tr th:only-of-type {\n        vertical-align: middle;\n    }\n\n    .dataframe tbody tr th {\n        vertical-align: top;\n    }\n\n    .dataframe thead th {\n        text-align: right;\n    }\n</style>\n<table border=\"1\" class=\"dataframe\">\n  <thead>\n    <tr style=\"text-align: right;\">\n      <th></th>\n      <th>area</th>\n      <th>iscrowd</th>\n      <th>id</th>\n      <th>image_id</th>\n      <th>category_id</th>\n      <th>bbox</th>\n    </tr>\n  </thead>\n  <tbody>\n    <tr>\n      <th>0</th>\n      <td>2304645</td>\n      <td>0</td>\n      <td>1</td>\n      <td>10</td>\n      <td>4</td>\n      <td>[704, 620, 1401, 1645]</td>\n    </tr>\n    <tr>\n      <th>1</th>\n      <td>55769</td>\n      <td>0</td>\n      <td>2</td>\n      <td>1000</td>\n      <td>1</td>\n      <td>[321, 332, 217, 257]</td>\n    </tr>\n    <tr>\n      <th>2</th>\n      <td>17108</td>\n      <td>0</td>\n      <td>3</td>\n      <td>10003</td>\n      <td>2</td>\n      <td>[220, 758, 188, 91]</td>\n    </tr>\n    <tr>\n      <th>3</th>\n      <td>117909</td>\n      <td>0</td>\n      <td>4</td>\n      <td>10003</td>\n      <td>5</td>\n      <td>[150, 397, 297, 397]</td>\n    </tr>\n    <tr>\n      <th>4</th>\n      <td>105925</td>\n      <td>0</td>\n      <td>5</td>\n      <td>10003</td>\n      <td>1</td>\n      <td>[85, 207, 475, 223]</td>\n    </tr>\n  </tbody>\n</table>\n</div>"
     },
     "metadata": {},
     "execution_count": 3
    }
   ],
   "source": [
    "# print(train_json['annotations'])\n",
    "train_data_prearranged = pd.read_json(json.dumps(train_json['annotations']))\n",
    "val_data_prearranged = pd.read_json(json.dumps(val_json['annotations']))\n",
    "\n",
    "train_data_prearranged.head()"
   ]
  },
  {
   "cell_type": "code",
   "execution_count": 4,
   "metadata": {},
   "outputs": [],
   "source": [
    "# Commented out for now. Will probably be used later in the test.\n",
    "# train_data = pd.DataFrame(train_data_prearranged,columns=['image_id','category_id','bbox','area'])\n",
    "\n"
   ]
  },
  {
   "cell_type": "code",
   "execution_count": 5,
   "metadata": {},
   "outputs": [
    {
     "output_type": "execute_result",
     "data": {
      "text/plain": "    image_id category_id\n0     10.jpg       4.jpg\n1   1000.jpg       1.jpg\n2  10003.jpg       2.jpg\n3  10003.jpg       5.jpg\n4  10003.jpg       1.jpg",
      "text/html": "<div>\n<style scoped>\n    .dataframe tbody tr th:only-of-type {\n        vertical-align: middle;\n    }\n\n    .dataframe tbody tr th {\n        vertical-align: top;\n    }\n\n    .dataframe thead th {\n        text-align: right;\n    }\n</style>\n<table border=\"1\" class=\"dataframe\">\n  <thead>\n    <tr style=\"text-align: right;\">\n      <th></th>\n      <th>image_id</th>\n      <th>category_id</th>\n    </tr>\n  </thead>\n  <tbody>\n    <tr>\n      <th>0</th>\n      <td>10.jpg</td>\n      <td>4.jpg</td>\n    </tr>\n    <tr>\n      <th>1</th>\n      <td>1000.jpg</td>\n      <td>1.jpg</td>\n    </tr>\n    <tr>\n      <th>2</th>\n      <td>10003.jpg</td>\n      <td>2.jpg</td>\n    </tr>\n    <tr>\n      <th>3</th>\n      <td>10003.jpg</td>\n      <td>5.jpg</td>\n    </tr>\n    <tr>\n      <th>4</th>\n      <td>10003.jpg</td>\n      <td>1.jpg</td>\n    </tr>\n  </tbody>\n</table>\n</div>"
     },
     "metadata": {},
     "execution_count": 5
    }
   ],
   "source": [
    "# Use this DataFrame with flow_from_dataframe method of the ImageDataGenerator class to generate data set. Example method call below\n",
    "# ImageDataGenerator.flow_from_dataframe(train_data_flowvers, directory='../data/train/train',class_mode = 'categorical', x_col = 'image_id', y_col = 'category_id',save_to_dir = '../data/train/results')\n",
    "train_data_flowvers = pd.DataFrame(train_data_prearranged,columns=['image_id','category_id'])\n",
    "val_data_flowvers = pd.DataFrame(val_data_prearranged,columns=['image_id','category_id'])\n",
    "\n",
    "train_data_flowvers = train_data_flowvers.astype('str')+'.jpg'\n",
    "val_data_flowvers = val_data_flowvers.astype('str') + '.jpg'\n",
    "# val_data_flowvers.index\n",
    "train_data_flowvers.head()"
   ]
  },
  {
   "cell_type": "code",
   "execution_count": 6,
   "metadata": {},
   "outputs": [],
   "source": [
    "from tensorflow.keras.applications import ResNet50\n",
    "from tensorflow.keras.models import Sequential\n",
    "from tensorflow.keras.layers import Dense, Flatten, GlobalAveragePooling2D"
   ]
  },
  {
   "cell_type": "code",
   "execution_count": 7,
   "metadata": {},
   "outputs": [],
   "source": [
    "num_classes = 5\n",
    "# Downloaded from https://www.kaggle.com/keras/resnet50\n",
    "# resnet_weights_path = '../data/resnet50_weights_tf_dim_ordering_tf_kernels_notop.h5'\n",
    "\n",
    "new_model = Sequential()\n",
    "new_model.add(ResNet50(include_top=False,pooling = 'avg', weights = 'imagenet'))\n",
    "new_model.add(Dense(num_classes,activation='sigmoid'))\n",
    "# sigmoid, softmax\n",
    "\n",
    "new_model.layers[0].trainable = False"
   ]
  },
  {
   "cell_type": "code",
   "execution_count": 8,
   "metadata": {},
   "outputs": [],
   "source": [
    "new_model.compile(optimizer='sgd', loss='categorical_crossentropy', metrics=['accuracy'])"
   ]
  },
  {
   "cell_type": "code",
   "execution_count": 9,
   "metadata": {},
   "outputs": [
    {
     "output_type": "stream",
     "name": "stdout",
     "text": "Found 13317 validated image filenames belonging to 5 classes.\nFound 2458 validated image filenames belonging to 5 classes.\n416/416 [==============================] - 1235s 3s/step - loss: 1.2140 - accuracy: 0.5683 - val_loss: 1.2723 - val_accuracy: 0.5448\nWARNING:tensorflow:From /home/ravyu/.local/share/virtualenvs/notebooks-JTwKmQ8B/lib/python3.6/site-packages/tensorflow/python/ops/resource_variable_ops.py:1817: calling BaseResourceVariable.__init__ (from tensorflow.python.ops.resource_variable_ops) with constraint is deprecated and will be removed in a future version.\nInstructions for updating:\nIf using Keras pass *_constraint arguments to layers.\nINFO:tensorflow:Assets written to: saved_models/RESNET50_default_sigmoid/assets\n"
    }
   ],
   "source": [
    "from tensorflow.keras.applications.resnet50 import preprocess_input\n",
    "from tensorflow.keras.preprocessing.image import ImageDataGenerator\n",
    "from PIL import Image\n",
    "\n",
    "data_generator = ImageDataGenerator(preprocessing_function=preprocess_input)\n",
    "\n",
    "train_generator = data_generator.flow_from_dataframe(train_data_flowvers, directory='../data/train/train',class_mode = 'categorical', x_col = 'image_id', y_col = 'category_id')\n",
    "\n",
    "val_generator = data_generator.flow_from_dataframe(val_data_flowvers, directory='../data/val/val',class_mode = 'categorical', x_col = 'image_id', y_col = 'category_id')\n",
    "\n",
    "history = new_model.fit(\n",
    "        train_generator,\n",
    "        steps_per_epoch=416,\n",
    "        validation_data=val_generator,\n",
    "        validation_steps=76)\n",
    "new_model.save('saved_models/RESNET50_default_sigmoid')"
   ]
  }
 ],
 "metadata": {
  "kernelspec": {
   "display_name": "Python 3",
   "language": "python",
   "name": "python3"
  },
  "language_info": {
   "codemirror_mode": {
    "name": "ipython",
    "version": 3
   },
   "file_extension": ".py",
   "mimetype": "text/x-python",
   "name": "python",
   "nbconvert_exporter": "python",
   "pygments_lexer": "ipython3",
   "version": "3.6.9-final"
  }
 },
 "nbformat": 4,
 "nbformat_minor": 4
}