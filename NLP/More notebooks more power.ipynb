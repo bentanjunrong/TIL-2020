{
 "cells": [
  {
   "cell_type": "code",
   "execution_count": 97,
   "metadata": {},
   "outputs": [],
   "source": [
    "from numpy import array\n",
    "from tensorflow.keras.preprocessing.text import one_hot\n",
    "from tensorflow.keras.preprocessing.sequence import pad_sequences\n",
    "from tensorflow.keras.models import Sequential\n",
    "from tensorflow.keras.layers import Activation, Dropout, Dense\n",
    "from tensorflow.keras.layers import Flatten, LSTM\n",
    "from tensorflow.keras.layers import GlobalMaxPooling1D\n",
    "from tensorflow.keras.models import Model\n",
    "from tensorflow.keras.layers import Embedding\n",
    "from sklearn.model_selection import train_test_split\n",
    "from tensorflow.keras.preprocessing.text import Tokenizer\n",
    "from tensorflow.keras.layers import Input\n",
    "from tensorflow.keras.layers import Concatenate\n",
    "\n",
    "\n",
    "import pandas as pd\n",
    "import pandas as pd\n",
    "import numpy as np\n",
    "import re\n",
    "\n",
    "import matplotlib.pyplot as plt"
   ]
  },
  {
   "cell_type": "code",
   "execution_count": 98,
   "metadata": {},
   "outputs": [
    {
     "data": {
      "text/html": [
       "<div>\n",
       "<style scoped>\n",
       "    .dataframe tbody tr th:only-of-type {\n",
       "        vertical-align: middle;\n",
       "    }\n",
       "\n",
       "    .dataframe tbody tr th {\n",
       "        vertical-align: top;\n",
       "    }\n",
       "\n",
       "    .dataframe thead th {\n",
       "        text-align: right;\n",
       "    }\n",
       "</style>\n",
       "<table border=\"1\" class=\"dataframe\">\n",
       "  <thead>\n",
       "    <tr style=\"text-align: right;\">\n",
       "      <th></th>\n",
       "      <th>id</th>\n",
       "      <th>word_representation</th>\n",
       "      <th>outwear</th>\n",
       "      <th>top</th>\n",
       "      <th>trousers</th>\n",
       "      <th>women dresses</th>\n",
       "      <th>women skirts</th>\n",
       "    </tr>\n",
       "  </thead>\n",
       "  <tbody>\n",
       "    <tr>\n",
       "      <th>0</th>\n",
       "      <td>0</td>\n",
       "      <td>w7718 w173355 w138132 w232277 w90685 w314686 w...</td>\n",
       "      <td>1</td>\n",
       "      <td>0</td>\n",
       "      <td>1</td>\n",
       "      <td>0</td>\n",
       "      <td>0</td>\n",
       "    </tr>\n",
       "    <tr>\n",
       "      <th>1</th>\n",
       "      <td>1</td>\n",
       "      <td>w195317 w127737 w171593 w22890 w342007 w217871...</td>\n",
       "      <td>1</td>\n",
       "      <td>0</td>\n",
       "      <td>1</td>\n",
       "      <td>0</td>\n",
       "      <td>0</td>\n",
       "    </tr>\n",
       "    <tr>\n",
       "      <th>2</th>\n",
       "      <td>2</td>\n",
       "      <td>w247655 w270233 w261113 w337250 w366000 w37873...</td>\n",
       "      <td>0</td>\n",
       "      <td>1</td>\n",
       "      <td>1</td>\n",
       "      <td>0</td>\n",
       "      <td>0</td>\n",
       "    </tr>\n",
       "    <tr>\n",
       "      <th>3</th>\n",
       "      <td>3</td>\n",
       "      <td>w279289 w395855 w61795 w286461 w308610 w27013 ...</td>\n",
       "      <td>1</td>\n",
       "      <td>0</td>\n",
       "      <td>1</td>\n",
       "      <td>0</td>\n",
       "      <td>0</td>\n",
       "    </tr>\n",
       "    <tr>\n",
       "      <th>4</th>\n",
       "      <td>4</td>\n",
       "      <td>w254516 w135431 w115724 w331534 w256214 w71240...</td>\n",
       "      <td>1</td>\n",
       "      <td>0</td>\n",
       "      <td>1</td>\n",
       "      <td>0</td>\n",
       "      <td>0</td>\n",
       "    </tr>\n",
       "    <tr>\n",
       "      <th>5</th>\n",
       "      <td>5</td>\n",
       "      <td>w53495 w306061 w372126 w47982 w66980 w189406 w...</td>\n",
       "      <td>1</td>\n",
       "      <td>0</td>\n",
       "      <td>0</td>\n",
       "      <td>0</td>\n",
       "      <td>1</td>\n",
       "    </tr>\n",
       "    <tr>\n",
       "      <th>6</th>\n",
       "      <td>6</td>\n",
       "      <td>w237465 w256553 w286461 w382662 w206066 w12125...</td>\n",
       "      <td>1</td>\n",
       "      <td>0</td>\n",
       "      <td>0</td>\n",
       "      <td>1</td>\n",
       "      <td>0</td>\n",
       "    </tr>\n",
       "    <tr>\n",
       "      <th>7</th>\n",
       "      <td>7</td>\n",
       "      <td>w173317 w39222 w207614 w136665 w394246 w197783...</td>\n",
       "      <td>1</td>\n",
       "      <td>1</td>\n",
       "      <td>1</td>\n",
       "      <td>0</td>\n",
       "      <td>0</td>\n",
       "    </tr>\n",
       "    <tr>\n",
       "      <th>8</th>\n",
       "      <td>8</td>\n",
       "      <td>w373517 w37419 w358253 w162965 w286461 w204762...</td>\n",
       "      <td>1</td>\n",
       "      <td>0</td>\n",
       "      <td>0</td>\n",
       "      <td>0</td>\n",
       "      <td>0</td>\n",
       "    </tr>\n",
       "    <tr>\n",
       "      <th>9</th>\n",
       "      <td>9</td>\n",
       "      <td>w230409 w109269 w369689 w186076 w377961 w21787...</td>\n",
       "      <td>1</td>\n",
       "      <td>1</td>\n",
       "      <td>0</td>\n",
       "      <td>0</td>\n",
       "      <td>0</td>\n",
       "    </tr>\n",
       "  </tbody>\n",
       "</table>\n",
       "</div>"
      ],
      "text/plain": [
       "   id                                word_representation  outwear  top  \\\n",
       "0   0  w7718 w173355 w138132 w232277 w90685 w314686 w...        1    0   \n",
       "1   1  w195317 w127737 w171593 w22890 w342007 w217871...        1    0   \n",
       "2   2  w247655 w270233 w261113 w337250 w366000 w37873...        0    1   \n",
       "3   3  w279289 w395855 w61795 w286461 w308610 w27013 ...        1    0   \n",
       "4   4  w254516 w135431 w115724 w331534 w256214 w71240...        1    0   \n",
       "5   5  w53495 w306061 w372126 w47982 w66980 w189406 w...        1    0   \n",
       "6   6  w237465 w256553 w286461 w382662 w206066 w12125...        1    0   \n",
       "7   7  w173317 w39222 w207614 w136665 w394246 w197783...        1    1   \n",
       "8   8  w373517 w37419 w358253 w162965 w286461 w204762...        1    0   \n",
       "9   9  w230409 w109269 w369689 w186076 w377961 w21787...        1    1   \n",
       "\n",
       "   trousers  women dresses  women skirts  \n",
       "0         1              0             0  \n",
       "1         1              0             0  \n",
       "2         1              0             0  \n",
       "3         1              0             0  \n",
       "4         1              0             0  \n",
       "5         0              0             1  \n",
       "6         0              1             0  \n",
       "7         1              0             0  \n",
       "8         0              0             0  \n",
       "9         0              0             0  "
      ]
     },
     "execution_count": 98,
     "metadata": {},
     "output_type": "execute_result"
    }
   ],
   "source": [
    "\n",
    "df = pd.read_csv('C:\\\\Users\\\\Raphael\\\\Downloads\\\\TIL_NLP_train_dataset.csv')\n",
    "df.head(10)"
   ]
  },
  {
   "cell_type": "code",
   "execution_count": 99,
   "metadata": {},
   "outputs": [
    {
     "data": {
      "text/html": [
       "<div>\n",
       "<style scoped>\n",
       "    .dataframe tbody tr th:only-of-type {\n",
       "        vertical-align: middle;\n",
       "    }\n",
       "\n",
       "    .dataframe tbody tr th {\n",
       "        vertical-align: top;\n",
       "    }\n",
       "\n",
       "    .dataframe thead th {\n",
       "        text-align: right;\n",
       "    }\n",
       "</style>\n",
       "<table border=\"1\" class=\"dataframe\">\n",
       "  <thead>\n",
       "    <tr style=\"text-align: right;\">\n",
       "      <th></th>\n",
       "      <th>outwear</th>\n",
       "      <th>top</th>\n",
       "      <th>trousers</th>\n",
       "      <th>women dresses</th>\n",
       "      <th>women skirts</th>\n",
       "    </tr>\n",
       "  </thead>\n",
       "  <tbody>\n",
       "    <tr>\n",
       "      <th>0</th>\n",
       "      <td>1</td>\n",
       "      <td>0</td>\n",
       "      <td>1</td>\n",
       "      <td>0</td>\n",
       "      <td>0</td>\n",
       "    </tr>\n",
       "    <tr>\n",
       "      <th>1</th>\n",
       "      <td>1</td>\n",
       "      <td>0</td>\n",
       "      <td>1</td>\n",
       "      <td>0</td>\n",
       "      <td>0</td>\n",
       "    </tr>\n",
       "    <tr>\n",
       "      <th>2</th>\n",
       "      <td>0</td>\n",
       "      <td>1</td>\n",
       "      <td>1</td>\n",
       "      <td>0</td>\n",
       "      <td>0</td>\n",
       "    </tr>\n",
       "    <tr>\n",
       "      <th>3</th>\n",
       "      <td>1</td>\n",
       "      <td>0</td>\n",
       "      <td>1</td>\n",
       "      <td>0</td>\n",
       "      <td>0</td>\n",
       "    </tr>\n",
       "    <tr>\n",
       "      <th>4</th>\n",
       "      <td>1</td>\n",
       "      <td>0</td>\n",
       "      <td>1</td>\n",
       "      <td>0</td>\n",
       "      <td>0</td>\n",
       "    </tr>\n",
       "  </tbody>\n",
       "</table>\n",
       "</div>"
      ],
      "text/plain": [
       "   outwear  top  trousers  women dresses  women skirts\n",
       "0        1    0         1              0             0\n",
       "1        1    0         1              0             0\n",
       "2        0    1         1              0             0\n",
       "3        1    0         1              0             0\n",
       "4        1    0         1              0             0"
      ]
     },
     "execution_count": 99,
     "metadata": {},
     "output_type": "execute_result"
    }
   ],
   "source": [
    "df_labels = df[[\"outwear\", \"top\", \"trousers\", \"women dresses\", \"women skirts\"]]\n",
    "df_labels.head()"
   ]
  },
  {
   "cell_type": "code",
   "execution_count": 100,
   "metadata": {},
   "outputs": [
    {
     "data": {
      "text/plain": [
       "<matplotlib.axes._subplots.AxesSubplot at 0x2187910c5f8>"
      ]
     },
     "execution_count": 100,
     "metadata": {},
     "output_type": "execute_result"
    },
    {
     "data": {
      "image/png": "[encoded data removed]",
      "text/plain": [
       "<Figure size 720x576 with 1 Axes>"
      ]
     },
     "metadata": {
      "needs_background": "light"
     },
     "output_type": "display_data"
    }
   ],
   "source": [
    "fig_size = plt.rcParams[\"figure.figsize\"]\n",
    "fig_size[0] = 10\n",
    "fig_size[1] = 8\n",
    "plt.rcParams[\"figure.figsize\"] = fig_size\n",
    "\n",
    "df_labels.sum(axis=0).plot.bar()"
   ]
  },
  {
   "cell_type": "code",
   "execution_count": 101,
   "metadata": {},
   "outputs": [
    {
     "name": "stdout",
     "output_type": "stream",
     "text": [
      "w195317 w127737 w171593 w22890 w342007 w217871 w289824 w500005 w85858 w241910 w194870 w192814 w127834 w263923 w241910\n",
      "<class 'list'>\n",
      "w195317 w127737 w171593 w22890 w342007 w289824 w500005 w85858 w192814 w127834 w263923\n",
      "<class 'str'>\n"
     ]
    }
   ],
   "source": [
    "X = list(df[\"word_representation\"])\n",
    "y = df_labels.values\n",
    "print(X[1])\n",
    "print( type(X))\n",
    "banlist=[\"w34894\",\"w194870\",\"w217871\",\"w311583\",\"w120979\",\"w66980\",\"w186076\",\"w250138\",\"w241910\"]\n",
    "mod_X = []\n",
    "for sen in X:\n",
    "    tmp = sen.split(\" \")\n",
    "    ans = [x for x in tmp if x not in banlist]\n",
    "    mod_sen = (\" \").join(ans)\n",
    "    mod_X.append(mod_sen)\n",
    "\n",
    "print(mod_X[1])\n",
    "print(type(X[1]))"
   ]
  },
  {
   "cell_type": "code",
   "execution_count": 102,
   "metadata": {},
   "outputs": [
    {
     "name": "stdout",
     "output_type": "stream",
     "text": [
      "w195317 w256553 w39218 w288320 w1867 w13069 w42169 w251935 w185379 w111248 w376672 w85858 w166407 w12685\n",
      "[[   5  215    1  121  170  102  194   30  690  253  728  767  205    1\n",
      "  1026   15  332    8  811   48 1115  349  380   21    0]\n",
      " [  43   19  310   34    3   45  152  140  197 1244  159  188   45  324\n",
      "     0    0    0    0    0    0    0    0    0    0    0]\n",
      " [  52  270   13   61   26  135  182  147  873  801   16 2083   51   15\n",
      "    48    0    0    0    0    0    0    0    0    0    0]\n",
      " [ 295  109  236  375  592   14  148   36  667 1052  747   72  195  115\n",
      "  1027  188    0    0    0    0    0    0    0    0    0]\n",
      " [  43  329  189   64   13   61   45  152    6  748  153  118   11   45\n",
      "     0    0    0    0    0    0    0    0    0    0    0]]\n",
      "<class 'numpy.ndarray'>\n"
     ]
    }
   ],
   "source": [
    "X_train, X_test, y_train, y_test = train_test_split(mod_X, y, test_size=0.20, random_state=42)\n",
    "print(X_test[1])\n",
    "#why fix num words\n",
    "tokenizer = Tokenizer(num_words=5000)\n",
    "tokenizer.fit_on_texts(X_train)\n",
    "\n",
    "X_train = tokenizer.texts_to_sequences(X_train)\n",
    "X_test = tokenizer.texts_to_sequences(X_test)\n",
    "\n",
    "vocab_size = len(tokenizer.word_index) + 1\n",
    "#what is max len\n",
    "maxlen = 25\n",
    "\n",
    "X_train = pad_sequences(X_train, padding='post', maxlen=maxlen)\n",
    "X_test = pad_sequences(X_test, padding='post', maxlen=maxlen)\n",
    "print(X_train[5:10])\n",
    "print(type(X_train[1]))"
   ]
  },
  {
   "cell_type": "code",
   "execution_count": 103,
   "metadata": {},
   "outputs": [
    {
     "name": "stdout",
     "output_type": "stream",
     "text": [
      "<class 'numpy.ndarray'>\n",
      "<class 'numpy.ndarray'>\n",
      "[  5  19  46 836  16 662  93 535 158   4 325  40 977  22   0   0   0   0\n",
      "   0   0   0   0   0   0   0]\n"
     ]
    }
   ],
   "source": [
    "print(type(X_test))\n",
    "print(type(y_train))\n",
    "print(X_test[1])"
   ]
  },
  {
   "cell_type": "code",
   "execution_count": 104,
   "metadata": {},
   "outputs": [
    {
     "name": "stdout",
     "output_type": "stream",
     "text": [
      "<class 'numpy.ndarray'>\n"
     ]
    }
   ],
   "source": [
    "from numpy import array\n",
    "from numpy import asarray\n",
    "from numpy import zeros\n",
    "import pickle\n",
    "\n",
    "#banlist=[\"w34894\", \"w194870\", \"w217871\", \"w311583\"]\n",
    "embeddings_dictionary = pd.read_pickle(\"word_embeddings.pkl\")\n",
    "\n",
    "embedding_matrix = zeros((vocab_size, 100))\n",
    "for word, index in tokenizer.word_index.items():\n",
    "#    if word in banlist:\n",
    "#        continue\n",
    "    embedding_vector = embeddings_dictionary.get(word)\n",
    "    if embedding_vector is not None :\n",
    "        embedding_matrix[index] = embedding_vector\n",
    "print(type(embedding_matrix))"
   ]
  },
  {
   "cell_type": "code",
   "execution_count": 105,
   "metadata": {},
   "outputs": [],
   "source": [
    "from tensorflow.keras.layers import Bidirectional\n",
    "model = Sequential()\n",
    "#model.add(tensorflow.keras.Input(shape=(maxlen,)))\n",
    "model.add(Embedding(vocab_size, 100, weights=[embedding_matrix], trainable=False, input_shape=(maxlen,)))\n",
    "model.add(Bidirectional(LSTM(132, return_sequences=False),merge_mode=\"concat\"))\n",
    "model.add(Dropout(0.2))\n",
    "# model.add(Dense(units=50))\n",
    "model.add(Dense(units=5))\n",
    "model.add(Activation('sigmoid'))\n",
    "model.compile(loss='binary_crossentropy', optimizer='adam', metrics=['acc'])\n"
   ]
  },
  {
   "cell_type": "code",
   "execution_count": 106,
   "metadata": {},
   "outputs": [
    {
     "name": "stdout",
     "output_type": "stream",
     "text": [
      "Model: \"sequential_4\"\n",
      "_________________________________________________________________\n",
      "Layer (type)                 Output Shape              Param #   \n",
      "=================================================================\n",
      "embedding_7 (Embedding)      (None, 25, 100)           396100    \n",
      "_________________________________________________________________\n",
      "bidirectional_4 (Bidirection (None, 264)               246048    \n",
      "_________________________________________________________________\n",
      "dropout_4 (Dropout)          (None, 264)               0         \n",
      "_________________________________________________________________\n",
      "dense_7 (Dense)              (None, 5)                 1325      \n",
      "_________________________________________________________________\n",
      "activation_4 (Activation)    (None, 5)                 0         \n",
      "=================================================================\n",
      "Total params: 643,473\n",
      "Trainable params: 247,373\n",
      "Non-trainable params: 396,100\n",
      "_________________________________________________________________\n",
      "None\n",
      "<class 'numpy.ndarray'>\n",
      "25\n",
      "7380\n",
      "[  5  19  46 836  16 662  93 535 158   4 325  40 977  22   0   0   0   0\n",
      "   0   0   0   0   0   0   0]\n"
     ]
    }
   ],
   "source": [
    "print(model.summary())\n",
    "print(type(X_test))\n",
    "print(len(X_test[1]))\n",
    "print(len(X))\n",
    "print(X_test[1])"
   ]
  },
  {
   "cell_type": "code",
   "execution_count": 107,
   "metadata": {},
   "outputs": [
    {
     "name": "stdout",
     "output_type": "stream",
     "text": [
      "Epoch 1/10\n",
      "48/48 [==============================] - 2s 45ms/step - loss: 0.5442 - acc: 0.3195 - val_loss: 0.4497 - val_acc: 0.4682\n",
      "Epoch 2/10\n",
      "48/48 [==============================] - 2s 33ms/step - loss: 0.3824 - acc: 0.5336 - val_loss: 0.3260 - val_acc: 0.5961\n",
      "Epoch 3/10\n",
      "48/48 [==============================] - 2s 32ms/step - loss: 0.3000 - acc: 0.5981 - val_loss: 0.2920 - val_acc: 0.6494\n",
      "Epoch 4/10\n",
      "48/48 [==============================] - 2s 33ms/step - loss: 0.2565 - acc: 0.6231 - val_loss: 0.2740 - val_acc: 0.6774\n",
      "Epoch 5/10\n",
      "48/48 [==============================] - 2s 33ms/step - loss: 0.2264 - acc: 0.6259 - val_loss: 0.2719 - val_acc: 0.6325\n",
      "Epoch 6/10\n",
      "48/48 [==============================] - 2s 33ms/step - loss: 0.2128 - acc: 0.6409 - val_loss: 0.2450 - val_acc: 0.6740\n",
      "Epoch 7/10\n",
      "48/48 [==============================] - 2s 32ms/step - loss: 0.1886 - acc: 0.6288 - val_loss: 0.2469 - val_acc: 0.6622\n",
      "Epoch 8/10\n",
      "48/48 [==============================] - 2s 32ms/step - loss: 0.1757 - acc: 0.6193 - val_loss: 0.2277 - val_acc: 0.6190\n",
      "Epoch 9/10\n",
      "48/48 [==============================] - 2s 32ms/step - loss: 0.1552 - acc: 0.6111 - val_loss: 0.2414 - val_acc: 0.6300\n",
      "Epoch 10/10\n",
      "48/48 [==============================] - 2s 32ms/step - loss: 0.1424 - acc: 0.6123 - val_loss: 0.2359 - val_acc: 0.6520\n"
     ]
    }
   ],
   "source": [
    "history = model.fit(X_train, y_train, batch_size=100, epochs=10, verbose=1, validation_split=0.2)"
   ]
  },
  {
   "cell_type": "code",
   "execution_count": 108,
   "metadata": {},
   "outputs": [
    {
     "name": "stdout",
     "output_type": "stream",
     "text": [
      "47/47 [==============================] - 0s 6ms/step - loss: 0.2234 - acc: 0.6064\n",
      "Test Score: 0.22341468930244446\n",
      "Test Accuracy: 0.6063685417175293\n"
     ]
    }
   ],
   "source": [
    "score = model.evaluate(X_test, y_test, verbose=1)\n",
    "\n",
    "print(\"Test Score:\", score[0])\n",
    "print(\"Test Accuracy:\", score[1])\n",
    "#round off sigmoid values to 0 or 1?"
   ]
  },
  {
   "cell_type": "code",
   "execution_count": 109,
   "metadata": {},
   "outputs": [
    {
     "data": {
      "image/png": "[encoded data removed]",
      "text/plain": [
       "<Figure size 720x576 with 1 Axes>"
      ]
     },
     "metadata": {
      "needs_background": "light"
     },
     "output_type": "display_data"
    },
    {
     "data": {
      "image/png": "[encoded data removed]",
      "text/plain": [
       "<Figure size 720x576 with 1 Axes>"
      ]
     },
     "metadata": {
      "needs_background": "light"
     },
     "output_type": "display_data"
    }
   ],
   "source": [
    "plt.plot(history.history['acc'])\n",
    "plt.plot(history.history['val_acc'])\n",
    "\n",
    "plt.title('model accuracy')\n",
    "plt.ylabel('accuracy')\n",
    "plt.xlabel('epoch')\n",
    "plt.legend(['train','test'], loc='upper left')\n",
    "plt.show()\n",
    "\n",
    "plt.plot(history.history['loss'])\n",
    "plt.plot(history.history['val_loss'])\n",
    "\n",
    "plt.title('model loss')\n",
    "plt.ylabel('loss')\n",
    "plt.xlabel('epoch')\n",
    "plt.legend(['train','test'], loc='upper left')\n",
    "plt.show()"
   ]
  },
  {
   "cell_type": "code",
   "execution_count": 110,
   "metadata": {},
   "outputs": [
    {
     "name": "stdout",
     "output_type": "stream",
     "text": [
      "<class 'numpy.ndarray'>\n"
     ]
    }
   ],
   "source": [
    "df_val = pd.read_csv('C:\\\\Users\\\\Raphael\\\\Downloads\\\\TIL_NLP_test_dataset.csv')\n",
    "df_val.head(10)\n",
    "X_val=df_val['word_representation'].values\n",
    "print(type(X_val))"
   ]
  },
  {
   "cell_type": "code",
   "execution_count": 111,
   "metadata": {},
   "outputs": [
    {
     "name": "stdout",
     "output_type": "stream",
     "text": [
      "w237465 w167111 w279437 w194870 w351537 w175602 w209059 w118125 w120979 w150520 w59496 w34893 w189307 w144920 w187552 w239430 w162756 w255783 w342007\n"
     ]
    }
   ],
   "source": [
    "print(X_val[1])\n",
    "mod_X = tokenizer.texts_to_sequences(mod_X)\n",
    "X_val = tokenizer.texts_to_sequences(X_val)\n",
    "mod_X = pad_sequences(mod_X, padding='post', maxlen=maxlen)\n",
    "X_val = pad_sequences(X_val, padding='post', maxlen=maxlen)"
   ]
  },
  {
   "cell_type": "code",
   "execution_count": 112,
   "metadata": {},
   "outputs": [
    {
     "name": "stdout",
     "output_type": "stream",
     "text": [
      "Epoch 1/10\n",
      "33/33 [==============================] - 2s 60ms/step - loss: 0.1695 - acc: 0.6125 - val_loss: 0.1444 - val_acc: 0.5944\n",
      "Epoch 2/10\n",
      "33/33 [==============================] - 2s 59ms/step - loss: 0.1484 - acc: 0.5925 - val_loss: 0.1518 - val_acc: 0.6179\n",
      "Epoch 3/10\n",
      "33/33 [==============================] - 2s 59ms/step - loss: 0.1374 - acc: 0.5945 - val_loss: 0.1580 - val_acc: 0.5158\n",
      "Epoch 4/10\n",
      "33/33 [==============================] - 2s 59ms/step - loss: 0.1253 - acc: 0.5867 - val_loss: 0.1494 - val_acc: 0.5903\n",
      "Epoch 5/10\n",
      "33/33 [==============================] - 2s 59ms/step - loss: 0.1156 - acc: 0.5908 - val_loss: 0.1442 - val_acc: 0.6161\n",
      "Epoch 6/10\n",
      "33/33 [==============================] - 2s 60ms/step - loss: 0.1131 - acc: 0.5832 - val_loss: 0.1677 - val_acc: 0.5863\n",
      "Epoch 7/10\n",
      "33/33 [==============================] - 2s 59ms/step - loss: 0.1057 - acc: 0.5741 - val_loss: 0.1488 - val_acc: 0.5456\n",
      "Epoch 8/10\n",
      "33/33 [==============================] - 2s 59ms/step - loss: 0.0945 - acc: 0.5784 - val_loss: 0.1575 - val_acc: 0.5876\n",
      "Epoch 9/10\n",
      "33/33 [==============================] - 2s 59ms/step - loss: 0.0838 - acc: 0.5964 - val_loss: 0.1573 - val_acc: 0.5407\n",
      "Epoch 10/10\n",
      "33/33 [==============================] - 2s 59ms/step - loss: 0.0782 - acc: 0.5749 - val_loss: 0.1706 - val_acc: 0.5930\n"
     ]
    }
   ],
   "source": [
    "history = model.fit(mod_X, y, batch_size=160, epochs=10, verbose=1, validation_split=0.3)"
   ]
  },
  {
   "cell_type": "code",
   "execution_count": 113,
   "metadata": {},
   "outputs": [
    {
     "name": "stdout",
     "output_type": "stream",
     "text": [
      "77/77 [==============================] - 0s 6ms/step\n",
      "[[0. 1. 1. 0. 0.]\n",
      " [1. 1. 0. 0. 0.]\n",
      " [1. 0. 1. 0. 0.]\n",
      " ...\n",
      " [1. 0. 1. 0. 0.]\n",
      " [0. 1. 1. 0. 0.]\n",
      " [0. 0. 1. 0. 1.]]\n"
     ]
    },
    {
     "data": {
      "text/plain": [
       "numpy.float32"
      ]
     },
     "execution_count": 113,
     "metadata": {},
     "output_type": "execute_result"
    }
   ],
   "source": [
    "preds_val = model.predict(X_val, verbose = 1)\n",
    "preds_val[preds_val>=0.5] = 1\n",
    "preds_val[preds_val<0.5] = 0\n",
    "\n",
    "print(preds_val)\n",
    "type(preds_val[1,1])"
   ]
  },
  {
   "cell_type": "code",
   "execution_count": 114,
   "metadata": {},
   "outputs": [
    {
     "name": "stdout",
     "output_type": "stream",
     "text": [
      "      outwear  top  trousers  women dresses  women skirts\n",
      "id                                                       \n",
      "0         0.0  1.0       1.0            0.0           0.0\n",
      "1         1.0  1.0       0.0            0.0           0.0\n",
      "2         1.0  0.0       1.0            0.0           0.0\n",
      "3         0.0  1.0       1.0            0.0           0.0\n",
      "4         1.0  1.0       0.0            0.0           0.0\n",
      "...       ...  ...       ...            ...           ...\n",
      "2455      0.0  0.0       1.0            1.0           0.0\n",
      "2456      1.0  0.0       1.0            0.0           0.0\n",
      "2457      1.0  0.0       1.0            0.0           0.0\n",
      "2458      0.0  1.0       1.0            0.0           0.0\n",
      "2459      0.0  0.0       1.0            0.0           1.0\n",
      "\n",
      "[2460 rows x 5 columns]\n"
     ]
    },
    {
     "data": {
      "text/plain": [
       "outwear          int32\n",
       "top              int32\n",
       "trousers         int32\n",
       "women dresses    int32\n",
       "women skirts     int32\n",
       "dtype: object"
      ]
     },
     "execution_count": 114,
     "metadata": {},
     "output_type": "execute_result"
    }
   ],
   "source": [
    "preds_val_df=pd.DataFrame(data=preds_val, columns = [\"outwear\",\"top\",\"trousers\",\"women dresses\",\"women skirts\"])\n",
    "preds_val_df.index.name = \"id\"\n",
    "\n",
    "print(preds_val_df)\n",
    "preds_val_df = preds_val_df.astype(int)\n",
    "preds_val_df.dtypes"
   ]
  },
  {
   "cell_type": "code",
   "execution_count": 116,
   "metadata": {},
   "outputs": [],
   "source": [
    "preds_val_df.to_csv(\"cantstopwontstop.csv\")"
   ]
  }
 ],
 "metadata": {
  "kernelspec": {
   "display_name": "Python 3.6.8 64-bit ('TIL-2020': pipenv)",
   "language": "python",
   "name": "python36864bittil2020pipenv2f21c983fd1542a19b317973bf347e7d"
  },
  "language_info": {
   "name": ""
  }
 },
 "nbformat": 4,
 "nbformat_minor": 4
}
