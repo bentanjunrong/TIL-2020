{
 "cells": [
  {
   "cell_type": "code",
   "execution_count": 1,
   "metadata": {},
   "outputs": [],
   "source": [
    "from numpy import array\n",
    "from tensorflow.keras.preprocessing.text import one_hot\n",
    "from tensorflow.keras.preprocessing.sequence import pad_sequences\n",
    "from tensorflow.keras.models import Sequential\n",
    "from tensorflow.keras.layers import Activation, Dropout, Dense\n",
    "from tensorflow.keras.layers import Flatten, LSTM\n",
    "from tensorflow.keras.layers import GlobalMaxPooling1D\n",
    "from tensorflow.keras.models import Model\n",
    "from tensorflow.keras.layers import Embedding\n",
    "from sklearn.model_selection import train_test_split\n",
    "from tensorflow.keras.preprocessing.text import Tokenizer\n",
    "from tensorflow.keras.layers import Input\n",
    "from tensorflow.keras.layers import Concatenate\n",
    "import tensorflow\n",
    "\n",
    "import pandas as pd\n",
    "import pandas as pd\n",
    "import numpy as np\n",
    "import re\n",
    "\n",
    "import matplotlib.pyplot as plt"
   ]
  },
  {
   "cell_type": "code",
   "execution_count": 2,
   "metadata": {},
   "outputs": [
    {
     "data": {
      "text/html": [
       "<div>\n",
       "<style scoped>\n",
       "    .dataframe tbody tr th:only-of-type {\n",
       "        vertical-align: middle;\n",
       "    }\n",
       "\n",
       "    .dataframe tbody tr th {\n",
       "        vertical-align: top;\n",
       "    }\n",
       "\n",
       "    .dataframe thead th {\n",
       "        text-align: right;\n",
       "    }\n",
       "</style>\n",
       "<table border=\"1\" class=\"dataframe\">\n",
       "  <thead>\n",
       "    <tr style=\"text-align: right;\">\n",
       "      <th></th>\n",
       "      <th>id</th>\n",
       "      <th>word_representation</th>\n",
       "      <th>outwear</th>\n",
       "      <th>top</th>\n",
       "      <th>trousers</th>\n",
       "      <th>women dresses</th>\n",
       "      <th>women skirts</th>\n",
       "    </tr>\n",
       "  </thead>\n",
       "  <tbody>\n",
       "    <tr>\n",
       "      <th>0</th>\n",
       "      <td>0</td>\n",
       "      <td>w7718 w173355 w138132 w232277 w90685 w314686 w...</td>\n",
       "      <td>1</td>\n",
       "      <td>0</td>\n",
       "      <td>1</td>\n",
       "      <td>0</td>\n",
       "      <td>0</td>\n",
       "    </tr>\n",
       "    <tr>\n",
       "      <th>1</th>\n",
       "      <td>1</td>\n",
       "      <td>w195317 w127737 w171593 w22890 w342007 w217871...</td>\n",
       "      <td>1</td>\n",
       "      <td>0</td>\n",
       "      <td>1</td>\n",
       "      <td>0</td>\n",
       "      <td>0</td>\n",
       "    </tr>\n",
       "    <tr>\n",
       "      <th>2</th>\n",
       "      <td>2</td>\n",
       "      <td>w247655 w270233 w261113 w337250 w366000 w37873...</td>\n",
       "      <td>0</td>\n",
       "      <td>1</td>\n",
       "      <td>1</td>\n",
       "      <td>0</td>\n",
       "      <td>0</td>\n",
       "    </tr>\n",
       "    <tr>\n",
       "      <th>3</th>\n",
       "      <td>3</td>\n",
       "      <td>w279289 w395855 w61795 w286461 w308610 w27013 ...</td>\n",
       "      <td>1</td>\n",
       "      <td>0</td>\n",
       "      <td>1</td>\n",
       "      <td>0</td>\n",
       "      <td>0</td>\n",
       "    </tr>\n",
       "    <tr>\n",
       "      <th>4</th>\n",
       "      <td>4</td>\n",
       "      <td>w254516 w135431 w115724 w331534 w256214 w71240...</td>\n",
       "      <td>1</td>\n",
       "      <td>0</td>\n",
       "      <td>1</td>\n",
       "      <td>0</td>\n",
       "      <td>0</td>\n",
       "    </tr>\n",
       "    <tr>\n",
       "      <th>5</th>\n",
       "      <td>5</td>\n",
       "      <td>w53495 w306061 w372126 w47982 w66980 w189406 w...</td>\n",
       "      <td>1</td>\n",
       "      <td>0</td>\n",
       "      <td>0</td>\n",
       "      <td>0</td>\n",
       "      <td>1</td>\n",
       "    </tr>\n",
       "    <tr>\n",
       "      <th>6</th>\n",
       "      <td>6</td>\n",
       "      <td>w237465 w256553 w286461 w382662 w206066 w12125...</td>\n",
       "      <td>1</td>\n",
       "      <td>0</td>\n",
       "      <td>0</td>\n",
       "      <td>1</td>\n",
       "      <td>0</td>\n",
       "    </tr>\n",
       "    <tr>\n",
       "      <th>7</th>\n",
       "      <td>7</td>\n",
       "      <td>w173317 w39222 w207614 w136665 w394246 w197783...</td>\n",
       "      <td>1</td>\n",
       "      <td>1</td>\n",
       "      <td>1</td>\n",
       "      <td>0</td>\n",
       "      <td>0</td>\n",
       "    </tr>\n",
       "    <tr>\n",
       "      <th>8</th>\n",
       "      <td>8</td>\n",
       "      <td>w373517 w37419 w358253 w162965 w286461 w204762...</td>\n",
       "      <td>1</td>\n",
       "      <td>0</td>\n",
       "      <td>0</td>\n",
       "      <td>0</td>\n",
       "      <td>0</td>\n",
       "    </tr>\n",
       "    <tr>\n",
       "      <th>9</th>\n",
       "      <td>9</td>\n",
       "      <td>w230409 w109269 w369689 w186076 w377961 w21787...</td>\n",
       "      <td>1</td>\n",
       "      <td>1</td>\n",
       "      <td>0</td>\n",
       "      <td>0</td>\n",
       "      <td>0</td>\n",
       "    </tr>\n",
       "  </tbody>\n",
       "</table>\n",
       "</div>"
      ],
      "text/plain": [
       "   id                                word_representation  outwear  top  \\\n",
       "0   0  w7718 w173355 w138132 w232277 w90685 w314686 w...        1    0   \n",
       "1   1  w195317 w127737 w171593 w22890 w342007 w217871...        1    0   \n",
       "2   2  w247655 w270233 w261113 w337250 w366000 w37873...        0    1   \n",
       "3   3  w279289 w395855 w61795 w286461 w308610 w27013 ...        1    0   \n",
       "4   4  w254516 w135431 w115724 w331534 w256214 w71240...        1    0   \n",
       "5   5  w53495 w306061 w372126 w47982 w66980 w189406 w...        1    0   \n",
       "6   6  w237465 w256553 w286461 w382662 w206066 w12125...        1    0   \n",
       "7   7  w173317 w39222 w207614 w136665 w394246 w197783...        1    1   \n",
       "8   8  w373517 w37419 w358253 w162965 w286461 w204762...        1    0   \n",
       "9   9  w230409 w109269 w369689 w186076 w377961 w21787...        1    1   \n",
       "\n",
       "   trousers  women dresses  women skirts  \n",
       "0         1              0             0  \n",
       "1         1              0             0  \n",
       "2         1              0             0  \n",
       "3         1              0             0  \n",
       "4         1              0             0  \n",
       "5         0              0             1  \n",
       "6         0              1             0  \n",
       "7         1              0             0  \n",
       "8         0              0             0  \n",
       "9         0              0             0  "
      ]
     },
     "execution_count": 2,
     "metadata": {},
     "output_type": "execute_result"
    }
   ],
   "source": [
    "\n",
    "df = pd.read_csv('C:\\\\Users\\\\Raphael\\\\Downloads\\\\TIL_NLP_train_dataset.csv')\n",
    "df.head(10)"
   ]
  },
  {
   "cell_type": "code",
   "execution_count": 3,
   "metadata": {},
   "outputs": [
    {
     "data": {
      "text/html": [
       "<div>\n",
       "<style scoped>\n",
       "    .dataframe tbody tr th:only-of-type {\n",
       "        vertical-align: middle;\n",
       "    }\n",
       "\n",
       "    .dataframe tbody tr th {\n",
       "        vertical-align: top;\n",
       "    }\n",
       "\n",
       "    .dataframe thead th {\n",
       "        text-align: right;\n",
       "    }\n",
       "</style>\n",
       "<table border=\"1\" class=\"dataframe\">\n",
       "  <thead>\n",
       "    <tr style=\"text-align: right;\">\n",
       "      <th></th>\n",
       "      <th>outwear</th>\n",
       "      <th>top</th>\n",
       "      <th>trousers</th>\n",
       "      <th>women dresses</th>\n",
       "      <th>women skirts</th>\n",
       "    </tr>\n",
       "  </thead>\n",
       "  <tbody>\n",
       "    <tr>\n",
       "      <th>0</th>\n",
       "      <td>1</td>\n",
       "      <td>0</td>\n",
       "      <td>1</td>\n",
       "      <td>0</td>\n",
       "      <td>0</td>\n",
       "    </tr>\n",
       "    <tr>\n",
       "      <th>1</th>\n",
       "      <td>1</td>\n",
       "      <td>0</td>\n",
       "      <td>1</td>\n",
       "      <td>0</td>\n",
       "      <td>0</td>\n",
       "    </tr>\n",
       "    <tr>\n",
       "      <th>2</th>\n",
       "      <td>0</td>\n",
       "      <td>1</td>\n",
       "      <td>1</td>\n",
       "      <td>0</td>\n",
       "      <td>0</td>\n",
       "    </tr>\n",
       "    <tr>\n",
       "      <th>3</th>\n",
       "      <td>1</td>\n",
       "      <td>0</td>\n",
       "      <td>1</td>\n",
       "      <td>0</td>\n",
       "      <td>0</td>\n",
       "    </tr>\n",
       "    <tr>\n",
       "      <th>4</th>\n",
       "      <td>1</td>\n",
       "      <td>0</td>\n",
       "      <td>1</td>\n",
       "      <td>0</td>\n",
       "      <td>0</td>\n",
       "    </tr>\n",
       "  </tbody>\n",
       "</table>\n",
       "</div>"
      ],
      "text/plain": [
       "   outwear  top  trousers  women dresses  women skirts\n",
       "0        1    0         1              0             0\n",
       "1        1    0         1              0             0\n",
       "2        0    1         1              0             0\n",
       "3        1    0         1              0             0\n",
       "4        1    0         1              0             0"
      ]
     },
     "execution_count": 3,
     "metadata": {},
     "output_type": "execute_result"
    }
   ],
   "source": [
    "df_labels = df[[\"outwear\", \"top\", \"trousers\", \"women dresses\", \"women skirts\"]]\n",
    "df_labels.head()"
   ]
  },
  {
   "cell_type": "code",
   "execution_count": 4,
   "metadata": {},
   "outputs": [
    {
     "data": {
      "text/plain": [
       "<matplotlib.axes._subplots.AxesSubplot at 0x24e7e158208>"
      ]
     },
     "execution_count": 4,
     "metadata": {},
     "output_type": "execute_result"
    },
    {
     "data": {
      "image/png": "[encoded data removed]",
      "text/plain": [
       "<Figure size 720x576 with 1 Axes>"
      ]
     },
     "metadata": {
      "needs_background": "light"
     },
     "output_type": "display_data"
    }
   ],
   "source": [
    "fig_size = plt.rcParams[\"figure.figsize\"]\n",
    "fig_size[0] = 10\n",
    "fig_size[1] = 8\n",
    "plt.rcParams[\"figure.figsize\"] = fig_size\n",
    "\n",
    "df_labels.sum(axis=0).plot.bar()"
   ]
  },
  {
   "cell_type": "code",
   "execution_count": 5,
   "metadata": {},
   "outputs": [
    {
     "name": "stdout",
     "output_type": "stream",
     "text": [
      "w195317 w127737 w171593 w22890 w342007 w217871 w289824 w500005 w85858 w241910 w194870 w192814 w127834 w263923 w241910\n",
      "<class 'list'>\n",
      "w195317 w127737 w171593 w22890 w342007 w217871 w289824 w500005 w85858 w241910 w194870 w192814 w127834 w263923 w241910\n",
      "<class 'str'>\n"
     ]
    }
   ],
   "source": [
    "X = list(df[\"word_representation\"])\n",
    "y = df_labels.values\n",
    "print(X[1])\n",
    "print( type(X))\n",
    "banlist=[]\n",
    "mod_X = []\n",
    "for sen in X:\n",
    "    tmp = sen.split(\" \")\n",
    "    ans = [x for x in tmp if x not in banlist]\n",
    "    mod_sen = (\" \").join(ans)\n",
    "    mod_X.append(mod_sen)\n",
    "\n",
    "print(mod_X[1])\n",
    "print(type(X[1]))"
   ]
  },
  {
   "cell_type": "code",
   "execution_count": 6,
   "metadata": {},
   "outputs": [
    {
     "name": "stdout",
     "output_type": "stream",
     "text": [
      "w195317 w256553 w39218 w288320 w1867 w120979 w66980 w194870 w13069 w42169 w251935 w185379 w111248 w376672 w85858 w166407 w12685\n",
      "[[  13  223    4    1  129  178  110  202   38  698  261  736  775  213\n",
      "     1 1034   23  340   16  819   56 1123  357  388   29    0]\n",
      " [  51   27  318   42   11    5   53  160    3  148  205 1252  167  196\n",
      "    53  332    0    0    0    0    0    0    0    0    0    0]\n",
      " [  60  278   21   69   34  143  190    8    4  155  881  809   24    7\n",
      "  2091   59   23   56    0    0    0    0    0    0    0    0]\n",
      " [   2  303  117  244  383    8  600   22  156   44  675 1060  755   80\n",
      "     7    3  203  123 1035  196    0    0    0    0    0    0]\n",
      " [  51  337  197   72   21   69    8   53  160    3   14  756  161  126\n",
      "    19    5   53    0    0    0    0    0    0    0    0    0]\n",
      " [ 757  794  737  239   76  601   16   48   45   42 2704  128 1061   63\n",
      "    11    0    0    0    0    0    0    0    0    0    0    0]\n",
      " [ 163    6  471    4  618   58  546   51    4   57   34   30    0    0\n",
      "     0    0    0    0    0    0    0    0    0    0    0    0]\n",
      " [ 699  676   27   10    1  105 1770  136  284  115    3   62  181   17\n",
      "     0    0    0    0    0    0    0    0    0    0    0    0]\n",
      " [ 758  117  285  984  164 1414    2 1036 2092  153    9   25  602    3\n",
      "    13  603   99   75    5  192  165  296 2093  776  130   74]\n",
      " [ 119  985   33   18  759    1  174  795  738    5   81  265  739  882\n",
      "   852  217   77   29    0    0    0    0    0    0    0    0]\n",
      " [ 699  676   27  645   10  105 1062  796 1253  366   80    7    3 2705\n",
      "   933   17  232  233   30    0    0    0    0    0    0    0]\n",
      " [  32  485  486  165  547    9   87    3  214 1063 1322   18    3   31\n",
      "   245  869   15  250  126  677   43  619  104  604    0    0]\n",
      " [  43  377   67  835  986   70 1200    8   64   46  576  351   11  820\n",
      "   836    0    0    0    0    0    0    0    0    0    0    0]\n",
      " [   1  678   15  858 1037  724   21   16   29  172  944   33   34  837\n",
      "   371   17  113 2094 2706   52  291    2  416    0    0    0]\n",
      " [  13   75   15    2  137   10  199   25  973 1155   89   74  129  178\n",
      "   110  202    0    0    0    0    0    0    0    0    0    0]]\n",
      "<class 'numpy.ndarray'>\n"
     ]
    }
   ],
   "source": [
    "X_train, X_test, y_train, y_test = train_test_split(mod_X, y, test_size=0.20, random_state=42)\n",
    "print(X_test[1])\n",
    "#why fix num words\n",
    "tokenizer = Tokenizer(num_words=4250)\n",
    "tokenizer.fit_on_texts(X_train)\n",
    "\n",
    "X_train = tokenizer.texts_to_sequences(X_train)\n",
    "X_test = tokenizer.texts_to_sequences(X_test)\n",
    "\n",
    "vocab_size = len(tokenizer.word_index) + 1\n",
    "#what is max len\n",
    "maxlen = 26\n",
    "padding = 'post'\n",
    "truncating = 'pre'\n",
    "X_train = pad_sequences(X_train, padding=padding, maxlen=maxlen, truncating = truncating)\n",
    "X_test = pad_sequences(X_test, padding=padding, maxlen=maxlen, truncating = truncating)\n",
    "print(X_train[5:20])\n",
    "print(type(X_train[1]))"
   ]
  },
  {
   "cell_type": "code",
   "execution_count": 7,
   "metadata": {},
   "outputs": [
    {
     "name": "stdout",
     "output_type": "stream",
     "text": [
      "<class 'numpy.ndarray'>\n",
      "<class 'numpy.ndarray'>\n",
      "[ 13  27  54 844  24   7   9   2 670 101 543 166  12 333  48 985  30   0\n",
      "   0   0   0   0   0   0   0   0]\n"
     ]
    }
   ],
   "source": [
    "print(type(X_test))\n",
    "print(type(y_train))\n",
    "print(X_test[1])"
   ]
  },
  {
   "cell_type": "code",
   "execution_count": 8,
   "metadata": {},
   "outputs": [
    {
     "name": "stdout",
     "output_type": "stream",
     "text": [
      "<class 'numpy.ndarray'>\n",
      "3969\n"
     ]
    }
   ],
   "source": [
    "from numpy import array\n",
    "from numpy import asarray\n",
    "from numpy import zeros\n",
    "import pickle\n",
    "\n",
    "#banlist=[\"w34894\", \"w194870\", \"w217871\", \"w311583\"]\n",
    "embeddings_dictionary = pd.read_pickle(\"word_embeddings.pkl\")\n",
    "\n",
    "embedding_matrix = zeros((vocab_size, 100))\n",
    "for word, index in tokenizer.word_index.items():\n",
    "#    if word in banlist:\n",
    "#        continue\n",
    "    embedding_vector = embeddings_dictionary.get(word)\n",
    "    if embedding_vector is not None :\n",
    "        embedding_matrix[index] = embedding_vector\n",
    "print(type(embedding_matrix))\n",
    "print(len(embedding_matrix))"
   ]
  },
  {
   "cell_type": "code",
   "execution_count": 9,
   "metadata": {},
   "outputs": [],
   "source": [
    "from tensorflow.keras.layers import Bidirectional\n",
    "model = Sequential()\n",
    "#model.add(tensorflow.keras.Input(shape=(maxlen,)))\n",
    "model.add(Embedding(vocab_size, 100, weights=[embedding_matrix], trainable=False, input_shape=(maxlen,)))\n",
    "model.add(Bidirectional(LSTM(132, return_sequences=False),merge_mode=\"concat\"))\n",
    "model.add(Dropout(0.2))\n",
    "# model.add(Dense(units=50))\n",
    "model.add(Dense(units=5))\n",
    "model.add(Activation('sigmoid'))\n",
    "model.compile(loss='binary_crossentropy', optimizer='adam', metrics=['acc'])\n"
   ]
  },
  {
   "cell_type": "code",
   "execution_count": 10,
   "metadata": {},
   "outputs": [
    {
     "name": "stdout",
     "output_type": "stream",
     "text": [
      "Model: \"sequential\"\n",
      "_________________________________________________________________\n",
      "Layer (type)                 Output Shape              Param #   \n",
      "=================================================================\n",
      "embedding (Embedding)        (None, 26, 100)           396900    \n",
      "_________________________________________________________________\n",
      "bidirectional (Bidirectional (None, 264)               246048    \n",
      "_________________________________________________________________\n",
      "dropout (Dropout)            (None, 264)               0         \n",
      "_________________________________________________________________\n",
      "dense (Dense)                (None, 5)                 1325      \n",
      "_________________________________________________________________\n",
      "activation (Activation)      (None, 5)                 0         \n",
      "=================================================================\n",
      "Total params: 644,273\n",
      "Trainable params: 247,373\n",
      "Non-trainable params: 396,900\n",
      "_________________________________________________________________\n",
      "None\n",
      "<class 'numpy.ndarray'>\n",
      "26\n",
      "7380\n",
      "[ 13  27  54 844  24   7   9   2 670 101 543 166  12 333  48 985  30   0\n",
      "   0   0   0   0   0   0   0   0]\n"
     ]
    }
   ],
   "source": [
    "print(model.summary())\n",
    "print(type(X_test))\n",
    "print(len(X_test[1]))\n",
    "print(len(X))\n",
    "print(X_test[1])"
   ]
  },
  {
   "cell_type": "code",
   "execution_count": 11,
   "metadata": {},
   "outputs": [
    {
     "name": "stdout",
     "output_type": "stream",
     "text": [
      "Epoch 1/15\n",
      "36/36 [==============================] - 2s 61ms/step - loss: 0.5566 - acc: 0.2649 - val_loss: 0.4481 - val_acc: 0.3912\n",
      "Epoch 2/15\n",
      "36/36 [==============================] - 2s 46ms/step - loss: 0.3701 - acc: 0.5075 - val_loss: 0.3043 - val_acc: 0.5876\n",
      "Epoch 3/15\n",
      "36/36 [==============================] - 2s 45ms/step - loss: 0.2562 - acc: 0.5581 - val_loss: 0.2204 - val_acc: 0.5775\n",
      "Epoch 4/15\n",
      "36/36 [==============================] - 2s 47ms/step - loss: 0.1896 - acc: 0.5477 - val_loss: 0.1761 - val_acc: 0.5893\n",
      "Epoch 5/15\n",
      "36/36 [==============================] - 2s 46ms/step - loss: 0.1476 - acc: 0.5414 - val_loss: 0.1649 - val_acc: 0.5707\n",
      "Epoch 6/15\n",
      "36/36 [==============================] - 2s 46ms/step - loss: 0.1293 - acc: 0.5403 - val_loss: 0.1525 - val_acc: 0.5843\n",
      "Epoch 7/15\n",
      "36/36 [==============================] - 2s 45ms/step - loss: 0.1126 - acc: 0.5247 - val_loss: 0.1473 - val_acc: 0.5826\n",
      "Epoch 8/15\n",
      "36/36 [==============================] - 2s 45ms/step - loss: 0.0982 - acc: 0.5389 - val_loss: 0.1415 - val_acc: 0.6240\n",
      "Epoch 9/15\n",
      "36/36 [==============================] - 2s 45ms/step - loss: 0.0876 - acc: 0.5437 - val_loss: 0.1495 - val_acc: 0.5478\n",
      "Epoch 10/15\n",
      "36/36 [==============================] - 2s 46ms/step - loss: 0.0819 - acc: 0.5274 - val_loss: 0.1442 - val_acc: 0.5809\n",
      "Epoch 11/15\n",
      "36/36 [==============================] - 2s 52ms/step - loss: 0.0781 - acc: 0.5456 - val_loss: 0.1405 - val_acc: 0.6308\n",
      "Epoch 12/15\n",
      "36/36 [==============================] - 2s 54ms/step - loss: 0.0669 - acc: 0.5255 - val_loss: 0.1351 - val_acc: 0.5580\n",
      "Epoch 13/15\n",
      "36/36 [==============================] - 2s 52ms/step - loss: 0.0650 - acc: 0.5380 - val_loss: 0.1391 - val_acc: 0.4852\n",
      "Epoch 14/15\n",
      "36/36 [==============================] - 2s 53ms/step - loss: 0.0615 - acc: 0.5367 - val_loss: 0.1360 - val_acc: 0.5385\n",
      "Epoch 15/15\n",
      "36/36 [==============================] - 2s 53ms/step - loss: 0.0483 - acc: 0.5386 - val_loss: 0.1282 - val_acc: 0.5792\n"
     ]
    }
   ],
   "source": [
    "history = model.fit(X_train, y_train, batch_size=160, epochs=15, verbose=1, validation_split=0.2)"
   ]
  },
  {
   "cell_type": "code",
   "execution_count": 12,
   "metadata": {},
   "outputs": [
    {
     "name": "stdout",
     "output_type": "stream",
     "text": [
      "47/47 [==============================] - 0s 6ms/step - loss: 0.1049 - acc: 0.5467\n",
      "Test Score: 0.10491333156824112\n",
      "Test Accuracy: 0.5467479825019836\n"
     ]
    }
   ],
   "source": [
    "score = model.evaluate(X_test, y_test, verbose=1)\n",
    "\n",
    "print(\"Test Score:\", score[0])\n",
    "print(\"Test Accuracy:\", score[1])\n",
    "#round off sigmoid values to 0 or 1?"
   ]
  },
  {
   "cell_type": "code",
   "execution_count": 13,
   "metadata": {},
   "outputs": [
    {
     "data": {
      "image/png": "[encoded data removed]",
      "text/plain": [
       "<Figure size 720x576 with 1 Axes>"
      ]
     },
     "metadata": {
      "needs_background": "light"
     },
     "output_type": "display_data"
    },
    {
     "data": {
      "image/png": "[encoded data removed]",
      "text/plain": [
       "<Figure size 720x576 with 1 Axes>"
      ]
     },
     "metadata": {
      "needs_background": "light"
     },
     "output_type": "display_data"
    }
   ],
   "source": [
    "plt.plot(history.history['acc'])\n",
    "plt.plot(history.history['val_acc'])\n",
    "\n",
    "plt.title('model accuracy')\n",
    "plt.ylabel('accuracy')\n",
    "plt.xlabel('epoch')\n",
    "plt.legend(['train','test'], loc='upper left')\n",
    "plt.show()\n",
    "\n",
    "plt.plot(history.history['loss'])\n",
    "plt.plot(history.history['val_loss'])\n",
    "\n",
    "plt.title('model loss')\n",
    "plt.ylabel('loss')\n",
    "plt.xlabel('epoch')\n",
    "plt.legend(['train','test'], loc='upper left')\n",
    "plt.show()"
   ]
  },
  {
   "cell_type": "code",
   "execution_count": 14,
   "metadata": {},
   "outputs": [
    {
     "name": "stdout",
     "output_type": "stream",
     "text": [
      "<class 'numpy.ndarray'>\n"
     ]
    }
   ],
   "source": [
    "df_val = pd.read_csv('C:\\\\Users\\\\Raphael\\\\Downloads\\\\TIL_NLP_test_dataset.csv')\n",
    "df_val.head(10)\n",
    "X_val=df_val['word_representation'].values\n",
    "print(type(X_val))"
   ]
  },
  {
   "cell_type": "code",
   "execution_count": null,
   "metadata": {},
   "outputs": [],
   "source": []
  },
  {
   "cell_type": "code",
   "execution_count": 15,
   "metadata": {},
   "outputs": [
    {
     "name": "stdout",
     "output_type": "stream",
     "text": [
      "[[ 485  486  165  547    9   87  203    3  214  289  460  219    3 3711\n",
      "  1250   11  677   38   43  104  604    0    0    0    0    0]\n",
      " [  32   27   10  148  826   28  905  139  762   46   94  314    8    0\n",
      "     0    0    0    0    0    0    0    0    0    0    0    0]\n",
      " [ 163  425   79  411  412    3  413  405   14    1  397   64  398    5\n",
      "   399    1  404   36   56    4   49  323  150   98 1049   17]\n",
      " [  25   78  426  103   10   31  939  940  869   15  250   29    4  379\n",
      "  1059  901  182  176    0    0    0    0    0    0    0    0]\n",
      " [   3   33  125 1547 2676  100   36   20   22  249  171  450  516   38\n",
      "   396  545    3  226   67    1   60   15  953  404   36   29]\n",
      " [ 747  768  828    9  118  388  161   19  179  728   54  129  688  323\n",
      "  1000 3585   21   16   20    0    0    0    0    0    0    0]\n",
      " [ 943 2587   94   18   65   85    3  298  489   14  157   55  319  457\n",
      "   124    6    0    0    0    0    0    0    0    0    0    0]\n",
      " [  43  377   67  183  957   24    7   64  853   21  820  836    0    0\n",
      "     0    0    0    0    0    0    0    0    0    0    0    0]\n",
      " [1411  202  151    3  530    1   88  554  112  496   26   85   84 1427\n",
      "   338  115    0    0    0    0    0    0    0    0    0    0]\n",
      " [ 400  391    1   28  215    5  226   75    1  323 1000  210   98  216\n",
      "   519  219   29   99    4   43   97  149 1568  325  375  969]\n",
      " [ 623  605  204  760  158  268   89  845  228    6  822    3  787 1592\n",
      "    59   56    0    0    0    0    0    0    0    0    0    0]\n",
      " [ 138  720  804   24    7 2688 1118   70   24    7   32   27   52  291\n",
      "     2  137  511    0    0    0    0    0    0    0    0    0]\n",
      " [  51   27 2122   57   34  761   66   30    5   53  160    3  110   39\n",
      "    48  325    6    5   53    0    0    0    0    0    0    0]\n",
      " [ 151  888   61  194  308 1007  136  284   20    3  402 3284 3285  943\n",
      "   911   18  357   94    2  763  684  280    0    0    0    0]\n",
      " [ 241   32   27  454  147  520   32   27  242    5   44    2  225  119\n",
      "   142  916   18    3    1  218   54  776   36   20    0    0]]\n",
      "<class 'numpy.ndarray'>\n"
     ]
    }
   ],
   "source": [
    "#print(X_test[1])\n",
    "#why fix num words\n",
    "# tokenizer_val = Tokenizer(num_words=4250)\n",
    "# tokenizer_val.fit_on_texts(mod_X)\n",
    "\n",
    "mod_X = tokenizer.texts_to_sequences(mod_X)\n",
    "X_val = tokenizer.texts_to_sequences(X_val)\n",
    "\n",
    "# vocab_size_val = len(tokenizer_val.word_index) + 1\n",
    "#what is max len\n",
    "# maxlen_val = 30\n",
    "\n",
    "mod_X = pad_sequences(mod_X, padding=padding, maxlen=maxlen, truncating = truncating)\n",
    "X_val = pad_sequences(X_val, padding=padding, maxlen=maxlen, truncating = truncating)\n",
    "print(mod_X[5:20])\n",
    "print(type(mod_X[1]))"
   ]
  },
  {
   "cell_type": "code",
   "execution_count": 16,
   "metadata": {},
   "outputs": [],
   "source": [
    "# print(X_val[1])\n",
    "# embeddings_dictionary2 = pd.read_pickle(\"word_embeddings.pkl\")\n",
    "\n",
    "# embedding_matrix2 = zeros((vocab_size, 100))\n",
    "# for word, index in tokenizer2.word_index.items():\n",
    "# #    if word in banlist:\n",
    "# #        continue\n",
    "#     embedding_vector = embeddings_dictionary2.get(word)\n",
    "#     if embedding_vector is not None :\n",
    "#         embedding_matrix[index] = embedding_vector\n",
    "# print(type(embedding_matrix))\n",
    "# print(len(embedding_matrix))"
   ]
  },
  {
   "cell_type": "code",
   "execution_count": 17,
   "metadata": {},
   "outputs": [
    {
     "name": "stdout",
     "output_type": "stream",
     "text": [
      "Epoch 1/10\n",
      "20/20 [==============================] - 2s 94ms/step - loss: 0.0703 - acc: 0.5329 - val_loss: 0.0653 - val_acc: 0.5014\n",
      "Epoch 2/10\n",
      "20/20 [==============================] - 2s 88ms/step - loss: 0.0607 - acc: 0.5161 - val_loss: 0.0649 - val_acc: 0.5262\n",
      "Epoch 3/10\n",
      "20/20 [==============================] - 2s 90ms/step - loss: 0.0538 - acc: 0.5153 - val_loss: 0.0657 - val_acc: 0.5104\n",
      "Epoch 4/10\n",
      "20/20 [==============================] - 2s 87ms/step - loss: 0.0482 - acc: 0.5199 - val_loss: 0.0638 - val_acc: 0.5036\n",
      "Epoch 5/10\n",
      "20/20 [==============================] - 2s 86ms/step - loss: 0.0438 - acc: 0.5339 - val_loss: 0.0624 - val_acc: 0.5325\n",
      "Epoch 6/10\n",
      "20/20 [==============================] - 2s 87ms/step - loss: 0.0394 - acc: 0.5387 - val_loss: 0.0650 - val_acc: 0.5203\n",
      "Epoch 7/10\n",
      "20/20 [==============================] - 2s 87ms/step - loss: 0.0366 - acc: 0.5163 - val_loss: 0.0655 - val_acc: 0.5425\n",
      "Epoch 8/10\n",
      "20/20 [==============================] - 2s 86ms/step - loss: 0.0318 - acc: 0.5403 - val_loss: 0.0637 - val_acc: 0.5537\n",
      "Epoch 9/10\n",
      "20/20 [==============================] - 2s 85ms/step - loss: 0.0318 - acc: 0.5223 - val_loss: 0.0681 - val_acc: 0.5126\n",
      "Epoch 10/10\n",
      "20/20 [==============================] - 2s 91ms/step - loss: 0.0272 - acc: 0.5273 - val_loss: 0.0695 - val_acc: 0.5276\n"
     ]
    }
   ],
   "source": [
    "history = model.fit(mod_X, y, batch_size=160, epochs=10, verbose=1, validation_split=0.3)"
   ]
  },
  {
   "cell_type": "code",
   "execution_count": 18,
   "metadata": {},
   "outputs": [
    {
     "name": "stdout",
     "output_type": "stream",
     "text": [
      "77/77 [==============================] - 0s 6ms/step\n",
      "[[0. 1. 1. 0. 0.]\n",
      " [1. 1. 0. 0. 0.]\n",
      " [1. 0. 1. 0. 0.]\n",
      " ...\n",
      " [1. 0. 1. 0. 0.]\n",
      " [0. 1. 1. 0. 0.]\n",
      " [0. 0. 1. 0. 1.]]\n"
     ]
    },
    {
     "data": {
      "text/plain": [
       "numpy.float32"
      ]
     },
     "execution_count": 18,
     "metadata": {},
     "output_type": "execute_result"
    }
   ],
   "source": [
    "preds_val = model.predict(X_val, verbose = 1)\n",
    "preds_val[preds_val>=0.5] = 1\n",
    "preds_val[preds_val<0.5] = 0\n",
    "\n",
    "print(preds_val)\n",
    "type(preds_val[1,1])"
   ]
  },
  {
   "cell_type": "code",
   "execution_count": 19,
   "metadata": {},
   "outputs": [
    {
     "name": "stdout",
     "output_type": "stream",
     "text": [
      "      outwear  top  trousers  women dresses  women skirts\n",
      "id                                                       \n",
      "0         0.0  1.0       1.0            0.0           0.0\n",
      "1         1.0  1.0       0.0            0.0           0.0\n",
      "2         1.0  0.0       1.0            0.0           0.0\n",
      "3         0.0  1.0       1.0            0.0           0.0\n",
      "4         0.0  1.0       1.0            0.0           0.0\n",
      "...       ...  ...       ...            ...           ...\n",
      "2455      0.0  0.0       1.0            1.0           0.0\n",
      "2456      1.0  0.0       1.0            0.0           0.0\n",
      "2457      1.0  0.0       1.0            0.0           0.0\n",
      "2458      0.0  1.0       1.0            0.0           0.0\n",
      "2459      0.0  0.0       1.0            0.0           1.0\n",
      "\n",
      "[2460 rows x 5 columns]\n"
     ]
    },
    {
     "data": {
      "text/plain": [
       "outwear          int32\n",
       "top              int32\n",
       "trousers         int32\n",
       "women dresses    int32\n",
       "women skirts     int32\n",
       "dtype: object"
      ]
     },
     "execution_count": 19,
     "metadata": {},
     "output_type": "execute_result"
    }
   ],
   "source": [
    "preds_val_df=pd.DataFrame(data=preds_val, columns = [\"outwear\",\"top\",\"trousers\",\"women dresses\",\"women skirts\"])\n",
    "preds_val_df.index.name = \"id\"\n",
    "\n",
    "print(preds_val_df)\n",
    "preds_val_df = preds_val_df.astype(int)\n",
    "preds_val_df.dtypes"
   ]
  },
  {
   "cell_type": "code",
   "execution_count": 21,
   "metadata": {},
   "outputs": [],
   "source": [
    "preds_val_df.to_csv(\"160input.csv\")"
   ]
  }
 ],
 "metadata": {
  "kernelspec": {
   "display_name": "Python 3.6.8 64-bit ('TIL-2020': pipenv)",
   "language": "python",
   "name": "python36864bittil2020pipenv2f21c983fd1542a19b317973bf347e7d"
  },
  "language_info": {
   "codemirror_mode": {
    "name": "ipython",
    "version": 3
   },
   "file_extension": ".py",
   "mimetype": "text/x-python",
   "name": "python",
   "nbconvert_exporter": "python",
   "pygments_lexer": "ipython3",
   "version": "3.6.8"
  }
 },
 "nbformat": 4,
 "nbformat_minor": 4
}
