{
 "cells": [
  {
   "cell_type": "code",
   "execution_count": 3,
   "metadata": {},
   "outputs": [
    {
     "data": {
      "text/html": [
       "<div>\n",
       "<style scoped>\n",
       "    .dataframe tbody tr th:only-of-type {\n",
       "        vertical-align: middle;\n",
       "    }\n",
       "\n",
       "    .dataframe tbody tr th {\n",
       "        vertical-align: top;\n",
       "    }\n",
       "\n",
       "    .dataframe thead th {\n",
       "        text-align: right;\n",
       "    }\n",
       "</style>\n",
       "<table border=\"1\" class=\"dataframe\">\n",
       "  <thead>\n",
       "    <tr style=\"text-align: right;\">\n",
       "      <th></th>\n",
       "      <th>id</th>\n",
       "      <th>word_representation</th>\n",
       "      <th>outwear</th>\n",
       "      <th>top</th>\n",
       "      <th>trousers</th>\n",
       "      <th>women dresses</th>\n",
       "      <th>women skirts</th>\n",
       "    </tr>\n",
       "  </thead>\n",
       "  <tbody>\n",
       "    <tr>\n",
       "      <th>0</th>\n",
       "      <td>0</td>\n",
       "      <td>w7718 w173355 w138132 w232277 w90685 w314686 w...</td>\n",
       "      <td>1</td>\n",
       "      <td>0</td>\n",
       "      <td>1</td>\n",
       "      <td>0</td>\n",
       "      <td>0</td>\n",
       "    </tr>\n",
       "    <tr>\n",
       "      <th>1</th>\n",
       "      <td>1</td>\n",
       "      <td>w195317 w127737 w171593 w22890 w342007 w217871...</td>\n",
       "      <td>1</td>\n",
       "      <td>0</td>\n",
       "      <td>1</td>\n",
       "      <td>0</td>\n",
       "      <td>0</td>\n",
       "    </tr>\n",
       "    <tr>\n",
       "      <th>2</th>\n",
       "      <td>2</td>\n",
       "      <td>w247655 w270233 w261113 w337250 w366000 w37873...</td>\n",
       "      <td>0</td>\n",
       "      <td>1</td>\n",
       "      <td>1</td>\n",
       "      <td>0</td>\n",
       "      <td>0</td>\n",
       "    </tr>\n",
       "    <tr>\n",
       "      <th>3</th>\n",
       "      <td>3</td>\n",
       "      <td>w279289 w395855 w61795 w286461 w308610 w27013 ...</td>\n",
       "      <td>1</td>\n",
       "      <td>0</td>\n",
       "      <td>1</td>\n",
       "      <td>0</td>\n",
       "      <td>0</td>\n",
       "    </tr>\n",
       "    <tr>\n",
       "      <th>4</th>\n",
       "      <td>4</td>\n",
       "      <td>w254516 w135431 w115724 w331534 w256214 w71240...</td>\n",
       "      <td>1</td>\n",
       "      <td>0</td>\n",
       "      <td>1</td>\n",
       "      <td>0</td>\n",
       "      <td>0</td>\n",
       "    </tr>\n",
       "    <tr>\n",
       "      <th>5</th>\n",
       "      <td>5</td>\n",
       "      <td>w53495 w306061 w372126 w47982 w66980 w189406 w...</td>\n",
       "      <td>1</td>\n",
       "      <td>0</td>\n",
       "      <td>0</td>\n",
       "      <td>0</td>\n",
       "      <td>1</td>\n",
       "    </tr>\n",
       "    <tr>\n",
       "      <th>6</th>\n",
       "      <td>6</td>\n",
       "      <td>w237465 w256553 w286461 w382662 w206066 w12125...</td>\n",
       "      <td>1</td>\n",
       "      <td>0</td>\n",
       "      <td>0</td>\n",
       "      <td>1</td>\n",
       "      <td>0</td>\n",
       "    </tr>\n",
       "    <tr>\n",
       "      <th>7</th>\n",
       "      <td>7</td>\n",
       "      <td>w173317 w39222 w207614 w136665 w394246 w197783...</td>\n",
       "      <td>1</td>\n",
       "      <td>1</td>\n",
       "      <td>1</td>\n",
       "      <td>0</td>\n",
       "      <td>0</td>\n",
       "    </tr>\n",
       "    <tr>\n",
       "      <th>8</th>\n",
       "      <td>8</td>\n",
       "      <td>w373517 w37419 w358253 w162965 w286461 w204762...</td>\n",
       "      <td>1</td>\n",
       "      <td>0</td>\n",
       "      <td>0</td>\n",
       "      <td>0</td>\n",
       "      <td>0</td>\n",
       "    </tr>\n",
       "    <tr>\n",
       "      <th>9</th>\n",
       "      <td>9</td>\n",
       "      <td>w230409 w109269 w369689 w186076 w377961 w21787...</td>\n",
       "      <td>1</td>\n",
       "      <td>1</td>\n",
       "      <td>0</td>\n",
       "      <td>0</td>\n",
       "      <td>0</td>\n",
       "    </tr>\n",
       "  </tbody>\n",
       "</table>\n",
       "</div>"
      ],
      "text/plain": [
       "   id                                word_representation  outwear  top  \\\n",
       "0   0  w7718 w173355 w138132 w232277 w90685 w314686 w...        1    0   \n",
       "1   1  w195317 w127737 w171593 w22890 w342007 w217871...        1    0   \n",
       "2   2  w247655 w270233 w261113 w337250 w366000 w37873...        0    1   \n",
       "3   3  w279289 w395855 w61795 w286461 w308610 w27013 ...        1    0   \n",
       "4   4  w254516 w135431 w115724 w331534 w256214 w71240...        1    0   \n",
       "5   5  w53495 w306061 w372126 w47982 w66980 w189406 w...        1    0   \n",
       "6   6  w237465 w256553 w286461 w382662 w206066 w12125...        1    0   \n",
       "7   7  w173317 w39222 w207614 w136665 w394246 w197783...        1    1   \n",
       "8   8  w373517 w37419 w358253 w162965 w286461 w204762...        1    0   \n",
       "9   9  w230409 w109269 w369689 w186076 w377961 w21787...        1    1   \n",
       "\n",
       "   trousers  women dresses  women skirts  \n",
       "0         1              0             0  \n",
       "1         1              0             0  \n",
       "2         1              0             0  \n",
       "3         1              0             0  \n",
       "4         1              0             0  \n",
       "5         0              0             1  \n",
       "6         0              1             0  \n",
       "7         1              0             0  \n",
       "8         0              0             0  \n",
       "9         0              0             0  "
      ]
     },
     "execution_count": 3,
     "metadata": {},
     "output_type": "execute_result"
    }
   ],
   "source": [
    "\n",
    "import pandas as pd\n",
    "import pandas as pd\n",
    "import numpy as np\n",
    "import re\n",
    "\n",
    "import matplotlib.pyplot as plt\n",
    "\n",
    "df = pd.read_csv('C:\\\\Users\\\\Raphael\\\\Downloads\\\\TIL_NLP_train_dataset.csv')\n",
    "df.head(10)"
   ]
  },
  {
   "cell_type": "code",
   "execution_count": 4,
   "metadata": {},
   "outputs": [],
   "source": [
    "import spacy\n",
    "# Create an empty model\n",
    "nlp = spacy.blank(\"en\")\n",
    "\n",
    "# Create the TextCategorizer with exclusive classes and \"bow\" architecture\n",
    "textcat = nlp.create_pipe(\n",
    "              \"textcat\",\n",
    "              config={\n",
    "                \"exclusive_classes\": False,\n",
    "                \"architecture\": \"bow\"})\n",
    "\n",
    "# Add the TextCategorizer to the empty model\n",
    "nlp.add_pipe(textcat)"
   ]
  },
  {
   "cell_type": "code",
   "execution_count": 5,
   "metadata": {},
   "outputs": [],
   "source": [
    "# # Add labels to text classifier\n",
    "# textcat.add_label(\"outwear\")\n",
    "# textcat.add_label(\"top\")\n",
    "# textcat.add_label(\"trousers\")\n",
    "# textcat.add_label(\"women dresses\")\n",
    "# textcat.add_label(\"women skirts\")\n",
    "# train_texts = train['word_representation'].values\n",
    "# train_labels = [{'cats': {'outwear': label == 'outwear','top': label == 'top','trousers': label == 'trousers','women dresses': label == 'women dresses',\n",
    "#                           'women skirts': label == 'women skirts'}} \n",
    "#                 for label in train['outwear','top','trousers','women dresses','women skirts']]"
   ]
  },
  {
   "cell_type": "code",
   "execution_count": 6,
   "metadata": {},
   "outputs": [
    {
     "data": {
      "text/plain": [
       "pandas.core.frame.DataFrame"
      ]
     },
     "execution_count": 6,
     "metadata": {},
     "output_type": "execute_result"
    }
   ],
   "source": [
    "from spacy.lang.en import English\n",
    "\n",
    "# Load English tokenizer, tagger, parser, NER and word vectors\n",
    "nlp = English()\n",
    "\n",
    "texts = df['word_representation']\n",
    "\n",
    "#  \"nlp\" Object is used to create documents with linguistic annotations.\n",
    "type(df)\n",
    "# def define_label()\n",
    "# df['label'] = df.apply(lambda row: row.a + row.b, axis=1)"
   ]
  },
  {
   "cell_type": "code",
   "execution_count": 7,
   "metadata": {},
   "outputs": [
    {
     "data": {
      "text/plain": [
       "dict"
      ]
     },
     "execution_count": 7,
     "metadata": {},
     "output_type": "execute_result"
    }
   ],
   "source": [
    "import pickle\n",
    "\n",
    "\n",
    "embedded_df = pd.read_pickle(\"word_embeddings.pkl\")\n",
    "\n",
    "type(embedded_df)\n"
   ]
  },
  {
   "cell_type": "code",
   "execution_count": 8,
   "metadata": {},
   "outputs": [
    {
     "data": {
      "text/plain": [
       "['w0', 'w1', 'w2', 'w3', 'w4', 'w5', 'w6', 'w7', 'w8', 'w9']"
      ]
     },
     "execution_count": 8,
     "metadata": {},
     "output_type": "execute_result"
    }
   ],
   "source": [
    "list(embedded_df.keys())[:10]"
   ]
  },
  {
   "cell_type": "code",
   "execution_count": 9,
   "metadata": {},
   "outputs": [
    {
     "data": {
      "text/plain": [
       "['w399995', 'w399996', 'w399997', 'w399998', 'w399999']"
      ]
     },
     "execution_count": 9,
     "metadata": {},
     "output_type": "execute_result"
    }
   ],
   "source": [
    "\n",
    "list(embedded_df.keys())[-5:]"
   ]
  },
  {
   "cell_type": "code",
   "execution_count": 11,
   "metadata": {},
   "outputs": [
    {
     "data": {
      "text/plain": [
       "[array([ 0.40654  , -0.41092  , -0.39071  ,  0.062906 ,  0.15333  ,\n",
       "        -0.26485  ,  0.56404  , -0.8641   ,  0.86304  ,  0.19451  ,\n",
       "         0.5355   ,  0.094875 ,  0.085875 , -0.51489  , -0.21682  ,\n",
       "         0.088318 ,  0.064861 ,  0.38166  ,  0.32641  , -0.49893  ,\n",
       "         0.0048443, -0.1177   ,  0.17858  ,  0.028307 , -0.58475  ,\n",
       "         0.36995  , -0.073554 , -0.1451   ,  0.046624 ,  0.16584  ,\n",
       "         0.22882  , -0.51723  ,  0.18545  ,  0.93583  ,  0.11245  ,\n",
       "         0.41794  ,  0.37232  ,  0.45714  ,  0.24696  ,  0.501    ,\n",
       "         0.52317  ,  0.21859  ,  0.31735  ,  0.44231  , -0.3263   ,\n",
       "         0.33098  ,  0.1798   , -0.39722  ,  0.09817  ,  0.67025  ,\n",
       "        -0.16198  ,  0.39253  ,  0.22014  , -0.45854  , -0.35309  ,\n",
       "         0.78     ,  0.010165 ,  0.11139  , -0.51422  ,  0.32387  ,\n",
       "        -0.29391  , -0.22067  ,  0.57543  , -0.6795   , -0.32692  ,\n",
       "         0.35104  ,  0.25093  , -0.27053  , -0.68206  ,  0.17815  ,\n",
       "         0.2284   ,  0.48252  ,  0.20842  ,  0.27814  ,  0.088662 ,\n",
       "        -0.03546  , -0.0503   , -0.73326  ,  0.56436  ,  0.1688   ,\n",
       "         0.035918 , -0.24458  ,  0.38599  , -0.16205  ,  0.54704  ,\n",
       "        -0.073582 , -0.058197 ,  0.10077  , -0.39236  , -0.48661  ,\n",
       "         0.56568  ,  0.39652  , -0.32339  , -0.25091  ,  0.85994  ,\n",
       "        -0.24199  , -0.10598  , -0.13336  , -0.92405  , -0.45199  ],\n",
       "       dtype=float32),\n",
       " array([ 0.32825 , -0.18013 , -0.928   ,  0.65864 , -0.042179,  0.091238,\n",
       "        -0.17654 , -0.20794 , -0.045366,  0.40496 , -0.24611 , -0.47073 ,\n",
       "         0.26625 , -0.33635 , -0.59698 ,  0.18507 ,  0.026818,  0.52285 ,\n",
       "        -0.14248 ,  0.15731 , -0.077167,  0.064009,  0.064262,  0.21348 ,\n",
       "        -0.10676 ,  0.26395 ,  0.16983 ,  0.23694 , -0.19098 , -0.36319 ,\n",
       "        -0.44387 , -0.23208 , -0.3631  ,  1.1262  ,  0.49117 , -0.5725  ,\n",
       "         0.4135  , -1.0288  , -0.032917, -0.53119 ,  0.49452 ,  0.20905 ,\n",
       "         0.25612 ,  0.041802, -0.24135 , -0.34326 , -0.16184 , -0.21657 ,\n",
       "         0.13096 , -0.16469 ,  0.55929 , -0.059779,  0.21233 , -0.25522 ,\n",
       "        -0.29242 ,  0.45903 , -0.33947 ,  0.40985 , -0.67827 , -0.054629,\n",
       "        -0.036668,  0.50107 ,  0.53526 ,  0.42637 , -0.22167 , -0.34187 ,\n",
       "         0.23923 ,  0.03256 ,  0.40781 , -0.050141,  0.56751 ,  0.91644 ,\n",
       "         0.017295,  0.23409 ,  0.7226  , -0.42935 , -0.08384 ,  0.51404 ,\n",
       "         0.8374  ,  0.5685  ,  0.15477 ,  0.23609 , -0.030159,  0.2217  ,\n",
       "         0.1252  , -0.16441 ,  0.070482,  0.3058  ,  0.44701 , -0.18284 ,\n",
       "         0.15271 , -0.025133,  0.31314 , -0.079872,  0.6116  , -0.53703 ,\n",
       "        -0.13267 ,  0.19063 , -0.50252 , -0.3552  ], dtype=float32)]"
      ]
     },
     "execution_count": 11,
     "metadata": {},
     "output_type": "execute_result"
    }
   ],
   "source": [
    "list(embedded_df.values())[:2]\n",
    "#100 dim vector for each w value"
   ]
  },
  {
   "cell_type": "code",
   "execution_count": 14,
   "metadata": {},
   "outputs": [
    {
     "name": "stdout",
     "output_type": "stream",
     "text": [
      "7380\n"
     ]
    }
   ],
   "source": [
    "words = df[\"word_representation\"]\n",
    "print(len(words))"
   ]
  },
  {
   "cell_type": "code",
   "execution_count": 16,
   "metadata": {},
   "outputs": [
    {
     "name": "stdout",
     "output_type": "stream",
     "text": [
      "[0, 160, 162, 271, 305, 313, 318, 329, 365]\n"
     ]
    }
   ],
   "source": [
    "maxval = [0]\n",
    "for line in words:\n",
    "    if len(line)>max(maxval):\n",
    "        maxval.append(len(line))\n",
    "print(maxval)"
   ]
  }
 ],
 "metadata": {
  "kernelspec": {
   "display_name": "Python 3",
   "language": "python",
   "name": "python3"
  },
  "language_info": {
   "codemirror_mode": {
    "name": "ipython",
    "version": 3
   },
   "file_extension": ".py",
   "mimetype": "text/x-python",
   "name": "python",
   "nbconvert_exporter": "python",
   "pygments_lexer": "ipython3",
   "version": "3.6.8"
  }
 },
 "nbformat": 4,
 "nbformat_minor": 4
}
