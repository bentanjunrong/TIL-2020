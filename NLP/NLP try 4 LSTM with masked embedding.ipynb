{
 "cells": [
  {
   "cell_type": "code",
   "execution_count": 335,
   "metadata": {},
   "outputs": [
    {
     "data": {
      "text/html": [
       "<div>\n",
       "<style scoped>\n",
       "    .dataframe tbody tr th:only-of-type {\n",
       "        vertical-align: middle;\n",
       "    }\n",
       "\n",
       "    .dataframe tbody tr th {\n",
       "        vertical-align: top;\n",
       "    }\n",
       "\n",
       "    .dataframe thead th {\n",
       "        text-align: right;\n",
       "    }\n",
       "</style>\n",
       "<table border=\"1\" class=\"dataframe\">\n",
       "  <thead>\n",
       "    <tr style=\"text-align: right;\">\n",
       "      <th></th>\n",
       "      <th>id</th>\n",
       "      <th>word_representation</th>\n",
       "      <th>outwear</th>\n",
       "      <th>top</th>\n",
       "      <th>trousers</th>\n",
       "      <th>women dresses</th>\n",
       "      <th>women skirts</th>\n",
       "    </tr>\n",
       "  </thead>\n",
       "  <tbody>\n",
       "    <tr>\n",
       "      <th>0</th>\n",
       "      <td>0</td>\n",
       "      <td>w7718 w173355 w138132 w232277 w90685 w314686 w...</td>\n",
       "      <td>1</td>\n",
       "      <td>0</td>\n",
       "      <td>1</td>\n",
       "      <td>0</td>\n",
       "      <td>0</td>\n",
       "    </tr>\n",
       "    <tr>\n",
       "      <th>1</th>\n",
       "      <td>1</td>\n",
       "      <td>w195317 w127737 w171593 w22890 w342007 w217871...</td>\n",
       "      <td>1</td>\n",
       "      <td>0</td>\n",
       "      <td>1</td>\n",
       "      <td>0</td>\n",
       "      <td>0</td>\n",
       "    </tr>\n",
       "    <tr>\n",
       "      <th>2</th>\n",
       "      <td>2</td>\n",
       "      <td>w247655 w270233 w261113 w337250 w366000 w37873...</td>\n",
       "      <td>0</td>\n",
       "      <td>1</td>\n",
       "      <td>1</td>\n",
       "      <td>0</td>\n",
       "      <td>0</td>\n",
       "    </tr>\n",
       "    <tr>\n",
       "      <th>3</th>\n",
       "      <td>3</td>\n",
       "      <td>w279289 w395855 w61795 w286461 w308610 w27013 ...</td>\n",
       "      <td>1</td>\n",
       "      <td>0</td>\n",
       "      <td>1</td>\n",
       "      <td>0</td>\n",
       "      <td>0</td>\n",
       "    </tr>\n",
       "    <tr>\n",
       "      <th>4</th>\n",
       "      <td>4</td>\n",
       "      <td>w254516 w135431 w115724 w331534 w256214 w71240...</td>\n",
       "      <td>1</td>\n",
       "      <td>0</td>\n",
       "      <td>1</td>\n",
       "      <td>0</td>\n",
       "      <td>0</td>\n",
       "    </tr>\n",
       "    <tr>\n",
       "      <th>5</th>\n",
       "      <td>5</td>\n",
       "      <td>w53495 w306061 w372126 w47982 w66980 w189406 w...</td>\n",
       "      <td>1</td>\n",
       "      <td>0</td>\n",
       "      <td>0</td>\n",
       "      <td>0</td>\n",
       "      <td>1</td>\n",
       "    </tr>\n",
       "    <tr>\n",
       "      <th>6</th>\n",
       "      <td>6</td>\n",
       "      <td>w237465 w256553 w286461 w382662 w206066 w12125...</td>\n",
       "      <td>1</td>\n",
       "      <td>0</td>\n",
       "      <td>0</td>\n",
       "      <td>1</td>\n",
       "      <td>0</td>\n",
       "    </tr>\n",
       "    <tr>\n",
       "      <th>7</th>\n",
       "      <td>7</td>\n",
       "      <td>w173317 w39222 w207614 w136665 w394246 w197783...</td>\n",
       "      <td>1</td>\n",
       "      <td>1</td>\n",
       "      <td>1</td>\n",
       "      <td>0</td>\n",
       "      <td>0</td>\n",
       "    </tr>\n",
       "    <tr>\n",
       "      <th>8</th>\n",
       "      <td>8</td>\n",
       "      <td>w373517 w37419 w358253 w162965 w286461 w204762...</td>\n",
       "      <td>1</td>\n",
       "      <td>0</td>\n",
       "      <td>0</td>\n",
       "      <td>0</td>\n",
       "      <td>0</td>\n",
       "    </tr>\n",
       "    <tr>\n",
       "      <th>9</th>\n",
       "      <td>9</td>\n",
       "      <td>w230409 w109269 w369689 w186076 w377961 w21787...</td>\n",
       "      <td>1</td>\n",
       "      <td>1</td>\n",
       "      <td>0</td>\n",
       "      <td>0</td>\n",
       "      <td>0</td>\n",
       "    </tr>\n",
       "  </tbody>\n",
       "</table>\n",
       "</div>"
      ],
      "text/plain": [
       "   id                                word_representation  outwear  top  \\\n",
       "0   0  w7718 w173355 w138132 w232277 w90685 w314686 w...        1    0   \n",
       "1   1  w195317 w127737 w171593 w22890 w342007 w217871...        1    0   \n",
       "2   2  w247655 w270233 w261113 w337250 w366000 w37873...        0    1   \n",
       "3   3  w279289 w395855 w61795 w286461 w308610 w27013 ...        1    0   \n",
       "4   4  w254516 w135431 w115724 w331534 w256214 w71240...        1    0   \n",
       "5   5  w53495 w306061 w372126 w47982 w66980 w189406 w...        1    0   \n",
       "6   6  w237465 w256553 w286461 w382662 w206066 w12125...        1    0   \n",
       "7   7  w173317 w39222 w207614 w136665 w394246 w197783...        1    1   \n",
       "8   8  w373517 w37419 w358253 w162965 w286461 w204762...        1    0   \n",
       "9   9  w230409 w109269 w369689 w186076 w377961 w21787...        1    1   \n",
       "\n",
       "   trousers  women dresses  women skirts  \n",
       "0         1              0             0  \n",
       "1         1              0             0  \n",
       "2         1              0             0  \n",
       "3         1              0             0  \n",
       "4         1              0             0  \n",
       "5         0              0             1  \n",
       "6         0              1             0  \n",
       "7         1              0             0  \n",
       "8         0              0             0  \n",
       "9         0              0             0  "
      ]
     },
     "execution_count": 335,
     "metadata": {},
     "output_type": "execute_result"
    }
   ],
   "source": [
    "from numpy import array\n",
    "from tensorflow.keras.preprocessing.text import one_hot\n",
    "from tensorflow.keras.preprocessing.sequence import pad_sequences\n",
    "from tensorflow.keras.models import Sequential\n",
    "from tensorflow.keras.layers import Activation, Dropout, Dense\n",
    "from tensorflow.keras.layers import Flatten, LSTM\n",
    "from tensorflow.keras.layers import GlobalMaxPooling1D\n",
    "from tensorflow.keras.models import Model\n",
    "from tensorflow.keras.layers import Embedding\n",
    "from sklearn.model_selection import train_test_split\n",
    "from tensorflow.keras.preprocessing.text import Tokenizer\n",
    "from tensorflow.keras.layers import Input\n",
    "from tensorflow.keras.layers import Concatenate\n",
    "\n",
    "\n",
    "import pandas as pd\n",
    "import pandas as pd\n",
    "import numpy as np\n",
    "import re\n",
    "\n",
    "import matplotlib.pyplot as plt\n",
    "\n",
    "df = pd.read_csv('C:\\\\Users\\\\Raphael\\\\Downloads\\\\TIL_NLP_train_dataset.csv')\n",
    "df.head(10)"
   ]
  },
  {
   "cell_type": "code",
   "execution_count": 3,
   "metadata": {},
   "outputs": [
    {
     "data": {
      "text/html": [
       "<div>\n",
       "<style scoped>\n",
       "    .dataframe tbody tr th:only-of-type {\n",
       "        vertical-align: middle;\n",
       "    }\n",
       "\n",
       "    .dataframe tbody tr th {\n",
       "        vertical-align: top;\n",
       "    }\n",
       "\n",
       "    .dataframe thead th {\n",
       "        text-align: right;\n",
       "    }\n",
       "</style>\n",
       "<table border=\"1\" class=\"dataframe\">\n",
       "  <thead>\n",
       "    <tr style=\"text-align: right;\">\n",
       "      <th></th>\n",
       "      <th>outwear</th>\n",
       "      <th>top</th>\n",
       "      <th>trousers</th>\n",
       "      <th>women dresses</th>\n",
       "      <th>women skirts</th>\n",
       "    </tr>\n",
       "  </thead>\n",
       "  <tbody>\n",
       "    <tr>\n",
       "      <th>0</th>\n",
       "      <td>1</td>\n",
       "      <td>0</td>\n",
       "      <td>1</td>\n",
       "      <td>0</td>\n",
       "      <td>0</td>\n",
       "    </tr>\n",
       "    <tr>\n",
       "      <th>1</th>\n",
       "      <td>1</td>\n",
       "      <td>0</td>\n",
       "      <td>1</td>\n",
       "      <td>0</td>\n",
       "      <td>0</td>\n",
       "    </tr>\n",
       "    <tr>\n",
       "      <th>2</th>\n",
       "      <td>0</td>\n",
       "      <td>1</td>\n",
       "      <td>1</td>\n",
       "      <td>0</td>\n",
       "      <td>0</td>\n",
       "    </tr>\n",
       "    <tr>\n",
       "      <th>3</th>\n",
       "      <td>1</td>\n",
       "      <td>0</td>\n",
       "      <td>1</td>\n",
       "      <td>0</td>\n",
       "      <td>0</td>\n",
       "    </tr>\n",
       "    <tr>\n",
       "      <th>4</th>\n",
       "      <td>1</td>\n",
       "      <td>0</td>\n",
       "      <td>1</td>\n",
       "      <td>0</td>\n",
       "      <td>0</td>\n",
       "    </tr>\n",
       "  </tbody>\n",
       "</table>\n",
       "</div>"
      ],
      "text/plain": [
       "   outwear  top  trousers  women dresses  women skirts\n",
       "0        1    0         1              0             0\n",
       "1        1    0         1              0             0\n",
       "2        0    1         1              0             0\n",
       "3        1    0         1              0             0\n",
       "4        1    0         1              0             0"
      ]
     },
     "execution_count": 3,
     "metadata": {},
     "output_type": "execute_result"
    }
   ],
   "source": [
    "df_labels = df[[\"outwear\", \"top\", \"trousers\", \"women dresses\", \"women skirts\"]]\n",
    "df_labels.head()"
   ]
  },
  {
   "cell_type": "code",
   "execution_count": 4,
   "metadata": {},
   "outputs": [
    {
     "data": {
      "text/plain": [
       "<matplotlib.axes._subplots.AxesSubplot at 0x29fc6bc3978>"
      ]
     },
     "execution_count": 4,
     "metadata": {},
     "output_type": "execute_result"
    },
    {
     "data": {
      "image/png": "[encoded data removed]",
      "text/plain": [
       "<Figure size 720x576 with 1 Axes>"
      ]
     },
     "metadata": {
      "needs_background": "light"
     },
     "output_type": "display_data"
    }
   ],
   "source": [
    "fig_size = plt.rcParams[\"figure.figsize\"]\n",
    "fig_size[0] = 10\n",
    "fig_size[1] = 8\n",
    "plt.rcParams[\"figure.figsize\"] = fig_size\n",
    "\n",
    "df_labels.sum(axis=0).plot.bar()"
   ]
  },
  {
   "cell_type": "code",
   "execution_count": 9,
   "metadata": {},
   "outputs": [
    {
     "name": "stdout",
     "output_type": "stream",
     "text": [
      "w195317 w127737 w171593 w22890 w342007 w217871 w289824 w500005 w85858 w241910 w194870 w192814 w127834 w263923 w241910\n"
     ]
    }
   ],
   "source": [
    "X = list(df[\"word_representation\"])\n",
    "y = df_labels.values\n",
    "print(X[1])"
   ]
  },
  {
   "cell_type": "code",
   "execution_count": 186,
   "metadata": {},
   "outputs": [
    {
     "name": "stdout",
     "output_type": "stream",
     "text": [
      "w195317 w256553 w39218 w288320 w1867 w120979 w66980 w194870 w13069 w42169 w251935 w185379 w111248 w376672 w85858 w166407 w12685\n"
     ]
    }
   ],
   "source": [
    "X_train, X_test, y_train, y_test = train_test_split(X, y, test_size=0.20, random_state=42)\n",
    "print(X_test[1])\n",
    "#why fix num words\n",
    "tokenizer = Tokenizer(num_words=5000)\n",
    "tokenizer.fit_on_texts(X_train)\n",
    "\n",
    "X_train = tokenizer.texts_to_sequences(X_train)\n",
    "X_test = tokenizer.texts_to_sequences(X_test)\n",
    "\n",
    "vocab_size = len(tokenizer.word_index) + 1\n",
    "#what is max len\n",
    "maxlen = 20\n",
    "\n",
    "X_train = pad_sequences(X_train, padding='post', maxlen=maxlen)\n",
    "X_test = pad_sequences(X_test, padding='post', maxlen=maxlen)"
   ]
  },
  {
   "cell_type": "code",
   "execution_count": 188,
   "metadata": {},
   "outputs": [
    {
     "name": "stdout",
     "output_type": "stream",
     "text": [
      "<class 'numpy.ndarray'>\n",
      "<class 'numpy.ndarray'>\n",
      "[ 13  27  54 844  24   7   9   2 670 101 543 166  12 333  48 985  30   0\n",
      "   0   0]\n"
     ]
    }
   ],
   "source": [
    "print(type(X_test))\n",
    "print(type(y_train))\n",
    "print(X_test[1])"
   ]
  },
  {
   "cell_type": "code",
   "execution_count": 83,
   "metadata": {},
   "outputs": [
    {
     "name": "stdout",
     "output_type": "stream",
     "text": [
      "<class '_io.TextIOWrapper'>\n",
      "<class 'numpy.ndarray'>\n"
     ]
    }
   ],
   "source": [
    "from numpy import array\n",
    "from numpy import asarray\n",
    "from numpy import zeros\n",
    "import pickle\n",
    "\n",
    "\n",
    "embeddings_dictionary = pd.read_pickle(\"word_embeddings.pkl\")\n",
    "#glove_file = open('C:\\\\Users\\\\Raphael\\\\Documents\\\\TIL-2020\\\\NLP\\\\glove.6B.100d.txt', encoding=\"utf8\")\n",
    "\n",
    "\n",
    "print(type(glove_file))\n",
    "\n",
    "# embeddings_dictionary = dict()\n",
    "\n",
    "\n",
    "\n",
    "# for line in glove_file:\n",
    "#     records = line.split()\n",
    "#     word = glove_file.key\n",
    "#     vector_dimensions = asarray(records[1:], dtype='float32')\n",
    "#     embeddings_dictionary[word] = vector_dimensions\n",
    "# #glove_file.close()\n",
    "\n",
    "embedding_matrix = zeros((vocab_size, 100))\n",
    "for word, index in tokenizer.word_index.items():\n",
    "    embedding_vector = embeddings_dictionary.get(word)\n",
    "    if embedding_vector is not None:\n",
    "        embedding_matrix[index] = embedding_vector\n",
    "print(type(embedding_matrix))\n"
   ]
  },
  {
   "cell_type": "code",
   "execution_count": 358,
   "metadata": {},
   "outputs": [],
   "source": [
    "\n",
    "deep_inputs = Input(shape=(maxlen,))\n",
    "embedding_layer = Embedding(vocab_size, 100, weights=[embedding_matrix], trainable=False)(deep_inputs)\n",
    "LSTM_Layer_1 = LSTM(160)(embedding_layer)\n",
    "dense_layer_1 = Dense(5, activation='sigmoid')(LSTM_Layer_1)\n",
    "model = Model(inputs=deep_inputs, outputs=dense_layer_1)\n",
    "\n",
    "model.compile(loss='binary_crossentropy', optimizer='adam', metrics=['acc'])"
   ]
  },
  {
   "cell_type": "code",
   "execution_count": 368,
   "metadata": {},
   "outputs": [
    {
     "name": "stdout",
     "output_type": "stream",
     "text": [
      "Model: \"sequential_20\"\n",
      "_________________________________________________________________\n",
      "Layer (type)                 Output Shape              Param #   \n",
      "=================================================================\n",
      "embedding_51 (Embedding)     (None, 20, 100)           396900    \n",
      "_________________________________________________________________\n",
      "bidirectional_6 (Bidirection (None, 200)               160800    \n",
      "_________________________________________________________________\n",
      "dropout_13 (Dropout)         (None, 200)               0         \n",
      "_________________________________________________________________\n",
      "dense_55 (Dense)             (None, 5)                 1005      \n",
      "_________________________________________________________________\n",
      "activation_12 (Activation)   (None, 5)                 0         \n",
      "=================================================================\n",
      "Total params: 558,705\n",
      "Trainable params: 161,805\n",
      "Non-trainable params: 396,900\n",
      "_________________________________________________________________\n",
      "None\n"
     ]
    }
   ],
   "source": [
    "from tensorflow.keras.layers import Bidirectional\n",
    "model2 = Sequential()\n",
    "#model2.add(tensorflow.keras.Input(shape=(maxlen,)))\n",
    "model2.add(Embedding(vocab_size, 100, weights=[embedding_matrix], trainable=False, input_shape=(maxlen,)))\n",
    "model2.add(Bidirectional(LSTM(100, return_sequences=False),merge_mode=\"concat\"))\n",
    "model2.add(Dropout(0.1))\n",
    "# model2.add(Dense(units=50))\n",
    "model2.add(Dense(units=5))\n",
    "model2.add(Activation('sigmoid'))\n",
    "model2.compile(loss='binary_crossentropy', optimizer='adam', metrics=['acc'])\n",
    "print(model2.summary())"
   ]
  },
  {
   "cell_type": "code",
   "execution_count": 318,
   "metadata": {},
   "outputs": [
    {
     "name": "stdout",
     "output_type": "stream",
     "text": [
      "Model: \"model_29\"\n",
      "_________________________________________________________________\n",
      "Layer (type)                 Output Shape              Param #   \n",
      "=================================================================\n",
      "input_34 (InputLayer)        [(None, 20)]              0         \n",
      "_________________________________________________________________\n",
      "embedding_33 (Embedding)     (None, 20, 100)           396900    \n",
      "_________________________________________________________________\n",
      "lstm_36 (LSTM)               (None, 160)               167040    \n",
      "_________________________________________________________________\n",
      "dense_35 (Dense)             (None, 5)                 805       \n",
      "=================================================================\n",
      "Total params: 564,745\n",
      "Trainable params: 167,845\n",
      "Non-trainable params: 396,900\n",
      "_________________________________________________________________\n",
      "None\n",
      "<class 'numpy.ndarray'>\n",
      "20\n",
      "7380\n",
      "[ 13  27  54 844  24   7   9   2 670 101 543 166  12 333  48 985  30   0\n",
      "   0   0]\n"
     ]
    }
   ],
   "source": [
    "print(model.summary())\n",
    "print(type(X_test))\n",
    "print(len(X_test[1]))\n",
    "print(len(X))\n",
    "print(X_test[1])"
   ]
  },
  {
   "cell_type": "code",
   "execution_count": 338,
   "metadata": {},
   "outputs": [
    {
     "name": "stdout",
     "output_type": "stream",
     "text": [
      "Epoch 1/15\n",
      "26/26 [==============================] - 2s 66ms/step - loss: 0.5725 - acc: 0.2948 - val_loss: 0.4845 - val_acc: 0.3821\n",
      "Epoch 2/15\n",
      "26/26 [==============================] - 1s 53ms/step - loss: 0.4259 - acc: 0.4743 - val_loss: 0.3671 - val_acc: 0.5062\n",
      "Epoch 3/15\n",
      "26/26 [==============================] - 1s 54ms/step - loss: 0.3236 - acc: 0.5240 - val_loss: 0.2756 - val_acc: 0.5485\n",
      "Epoch 4/15\n",
      "26/26 [==============================] - 1s 53ms/step - loss: 0.2468 - acc: 0.5305 - val_loss: 0.2294 - val_acc: 0.5119\n",
      "Epoch 5/15\n",
      "26/26 [==============================] - 1s 53ms/step - loss: 0.2039 - acc: 0.5411 - val_loss: 0.2085 - val_acc: 0.5271\n",
      "Epoch 6/15\n",
      "26/26 [==============================] - 1s 54ms/step - loss: 0.1711 - acc: 0.5460 - val_loss: 0.1847 - val_acc: 0.5536\n",
      "Epoch 7/15\n",
      "26/26 [==============================] - 1s 53ms/step - loss: 0.1472 - acc: 0.5465 - val_loss: 0.1640 - val_acc: 0.5559\n",
      "Epoch 8/15\n",
      "26/26 [==============================] - 1s 53ms/step - loss: 0.1317 - acc: 0.5409 - val_loss: 0.1601 - val_acc: 0.6005\n",
      "Epoch 9/15\n",
      "26/26 [==============================] - 1s 53ms/step - loss: 0.1225 - acc: 0.5542 - val_loss: 0.1537 - val_acc: 0.5282\n",
      "Epoch 10/15\n",
      "26/26 [==============================] - 1s 52ms/step - loss: 0.1120 - acc: 0.5462 - val_loss: 0.1545 - val_acc: 0.5310\n",
      "Epoch 11/15\n",
      "26/26 [==============================] - 1s 53ms/step - loss: 0.1014 - acc: 0.5411 - val_loss: 0.1463 - val_acc: 0.5604\n",
      "Epoch 12/15\n",
      "26/26 [==============================] - 1s 53ms/step - loss: 0.0920 - acc: 0.5491 - val_loss: 0.1373 - val_acc: 0.5711\n",
      "Epoch 13/15\n",
      "26/26 [==============================] - 1s 54ms/step - loss: 0.0837 - acc: 0.5518 - val_loss: 0.1426 - val_acc: 0.5457\n",
      "Epoch 14/15\n",
      "26/26 [==============================] - 1s 53ms/step - loss: 0.0797 - acc: 0.5552 - val_loss: 0.1470 - val_acc: 0.5192\n",
      "Epoch 15/15\n",
      "26/26 [==============================] - 1s 53ms/step - loss: 0.0697 - acc: 0.5600 - val_loss: 0.1503 - val_acc: 0.6044\n"
     ]
    }
   ],
   "source": [
    "#play with epichs, batch size and verbose\n",
    "history = model.fit(X_train, y_train, batch_size=160, epochs=15, verbose=1, validation_split=0.3)"
   ]
  },
  {
   "cell_type": "code",
   "execution_count": 364,
   "metadata": {},
   "outputs": [
    {
     "name": "stdout",
     "output_type": "stream",
     "text": [
      "Epoch 1/10\n",
      "26/26 [==============================] - 2s 96ms/step - loss: 0.5849 - acc: 0.2442 - val_loss: 0.5355 - val_acc: 0.4159\n",
      "Epoch 2/10\n",
      "26/26 [==============================] - 2s 74ms/step - loss: 0.4666 - acc: 0.4180 - val_loss: 0.4026 - val_acc: 0.6016\n",
      "Epoch 3/10\n",
      "26/26 [==============================] - 2s 74ms/step - loss: 0.3411 - acc: 0.5486 - val_loss: 0.2935 - val_acc: 0.5237\n",
      "Epoch 4/10\n",
      "26/26 [==============================] - 2s 74ms/step - loss: 0.2507 - acc: 0.5639 - val_loss: 0.2276 - val_acc: 0.5468\n",
      "Epoch 5/10\n",
      "26/26 [==============================] - 2s 73ms/step - loss: 0.1970 - acc: 0.5494 - val_loss: 0.1888 - val_acc: 0.5576\n",
      "Epoch 6/10\n",
      "26/26 [==============================] - 2s 75ms/step - loss: 0.1609 - acc: 0.5552 - val_loss: 0.1696 - val_acc: 0.5615\n",
      "Epoch 7/10\n",
      "26/26 [==============================] - 2s 74ms/step - loss: 0.1379 - acc: 0.5576 - val_loss: 0.1554 - val_acc: 0.5751\n",
      "Epoch 8/10\n",
      "26/26 [==============================] - 2s 73ms/step - loss: 0.1235 - acc: 0.5707 - val_loss: 0.1645 - val_acc: 0.5152\n",
      "Epoch 9/10\n",
      "26/26 [==============================] - 2s 73ms/step - loss: 0.1153 - acc: 0.5424 - val_loss: 0.1579 - val_acc: 0.5751\n",
      "Epoch 10/10\n",
      "26/26 [==============================] - 2s 73ms/step - loss: 0.1009 - acc: 0.5552 - val_loss: 0.1472 - val_acc: 0.5474\n",
      "47/47 [==============================] - 0s 7ms/step - loss: 0.1379 - acc: 0.5318\n"
     ]
    }
   ],
   "source": [
    "model2.fit(X_train, y_train, batch_size=160, epochs=10, validation_split=0.3)\n",
    "\n",
    "score = model2.evaluate(X_test, y_test, verbose=1)"
   ]
  },
  {
   "cell_type": "code",
   "execution_count": 355,
   "metadata": {},
   "outputs": [
    {
     "name": "stdout",
     "output_type": "stream",
     "text": [
      "47/47 [==============================] - 0s 8ms/step - loss: 0.1436 - acc: 0.5847\n",
      "Test Score: 0.14357894659042358\n",
      "Test Accuracy: 0.5846883654594421\n"
     ]
    }
   ],
   "source": [
    "score = model.evaluate(X_test, y_test, verbose=1)\n",
    "\n",
    "print(\"Test Score:\", score[0])\n",
    "print(\"Test Accuracy:\", score[1])\n",
    "#round off sigmoid values to 0 or 1?"
   ]
  },
  {
   "cell_type": "code",
   "execution_count": 307,
   "metadata": {},
   "outputs": [
    {
     "data": {
      "image/png": "[encoded data removed]",
      "text/plain": [
       "<Figure size 720x576 with 1 Axes>"
      ]
     },
     "metadata": {
      "needs_background": "light"
     },
     "output_type": "display_data"
    },
    {
     "data": {
      "image/png": "[encoded data removed]",
      "text/plain": [
       "<Figure size 720x576 with 1 Axes>"
      ]
     },
     "metadata": {
      "needs_background": "light"
     },
     "output_type": "display_data"
    }
   ],
   "source": [
    "\n",
    "plt.plot(history.history['acc'])\n",
    "plt.plot(history.history['val_acc'])\n",
    "\n",
    "plt.title('model accuracy')\n",
    "plt.ylabel('accuracy')\n",
    "plt.xlabel('epoch')\n",
    "plt.legend(['train','test'], loc='upper left')\n",
    "plt.show()\n",
    "\n",
    "plt.plot(history.history['loss'])\n",
    "plt.plot(history.history['val_loss'])\n",
    "\n",
    "plt.title('model loss')\n",
    "plt.ylabel('loss')\n",
    "plt.xlabel('epoch')\n",
    "plt.legend(['train','test'], loc='upper left')\n",
    "plt.show()"
   ]
  },
  {
   "cell_type": "code",
   "execution_count": 311,
   "metadata": {},
   "outputs": [
    {
     "name": "stdout",
     "output_type": "stream",
     "text": [
      "<class 'numpy.ndarray'>\n"
     ]
    }
   ],
   "source": [
    "df_val = pd.read_csv('C:\\\\Users\\\\Raphael\\\\Downloads\\\\TIL_NLP_test_dataset.csv')\n",
    "df_val.head(10)\n",
    "X_val=df_val['word_representation'].values\n",
    "print(type(X_val))"
   ]
  },
  {
   "cell_type": "code",
   "execution_count": 308,
   "metadata": {},
   "outputs": [
    {
     "name": "stdout",
     "output_type": "stream",
     "text": [
      "[[0. 0. 0. 0. 1.]\n",
      " [0. 1. 1. 0. 0.]\n",
      " [1. 1. 0. 0. 0.]\n",
      " ...\n",
      " [1. 1. 0. 0. 0.]\n",
      " [0. 1. 1. 0. 0.]\n",
      " [0. 1. 1. 0. 0.]]\n",
      "      outwear  top  trousers  women dresses  women skirts\n",
      "id                                                       \n",
      "0         0.0  0.0       0.0            0.0           1.0\n",
      "1         0.0  1.0       1.0            0.0           0.0\n",
      "2         1.0  1.0       0.0            0.0           0.0\n",
      "3         0.0  0.0       0.0            1.0           0.0\n",
      "4         0.0  0.0       1.0            0.0           0.0\n",
      "...       ...  ...       ...            ...           ...\n",
      "1471      0.0  0.0       0.0            1.0           1.0\n",
      "1472      0.0  0.0       1.0            0.0           0.0\n",
      "1473      1.0  1.0       0.0            0.0           0.0\n",
      "1474      0.0  1.0       1.0            0.0           0.0\n",
      "1475      0.0  1.0       1.0            0.0           0.0\n",
      "\n",
      "[1476 rows x 5 columns]\n"
     ]
    }
   ],
   "source": [
    "\n",
    "preds = model.predict(X_test)\n",
    "preds[preds>=0.5] = 1\n",
    "preds[preds<0.5] = 0\n",
    "print(preds)\n",
    "preds_df=pd.DataFrame(data=preds, columns = [\"outwear\",\"top\",\"trousers\",\"women dresses\",\"women skirts\"])\n",
    "preds_df.index.name = \"id\"\n",
    "print(preds_df)"
   ]
  },
  {
   "cell_type": "code",
   "execution_count": 309,
   "metadata": {},
   "outputs": [],
   "source": [
    "preds_df.to_csv(\"predictions.csv\")"
   ]
  },
  {
   "cell_type": "code",
   "execution_count": 312,
   "metadata": {},
   "outputs": [
    {
     "name": "stdout",
     "output_type": "stream",
     "text": [
      "w237465 w167111 w279437 w194870 w351537 w175602 w209059 w118125 w120979 w150520 w59496 w34893 w189307 w144920 w187552 w239430 w162756 w255783 w342007\n"
     ]
    }
   ],
   "source": [
    "print(X_val[1])\n",
    "\n",
    "X_val = tokenizer.texts_to_sequences(X_val)\n",
    "\n",
    "X_val = pad_sequences(X_val, padding='post', maxlen=maxlen)"
   ]
  },
  {
   "cell_type": "code",
   "execution_count": 313,
   "metadata": {},
   "outputs": [
    {
     "name": "stdout",
     "output_type": "stream",
     "text": [
      "[  32  330   90    2  182  792 2419   80    7  581  243    1  608  158\n",
      "  255  122   77  110   29    0]\n",
      "20\n",
      "2460\n"
     ]
    }
   ],
   "source": [
    "\n",
    "#preds_val = model.predict(X_val)\n",
    "\n",
    "print(X_val[1])\n",
    "print(len(X_val[1]))\n",
    "print(len(X_val))\n"
   ]
  },
  {
   "cell_type": "code",
   "execution_count": 314,
   "metadata": {},
   "outputs": [
    {
     "name": "stdout",
     "output_type": "stream",
     "text": [
      "77/77 [==============================] - 1s 7ms/step\n",
      "[[0. 1. 1. 0. 0.]\n",
      " [1. 1. 0. 0. 0.]\n",
      " [1. 0. 1. 0. 0.]\n",
      " ...\n",
      " [1. 0. 1. 0. 0.]\n",
      " [0. 1. 1. 0. 0.]\n",
      " [0. 0. 1. 0. 1.]]\n"
     ]
    },
    {
     "data": {
      "text/plain": [
       "numpy.float32"
      ]
     },
     "execution_count": 314,
     "metadata": {},
     "output_type": "execute_result"
    }
   ],
   "source": [
    "preds_val = model.predict(X_val, verbose = 1)\n",
    "preds_val[preds_val>=0.5] = 1\n",
    "preds_val[preds_val<0.5] = 0\n",
    "\n",
    "print(preds_val)\n",
    "type(preds_val[1,1])"
   ]
  },
  {
   "cell_type": "code",
   "execution_count": 315,
   "metadata": {},
   "outputs": [
    {
     "name": "stdout",
     "output_type": "stream",
     "text": [
      "      outwear  top  trousers  women dresses  women skirts\n",
      "id                                                       \n",
      "0         0.0  1.0       1.0            0.0           0.0\n",
      "1         1.0  1.0       0.0            0.0           0.0\n",
      "2         1.0  0.0       1.0            0.0           0.0\n",
      "3         0.0  1.0       1.0            0.0           0.0\n",
      "4         1.0  1.0       1.0            0.0           0.0\n",
      "...       ...  ...       ...            ...           ...\n",
      "2455      0.0  0.0       1.0            1.0           0.0\n",
      "2456      1.0  0.0       1.0            0.0           0.0\n",
      "2457      1.0  0.0       1.0            0.0           0.0\n",
      "2458      0.0  1.0       1.0            0.0           0.0\n",
      "2459      0.0  0.0       1.0            0.0           1.0\n",
      "\n",
      "[2460 rows x 5 columns]\n"
     ]
    },
    {
     "data": {
      "text/plain": [
       "outwear          int32\n",
       "top              int32\n",
       "trousers         int32\n",
       "women dresses    int32\n",
       "women skirts     int32\n",
       "dtype: object"
      ]
     },
     "execution_count": 315,
     "metadata": {},
     "output_type": "execute_result"
    }
   ],
   "source": [
    "\n",
    "preds_val_df=pd.DataFrame(data=preds_val, columns = [\"outwear\",\"top\",\"trousers\",\"women dresses\",\"women skirts\"])\n",
    "preds_val_df.index.name = \"id\"\n",
    "\n",
    "print(preds_val_df)\n",
    "preds_val_df = preds_val_df.astype(int)\n",
    "preds_val_df.dtypes"
   ]
  },
  {
   "cell_type": "code",
   "execution_count": 316,
   "metadata": {},
   "outputs": [],
   "source": [
    "#preds_val_df.to_csv(\"predictionsVal.csv\")\n",
    "#preds_val_df.to_csv(\"mightbeoverfit.csv\")\n",
    "preds_val_df.to_csv(\"densermodel.csv\")\n"
   ]
  },
  {
   "cell_type": "code",
   "execution_count": 284,
   "metadata": {},
   "outputs": [
    {
     "name": "stdout",
     "output_type": "stream",
     "text": [
      "[0, 20]\n"
     ]
    }
   ],
   "source": [
    "maxval = [0]\n",
    "for line in X_val:\n",
    "    if len(line)>max(maxval):\n",
    "        maxval.append(len(line))\n",
    "print(maxval)"
   ]
  }
 ],
 "metadata": {
  "kernelspec": {
   "display_name": "Python 3",
   "language": "python",
   "name": "python3"
  },
  "language_info": {
   "codemirror_mode": {
    "name": "ipython",
    "version": 3
   },
   "file_extension": ".py",
   "mimetype": "text/x-python",
   "name": "python",
   "nbconvert_exporter": "python",
   "pygments_lexer": "ipython3",
   "version": "3.6.8"
  }
 },
 "nbformat": 4,
 "nbformat_minor": 4
}
