{
 "cells": [
  {
   "cell_type": "code",
   "execution_count": 1,
   "metadata": {},
   "outputs": [],
   "source": [
    "#import everything we could need\n",
    "from numpy import array\n",
    "from tensorflow.keras.preprocessing.text import one_hot\n",
    "from tensorflow.keras.preprocessing.sequence import pad_sequences\n",
    "from tensorflow.keras.models import Sequential\n",
    "from tensorflow.keras.layers import Activation, Dropout, Dense\n",
    "from tensorflow.keras.layers import Flatten, LSTM\n",
    "from tensorflow.keras.layers import GlobalMaxPooling1D\n",
    "from tensorflow.keras.models import Model\n",
    "from tensorflow.keras.layers import Embedding\n",
    "from sklearn.model_selection import train_test_split\n",
    "from tensorflow.keras.preprocessing.text import Tokenizer\n",
    "from tensorflow.keras.layers import Input\n",
    "from tensorflow.keras.layers import Concatenate\n",
    "from tensorflow.keras.layers import Dense, Input, LSTM, Bidirectional, Conv1D\n",
    "from tensorflow.keras.layers import Dropout, Embedding\n",
    "from tensorflow.keras.preprocessing import text, sequence\n",
    "from tensorflow.keras.layers import GlobalMaxPooling1D, GlobalAveragePooling1D, concatenate, SpatialDropout1D\n",
    "from tensorflow.keras.models import Model\n",
    "import tensorflow\n",
    "\n",
    "import pandas as pd\n",
    "import pandas as pd\n",
    "import numpy as np\n",
    "import re\n",
    "\n",
    "import matplotlib.pyplot as plt\n",
    "from numpy import array\n",
    "from numpy import asarray\n",
    "from numpy import zeros\n",
    "import pickle"
   ]
  },
  {
   "cell_type": "code",
   "execution_count": 2,
   "metadata": {},
   "outputs": [
    {
     "data": {
      "text/html": [
       "<div>\n",
       "<style scoped>\n",
       "    .dataframe tbody tr th:only-of-type {\n",
       "        vertical-align: middle;\n",
       "    }\n",
       "\n",
       "    .dataframe tbody tr th {\n",
       "        vertical-align: top;\n",
       "    }\n",
       "\n",
       "    .dataframe thead th {\n",
       "        text-align: right;\n",
       "    }\n",
       "</style>\n",
       "<table border=\"1\" class=\"dataframe\">\n",
       "  <thead>\n",
       "    <tr style=\"text-align: right;\">\n",
       "      <th></th>\n",
       "      <th>id</th>\n",
       "      <th>word_representation</th>\n",
       "      <th>outwear</th>\n",
       "      <th>top</th>\n",
       "      <th>trousers</th>\n",
       "      <th>women dresses</th>\n",
       "      <th>women skirts</th>\n",
       "    </tr>\n",
       "  </thead>\n",
       "  <tbody>\n",
       "    <tr>\n",
       "      <th>0</th>\n",
       "      <td>0</td>\n",
       "      <td>w7718 w173355 w138132 w232277 w90685 w314686 w...</td>\n",
       "      <td>1</td>\n",
       "      <td>0</td>\n",
       "      <td>1</td>\n",
       "      <td>0</td>\n",
       "      <td>0</td>\n",
       "    </tr>\n",
       "    <tr>\n",
       "      <th>1</th>\n",
       "      <td>1</td>\n",
       "      <td>w195317 w127737 w171593 w22890 w342007 w217871...</td>\n",
       "      <td>1</td>\n",
       "      <td>0</td>\n",
       "      <td>1</td>\n",
       "      <td>0</td>\n",
       "      <td>0</td>\n",
       "    </tr>\n",
       "    <tr>\n",
       "      <th>2</th>\n",
       "      <td>2</td>\n",
       "      <td>w247655 w270233 w261113 w337250 w366000 w37873...</td>\n",
       "      <td>0</td>\n",
       "      <td>1</td>\n",
       "      <td>1</td>\n",
       "      <td>0</td>\n",
       "      <td>0</td>\n",
       "    </tr>\n",
       "    <tr>\n",
       "      <th>3</th>\n",
       "      <td>3</td>\n",
       "      <td>w279289 w395855 w61795 w286461 w308610 w27013 ...</td>\n",
       "      <td>1</td>\n",
       "      <td>0</td>\n",
       "      <td>1</td>\n",
       "      <td>0</td>\n",
       "      <td>0</td>\n",
       "    </tr>\n",
       "    <tr>\n",
       "      <th>4</th>\n",
       "      <td>4</td>\n",
       "      <td>w254516 w135431 w115724 w331534 w256214 w71240...</td>\n",
       "      <td>1</td>\n",
       "      <td>0</td>\n",
       "      <td>1</td>\n",
       "      <td>0</td>\n",
       "      <td>0</td>\n",
       "    </tr>\n",
       "    <tr>\n",
       "      <th>5</th>\n",
       "      <td>5</td>\n",
       "      <td>w53495 w306061 w372126 w47982 w66980 w189406 w...</td>\n",
       "      <td>1</td>\n",
       "      <td>0</td>\n",
       "      <td>0</td>\n",
       "      <td>0</td>\n",
       "      <td>1</td>\n",
       "    </tr>\n",
       "    <tr>\n",
       "      <th>6</th>\n",
       "      <td>6</td>\n",
       "      <td>w237465 w256553 w286461 w382662 w206066 w12125...</td>\n",
       "      <td>1</td>\n",
       "      <td>0</td>\n",
       "      <td>0</td>\n",
       "      <td>1</td>\n",
       "      <td>0</td>\n",
       "    </tr>\n",
       "    <tr>\n",
       "      <th>7</th>\n",
       "      <td>7</td>\n",
       "      <td>w173317 w39222 w207614 w136665 w394246 w197783...</td>\n",
       "      <td>1</td>\n",
       "      <td>1</td>\n",
       "      <td>1</td>\n",
       "      <td>0</td>\n",
       "      <td>0</td>\n",
       "    </tr>\n",
       "    <tr>\n",
       "      <th>8</th>\n",
       "      <td>8</td>\n",
       "      <td>w373517 w37419 w358253 w162965 w286461 w204762...</td>\n",
       "      <td>1</td>\n",
       "      <td>0</td>\n",
       "      <td>0</td>\n",
       "      <td>0</td>\n",
       "      <td>0</td>\n",
       "    </tr>\n",
       "    <tr>\n",
       "      <th>9</th>\n",
       "      <td>9</td>\n",
       "      <td>w230409 w109269 w369689 w186076 w377961 w21787...</td>\n",
       "      <td>1</td>\n",
       "      <td>1</td>\n",
       "      <td>0</td>\n",
       "      <td>0</td>\n",
       "      <td>0</td>\n",
       "    </tr>\n",
       "  </tbody>\n",
       "</table>\n",
       "</div>"
      ],
      "text/plain": [
       "   id                                word_representation  outwear  top  \\\n",
       "0   0  w7718 w173355 w138132 w232277 w90685 w314686 w...        1    0   \n",
       "1   1  w195317 w127737 w171593 w22890 w342007 w217871...        1    0   \n",
       "2   2  w247655 w270233 w261113 w337250 w366000 w37873...        0    1   \n",
       "3   3  w279289 w395855 w61795 w286461 w308610 w27013 ...        1    0   \n",
       "4   4  w254516 w135431 w115724 w331534 w256214 w71240...        1    0   \n",
       "5   5  w53495 w306061 w372126 w47982 w66980 w189406 w...        1    0   \n",
       "6   6  w237465 w256553 w286461 w382662 w206066 w12125...        1    0   \n",
       "7   7  w173317 w39222 w207614 w136665 w394246 w197783...        1    1   \n",
       "8   8  w373517 w37419 w358253 w162965 w286461 w204762...        1    0   \n",
       "9   9  w230409 w109269 w369689 w186076 w377961 w21787...        1    1   \n",
       "\n",
       "   trousers  women dresses  women skirts  \n",
       "0         1              0             0  \n",
       "1         1              0             0  \n",
       "2         1              0             0  \n",
       "3         1              0             0  \n",
       "4         1              0             0  \n",
       "5         0              0             1  \n",
       "6         0              1             0  \n",
       "7         1              0             0  \n",
       "8         0              0             0  \n",
       "9         0              0             0  "
      ]
     },
     "execution_count": 2,
     "metadata": {},
     "output_type": "execute_result"
    }
   ],
   "source": [
    "#take a look at the data\n",
    "df = pd.read_csv('C:\\\\Users\\\\Raphael\\\\Downloads\\\\TIL_NLP_train_dataset.csv')\n",
    "df.head(10)"
   ]
  },
  {
   "cell_type": "code",
   "execution_count": 3,
   "metadata": {},
   "outputs": [
    {
     "data": {
      "text/html": [
       "<div>\n",
       "<style scoped>\n",
       "    .dataframe tbody tr th:only-of-type {\n",
       "        vertical-align: middle;\n",
       "    }\n",
       "\n",
       "    .dataframe tbody tr th {\n",
       "        vertical-align: top;\n",
       "    }\n",
       "\n",
       "    .dataframe thead th {\n",
       "        text-align: right;\n",
       "    }\n",
       "</style>\n",
       "<table border=\"1\" class=\"dataframe\">\n",
       "  <thead>\n",
       "    <tr style=\"text-align: right;\">\n",
       "      <th></th>\n",
       "      <th>outwear</th>\n",
       "      <th>top</th>\n",
       "      <th>trousers</th>\n",
       "      <th>women dresses</th>\n",
       "      <th>women skirts</th>\n",
       "    </tr>\n",
       "  </thead>\n",
       "  <tbody>\n",
       "    <tr>\n",
       "      <th>0</th>\n",
       "      <td>1</td>\n",
       "      <td>0</td>\n",
       "      <td>1</td>\n",
       "      <td>0</td>\n",
       "      <td>0</td>\n",
       "    </tr>\n",
       "    <tr>\n",
       "      <th>1</th>\n",
       "      <td>1</td>\n",
       "      <td>0</td>\n",
       "      <td>1</td>\n",
       "      <td>0</td>\n",
       "      <td>0</td>\n",
       "    </tr>\n",
       "    <tr>\n",
       "      <th>2</th>\n",
       "      <td>0</td>\n",
       "      <td>1</td>\n",
       "      <td>1</td>\n",
       "      <td>0</td>\n",
       "      <td>0</td>\n",
       "    </tr>\n",
       "    <tr>\n",
       "      <th>3</th>\n",
       "      <td>1</td>\n",
       "      <td>0</td>\n",
       "      <td>1</td>\n",
       "      <td>0</td>\n",
       "      <td>0</td>\n",
       "    </tr>\n",
       "    <tr>\n",
       "      <th>4</th>\n",
       "      <td>1</td>\n",
       "      <td>0</td>\n",
       "      <td>1</td>\n",
       "      <td>0</td>\n",
       "      <td>0</td>\n",
       "    </tr>\n",
       "  </tbody>\n",
       "</table>\n",
       "</div>"
      ],
      "text/plain": [
       "   outwear  top  trousers  women dresses  women skirts\n",
       "0        1    0         1              0             0\n",
       "1        1    0         1              0             0\n",
       "2        0    1         1              0             0\n",
       "3        1    0         1              0             0\n",
       "4        1    0         1              0             0"
      ]
     },
     "execution_count": 3,
     "metadata": {},
     "output_type": "execute_result"
    }
   ],
   "source": [
    "#check if labels are correct\n",
    "df_labels = df[[\"outwear\", \"top\", \"trousers\", \"women dresses\", \"women skirts\"]]\n",
    "df_labels.head()"
   ]
  },
  {
   "cell_type": "code",
   "execution_count": 4,
   "metadata": {},
   "outputs": [
    {
     "name": "stdout",
     "output_type": "stream",
     "text": [
      "w195317 w127737 w171593 w22890 w342007 w217871 w289824 w500005 w85858 w241910 w194870 w192814 w127834 w263923 w241910\n",
      "<class 'list'>\n",
      "162\n",
      "w195317 w127737 w171593 w22890 w342007 w217871 w289824 w500005 w85858 w241910 w194870 w192814 w127834 w263923 w241910\n",
      "<class 'str'>\n"
     ]
    }
   ],
   "source": [
    "#used this when trying out removing certain words, currently removing nothing\n",
    "X = list(df[\"word_representation\"])\n",
    "y = df_labels.values\n",
    "print(X[1])\n",
    "print( type(X))\n",
    "print(len(X[2]))\n",
    "banlist=[]\n",
    "mod_X = []\n",
    "for sen in X:\n",
    "    tmp = sen.split(\" \")\n",
    "    ans = [x for x in tmp if x not in banlist]\n",
    "    mod_sen = (\" \").join(ans)\n",
    "    mod_X.append(mod_sen)\n",
    "\n",
    "print(mod_X[1])\n",
    "print(type(X[1]))"
   ]
  },
  {
   "cell_type": "code",
   "execution_count": 5,
   "metadata": {},
   "outputs": [
    {
     "name": "stdout",
     "output_type": "stream",
     "text": [
      "365\n"
     ]
    }
   ],
   "source": [
    "def find_max_list(list):\n",
    "    list_len = [len(i) for i in list]\n",
    "    print(max(list_len))\n",
    "\n",
    "#print output#\n",
    "find_max_list(mod_X)\n",
    "\n"
   ]
  },
  {
   "cell_type": "code",
   "execution_count": 6,
   "metadata": {},
   "outputs": [
    {
     "name": "stdout",
     "output_type": "stream",
     "text": [
      "<class 'numpy.ndarray'>\n"
     ]
    }
   ],
   "source": [
    "df_val = pd.read_csv('C:\\\\Users\\\\Raphael\\\\Downloads\\\\TIL_NLP_test_dataset.csv')\n",
    "df_val.head(10)\n",
    "X_val=df_val['word_representation'].values\n",
    "print(type(X_val))"
   ]
  },
  {
   "cell_type": "code",
   "execution_count": 7,
   "metadata": {},
   "outputs": [
    {
     "name": "stdout",
     "output_type": "stream",
     "text": [
      "162\n"
     ]
    }
   ],
   "source": [
    "print(len(X[2]))"
   ]
  },
  {
   "cell_type": "code",
   "execution_count": 8,
   "metadata": {},
   "outputs": [
    {
     "name": "stdout",
     "output_type": "stream",
     "text": [
      "[[ 489  534  158  535    9   88  207    3  211  315  439  209    3 3028\n",
      "  1300   11  709   39   44  107  662    0    0    0]\n",
      " [  32   27   10  159  873   28  934  143  727   49   89  327    8    0\n",
      "     0    0    0    0    0    0    0    0    0    0]\n",
      " [  79  403  394    3  395  396   16    1  389   64  387    5  397    1\n",
      "   404   35   56    4   51  309  141   92 1064   17]\n",
      " [  24   83  405   98   10   30  953  954  870   14  288   29    4  377\n",
      "   980  904  175  173    0    0    0    0    0    0]\n",
      " [ 122 1252 1964  104   35   20   22  244  164  490  536   39  406  559\n",
      "     3  232   68    1   59   14  968  404   35   29]\n",
      " [ 710  745  799    9  125  369  163   19  185  746   54  132  560  309\n",
      "   994 3029   21   15   20    0    0    0    0    0]\n",
      " [ 899 2355   89   18   69   84    3  269  510   16  170   55  287  469\n",
      "   129    6    0    0    0    0    0    0    0    0]\n",
      " [  44  398   68  174  995   25    7   64  871   21  830  874    0    0\n",
      "     0    0    0    0    0    0    0    0    0    0]\n",
      " [1452  205  151    3  537    1   90  538  109  491   26   84   86 1561\n",
      "   338  114    0    0    0    0    0    0    0    0]\n",
      " [   1   28  208    5  232   75    1  309  994  206   92  224  539  209\n",
      "    29  100    4   44  101  144 1562  304  366  941]\n",
      " [ 663  684  215  773  152  237   85  800  227    6  808    3  812 1563\n",
      "    58   56    0    0    0    0    0    0    0    0]\n",
      " [ 136  635  801   25    7 1965 1171   70   25    7   32   27   53  292\n",
      "     2  133  561    0    0    0    0    0    0    0]\n",
      " [  50   27 1966   57   34  786   65   31    5   48  155    3  103   40\n",
      "    47  304    6    5   48    0    0    0    0    0]\n",
      " [ 151  853   62  194  289  935  137  296   20    3  383 3030 2356  899\n",
      "   905   18  335   89    2  587  511  249    0    0]\n",
      " [ 257   32   27  540  154  615   32   27  225    5   43    2  253  117\n",
      "   142  898   18    3    1  222   54  774   35   20]]\n"
     ]
    }
   ],
   "source": [
    "#why fix num words\n",
    "tokenizer = Tokenizer(num_words=4250)\n",
    "tokenizer.fit_on_texts(mod_X)\n",
    "\n",
    "mod_X = tokenizer.texts_to_sequences(mod_X)\n",
    "X_val = tokenizer.texts_to_sequences(X_val)\n",
    "\n",
    "vocab_size = len(tokenizer.word_index) + 1\n",
    "#what is max lenm hit .983 with len 24\n",
    "#changing to 22 to see if fitting for test data is better\n",
    "maxlen = 24\n",
    "pre_pad_X = mod_X\n",
    "pre_pad_X_val = X_val\n",
    "mod_X = pad_sequences(mod_X, padding='post', maxlen=maxlen)\n",
    "X_val = pad_sequences(X_val, padding='post', maxlen=maxlen)\n",
    "print(mod_X[5:20])\n",
    "#print(type(mod_X[1]))"
   ]
  },
  {
   "cell_type": "code",
   "execution_count": 9,
   "metadata": {},
   "outputs": [],
   "source": [
    "all_lens = []\n",
    "for i in range(7380):\n",
    "    all_lens.append(len(pre_pad_X[i]))\n",
    "#dflens = pd.DataFrame(all_lens,columns=['Lengths'])\n",
    "# for line in mod_X:\n",
    "#     i = len(line)\n",
    "#     all_lens.append(i)\n",
    "# plt.bar(range(360), all_lens)"
   ]
  },
  {
   "cell_type": "code",
   "execution_count": 10,
   "metadata": {},
   "outputs": [
    {
     "name": "stdout",
     "output_type": "stream",
     "text": [
      "47\n",
      "8\n",
      "7380\n"
     ]
    }
   ],
   "source": [
    "#print(all_lens)\n",
    "print(max(all_lens))\n",
    "print(min(all_lens))\n",
    "print(len(all_lens))"
   ]
  },
  {
   "cell_type": "code",
   "execution_count": 11,
   "metadata": {},
   "outputs": [],
   "source": [
    "type(all_lens)\n",
    "dflens = pd.DataFrame(all_lens,columns=['Lengths'])"
   ]
  },
  {
   "cell_type": "code",
   "execution_count": 12,
   "metadata": {},
   "outputs": [
    {
     "data": {
      "text/plain": [
       "array([[<matplotlib.axes._subplots.AxesSubplot object at 0x00000299980B6710>]],\n",
       "      dtype=object)"
      ]
     },
     "execution_count": 12,
     "metadata": {},
     "output_type": "execute_result"
    },
    {
     "data": {
      "image/png": "[encoded data removed]",
      "text/plain": [
       "<Figure size 432x288 with 1 Axes>"
      ]
     },
     "metadata": {
      "needs_background": "light"
     },
     "output_type": "display_data"
    }
   ],
   "source": [
    "dflens.hist()"
   ]
  },
  {
   "cell_type": "code",
   "execution_count": 13,
   "metadata": {},
   "outputs": [
    {
     "name": "stdout",
     "output_type": "stream",
     "text": [
      "[  32  337   99    2  175  814 2679   81    7  553  234    1  601  152\n",
      "  229  120   77  103   29    0    0    0    0    0]\n",
      "<class 'numpy.ndarray'>\n",
      "4250\n"
     ]
    }
   ],
   "source": [
    "print(X_val[1])\n",
    "embeddings_dictionary = pd.read_pickle(\"word_embeddings.pkl\")\n",
    "\n",
    "embedding_matrix = zeros((vocab_size, 100))\n",
    "for word, index in tokenizer.word_index.items():\n",
    "#    if word in banlist:\n",
    "#        continue\n",
    "    embedding_vector = embeddings_dictionary.get(word)\n",
    "    if embedding_vector is not None :\n",
    "        embedding_matrix[index] = embedding_vector\n",
    "print(type(embedding_matrix))\n",
    "print(len(embedding_matrix))"
   ]
  },
  {
   "cell_type": "code",
   "execution_count": 14,
   "metadata": {},
   "outputs": [],
   "source": [
    "#create the model, using embeddding layer and \n",
    "inp = Input(shape=(maxlen,))\n",
    "#all drop out rates used to be .10 lower, with only 10 epochs)\n",
    "x = Embedding(vocab_size, 100, weights=[embedding_matrix], trainable=True)(inp)\n",
    "x = SpatialDropout1D(0.45)(x)\n",
    "\n",
    "x = Bidirectional(LSTM(128, return_sequences=True, dropout=0.25, recurrent_dropout=0.25))(x)\n",
    "x = Conv1D(64, kernel_size=3, padding='valid', kernel_initializer='glorot_uniform')(x)\n",
    "#x = Conv1D(16, kernel_size=2, padding='valid', kernel_initializer='glorot_uniform')(x)\n",
    "#avg_pool = GlobalAveragePooling1D()(x)\n",
    "#max_pool = GlobalMaxPooling1D()(x)\n",
    "#x = concatenate([avg_pool, max_pool])\n",
    "x = GlobalAveragePooling1D()(x)\n",
    "out = Dense(5, activation='sigmoid')(x)\n",
    "model = Model(inp, out)\n",
    "model.compile(loss='binary_crossentropy', optimizer='adam', metrics=['accuracy'])"
   ]
  },
  {
   "cell_type": "code",
   "execution_count": 15,
   "metadata": {},
   "outputs": [
    {
     "name": "stdout",
     "output_type": "stream",
     "text": [
      "Epoch 1/25\n",
      "35/35 [==============================] - 4s 125ms/step - loss: 0.5634 - accuracy: 0.2699 - val_loss: 0.4799 - val_accuracy: 0.3052\n",
      "Epoch 2/25\n",
      "35/35 [==============================] - 4s 111ms/step - loss: 0.4537 - accuracy: 0.4246 - val_loss: 0.3300 - val_accuracy: 0.6365\n",
      "Epoch 3/25\n",
      "35/35 [==============================] - 4s 116ms/step - loss: 0.3532 - accuracy: 0.5215 - val_loss: 0.2236 - val_accuracy: 0.5325\n",
      "Epoch 4/25\n",
      "35/35 [==============================] - 5s 134ms/step - loss: 0.2614 - accuracy: 0.5438 - val_loss: 0.1582 - val_accuracy: 0.4936\n",
      "Epoch 5/25\n",
      "35/35 [==============================] - 4s 128ms/step - loss: 0.2039 - accuracy: 0.5513 - val_loss: 0.1261 - val_accuracy: 0.5010\n",
      "Epoch 6/25\n",
      "35/35 [==============================] - 4s 119ms/step - loss: 0.1604 - accuracy: 0.5425 - val_loss: 0.1152 - val_accuracy: 0.5071\n",
      "Epoch 7/25\n",
      "35/35 [==============================] - 4s 116ms/step - loss: 0.1404 - accuracy: 0.5519 - val_loss: 0.1024 - val_accuracy: 0.5041\n",
      "Epoch 8/25\n",
      "35/35 [==============================] - 4s 115ms/step - loss: 0.1209 - accuracy: 0.5477 - val_loss: 0.0967 - val_accuracy: 0.4915\n",
      "Epoch 9/25\n",
      "35/35 [==============================] - 4s 122ms/step - loss: 0.1050 - accuracy: 0.5364 - val_loss: 0.0907 - val_accuracy: 0.4983\n",
      "Epoch 10/25\n",
      "35/35 [==============================] - 4s 120ms/step - loss: 0.0919 - accuracy: 0.5407 - val_loss: 0.0845 - val_accuracy: 0.4946\n",
      "Epoch 11/25\n",
      "35/35 [==============================] - 4s 116ms/step - loss: 0.0861 - accuracy: 0.5352 - val_loss: 0.0841 - val_accuracy: 0.4895\n",
      "Epoch 12/25\n",
      "35/35 [==============================] - 4s 116ms/step - loss: 0.0805 - accuracy: 0.5515 - val_loss: 0.0815 - val_accuracy: 0.5176\n",
      "Epoch 13/25\n",
      "35/35 [==============================] - 4s 114ms/step - loss: 0.0748 - accuracy: 0.5483 - val_loss: 0.0818 - val_accuracy: 0.5030\n",
      "Epoch 14/25\n",
      "35/35 [==============================] - 4s 117ms/step - loss: 0.0691 - accuracy: 0.5519 - val_loss: 0.0796 - val_accuracy: 0.5119\n",
      "Epoch 15/25\n",
      "35/35 [==============================] - 4s 116ms/step - loss: 0.0650 - accuracy: 0.5375 - val_loss: 0.0796 - val_accuracy: 0.5044\n",
      "Epoch 16/25\n",
      "35/35 [==============================] - 4s 115ms/step - loss: 0.0593 - accuracy: 0.5397 - val_loss: 0.0755 - val_accuracy: 0.5030\n",
      "Epoch 17/25\n",
      "35/35 [==============================] - 4s 118ms/step - loss: 0.0582 - accuracy: 0.5370 - val_loss: 0.0765 - val_accuracy: 0.4905\n",
      "Epoch 18/25\n",
      "35/35 [==============================] - 4s 117ms/step - loss: 0.0568 - accuracy: 0.5280 - val_loss: 0.0720 - val_accuracy: 0.5000\n",
      "Epoch 19/25\n",
      "35/35 [==============================] - 4s 116ms/step - loss: 0.0523 - accuracy: 0.5429 - val_loss: 0.0735 - val_accuracy: 0.5271\n",
      "Epoch 20/25\n",
      "35/35 [==============================] - 4s 118ms/step - loss: 0.0493 - accuracy: 0.5291 - val_loss: 0.0745 - val_accuracy: 0.4814\n",
      "Epoch 21/25\n",
      "35/35 [==============================] - 4s 116ms/step - loss: 0.0459 - accuracy: 0.5262 - val_loss: 0.0736 - val_accuracy: 0.5000\n",
      "Epoch 22/25\n",
      "35/35 [==============================] - 4s 115ms/step - loss: 0.0445 - accuracy: 0.5287 - val_loss: 0.0729 - val_accuracy: 0.4970\n",
      "Epoch 23/25\n",
      "35/35 [==============================] - 4s 116ms/step - loss: 0.0446 - accuracy: 0.5217 - val_loss: 0.0725 - val_accuracy: 0.5027\n",
      "Epoch 24/25\n",
      "35/35 [==============================] - 4s 118ms/step - loss: 0.0422 - accuracy: 0.5341 - val_loss: 0.0745 - val_accuracy: 0.5091\n",
      "Epoch 25/25\n",
      "35/35 [==============================] - 4s 125ms/step - loss: 0.0391 - accuracy: 0.5167 - val_loss: 0.0722 - val_accuracy: 0.5136\n"
     ]
    }
   ],
   "source": [
    "#fit model\n",
    "history = model.fit(mod_X, y, batch_size=128, epochs=25, verbose=1, validation_split=0.4)"
   ]
  },
  {
   "cell_type": "code",
   "execution_count": 16,
   "metadata": {},
   "outputs": [
    {
     "name": "stdout",
     "output_type": "stream",
     "text": [
      "77/77 [==============================] - 0s 6ms/step\n",
      "[[0. 1. 1. 0. 0.]\n",
      " [1. 1. 0. 0. 0.]\n",
      " [1. 0. 1. 0. 0.]\n",
      " ...\n",
      " [1. 0. 1. 0. 0.]\n",
      " [1. 1. 1. 0. 0.]\n",
      " [0. 0. 1. 0. 1.]]\n"
     ]
    },
    {
     "data": {
      "text/plain": [
       "numpy.float32"
      ]
     },
     "execution_count": 16,
     "metadata": {},
     "output_type": "execute_result"
    }
   ],
   "source": [
    "#assign predicted values, rounding up and down respectively\n",
    "preds_val = model.predict(X_val, verbose = 1)\n",
    "preds_val[preds_val>=0.5] = 1\n",
    "preds_val[preds_val<0.5] = 0\n",
    "\n",
    "print(preds_val)\n",
    "type(preds_val[1,1])"
   ]
  },
  {
   "cell_type": "code",
   "execution_count": 17,
   "metadata": {},
   "outputs": [
    {
     "name": "stdout",
     "output_type": "stream",
     "text": [
      "      outwear  top  trousers  women dresses  women skirts\n",
      "id                                                       \n",
      "0         0.0  1.0       1.0            0.0           0.0\n",
      "1         1.0  1.0       0.0            0.0           0.0\n",
      "2         1.0  0.0       1.0            0.0           0.0\n",
      "3         0.0  1.0       1.0            0.0           0.0\n",
      "4         0.0  1.0       1.0            0.0           0.0\n",
      "...       ...  ...       ...            ...           ...\n",
      "2455      0.0  0.0       1.0            1.0           0.0\n",
      "2456      1.0  0.0       1.0            0.0           0.0\n",
      "2457      1.0  0.0       1.0            0.0           0.0\n",
      "2458      1.0  1.0       1.0            0.0           0.0\n",
      "2459      0.0  0.0       1.0            0.0           1.0\n",
      "\n",
      "[2460 rows x 5 columns]\n"
     ]
    },
    {
     "data": {
      "text/plain": [
       "outwear          int32\n",
       "top              int32\n",
       "trousers         int32\n",
       "women dresses    int32\n",
       "women skirts     int32\n",
       "dtype: object"
      ]
     },
     "execution_count": 17,
     "metadata": {},
     "output_type": "execute_result"
    }
   ],
   "source": [
    "#create column values\n",
    "preds_val_df=pd.DataFrame(data=preds_val, columns = [\"outwear\",\"top\",\"trousers\",\"women dresses\",\"women skirts\"])\n",
    "preds_val_df.index.name = \"id\"\n",
    "\n",
    "print(preds_val_df)\n",
    "preds_val_df = preds_val_df.astype(int)\n",
    "preds_val_df.dtypes"
   ]
  },
  {
   "cell_type": "code",
   "execution_count": 18,
   "metadata": {},
   "outputs": [],
   "source": [
    "#write to csv\n",
    "preds_val_df.to_csv(\"solution.csv\")"
   ]
  },
  {
   "cell_type": "code",
   "execution_count": 19,
   "metadata": {},
   "outputs": [
    {
     "data": {
      "text/plain": [
       "[24, 443, 14, 101, 90, 409, 1166, 35, 20, 706, 4, 62, 1050, 160]"
      ]
     },
     "execution_count": 19,
     "metadata": {},
     "output_type": "execute_result"
    }
   ],
   "source": [
    "#checking for lengths\n",
    "pre_pad_X_val[0]"
   ]
  },
  {
   "cell_type": "code",
   "execution_count": 20,
   "metadata": {},
   "outputs": [
    {
     "data": {
      "text/html": [
       "<div>\n",
       "<style scoped>\n",
       "    .dataframe tbody tr th:only-of-type {\n",
       "        vertical-align: middle;\n",
       "    }\n",
       "\n",
       "    .dataframe tbody tr th {\n",
       "        vertical-align: top;\n",
       "    }\n",
       "\n",
       "    .dataframe thead th {\n",
       "        text-align: right;\n",
       "    }\n",
       "</style>\n",
       "<table border=\"1\" class=\"dataframe\">\n",
       "  <thead>\n",
       "    <tr style=\"text-align: right;\">\n",
       "      <th></th>\n",
       "      <th>Lengths</th>\n",
       "    </tr>\n",
       "  </thead>\n",
       "  <tbody>\n",
       "    <tr>\n",
       "      <th>0</th>\n",
       "      <td>14</td>\n",
       "    </tr>\n",
       "    <tr>\n",
       "      <th>1</th>\n",
       "      <td>19</td>\n",
       "    </tr>\n",
       "    <tr>\n",
       "      <th>2</th>\n",
       "      <td>20</td>\n",
       "    </tr>\n",
       "    <tr>\n",
       "      <th>3</th>\n",
       "      <td>25</td>\n",
       "    </tr>\n",
       "    <tr>\n",
       "      <th>4</th>\n",
       "      <td>21</td>\n",
       "    </tr>\n",
       "    <tr>\n",
       "      <th>...</th>\n",
       "      <td>...</td>\n",
       "    </tr>\n",
       "    <tr>\n",
       "      <th>2455</th>\n",
       "      <td>17</td>\n",
       "    </tr>\n",
       "    <tr>\n",
       "      <th>2456</th>\n",
       "      <td>22</td>\n",
       "    </tr>\n",
       "    <tr>\n",
       "      <th>2457</th>\n",
       "      <td>15</td>\n",
       "    </tr>\n",
       "    <tr>\n",
       "      <th>2458</th>\n",
       "      <td>18</td>\n",
       "    </tr>\n",
       "    <tr>\n",
       "      <th>2459</th>\n",
       "      <td>20</td>\n",
       "    </tr>\n",
       "  </tbody>\n",
       "</table>\n",
       "<p>2460 rows × 1 columns</p>\n",
       "</div>"
      ],
      "text/plain": [
       "      Lengths\n",
       "0          14\n",
       "1          19\n",
       "2          20\n",
       "3          25\n",
       "4          21\n",
       "...       ...\n",
       "2455       17\n",
       "2456       22\n",
       "2457       15\n",
       "2458       18\n",
       "2459       20\n",
       "\n",
       "[2460 rows x 1 columns]"
      ]
     },
     "execution_count": 20,
     "metadata": {},
     "output_type": "execute_result"
    }
   ],
   "source": [
    "#prepare list of lengths to graph\n",
    "all_lens_val = []\n",
    "for i in range(2460):\n",
    "    all_lens_val.append(len(pre_pad_X_val[i]))\n",
    "dflens_val = pd.DataFrame(all_lens_val,columns=['Lengths'])\n",
    "dflens_val"
   ]
  },
  {
   "cell_type": "code",
   "execution_count": 21,
   "metadata": {},
   "outputs": [
    {
     "data": {
      "text/plain": [
       "array([[<matplotlib.axes._subplots.AxesSubplot object at 0x000002999CBE0C50>]],\n",
       "      dtype=object)"
      ]
     },
     "execution_count": 21,
     "metadata": {},
     "output_type": "execute_result"
    },
    {
     "data": {
      "image/png": "[encoded data removed]",
      "text/plain": [
       "<Figure size 432x288 with 1 Axes>"
      ]
     },
     "metadata": {
      "needs_background": "light"
     },
     "output_type": "display_data"
    }
   ],
   "source": [
    "#graph lengths to edit maxlen if necessary\n",
    "dflens_val.hist()\n"
   ]
  }
 ],
 "metadata": {
  "kernelspec": {
   "display_name": "Python 3.6.8 64-bit ('TIL-2020': pipenv)",
   "language": "python",
   "name": "python36864bittil2020pipenv2f21c983fd1542a19b317973bf347e7d"
  },
  "language_info": {
   "codemirror_mode": {
    "name": "ipython",
    "version": 3
   },
   "file_extension": ".py",
   "mimetype": "text/x-python",
   "name": "python",
   "nbconvert_exporter": "python",
   "pygments_lexer": "ipython3",
   "version": "3.6.8"
  }
 },
 "nbformat": 4,
 "nbformat_minor": 4
}
