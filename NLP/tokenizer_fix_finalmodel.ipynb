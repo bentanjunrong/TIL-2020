{
 "cells": [
  {
   "cell_type": "code",
   "execution_count": 17,
   "metadata": {},
   "outputs": [],
   "source": [
    "from numpy import array\n",
    "from tensorflow.keras.preprocessing.text import one_hot\n",
    "from tensorflow.keras.preprocessing.sequence import pad_sequences\n",
    "from tensorflow.keras.models import Sequential\n",
    "from tensorflow.keras.layers import Activation, Dropout, Dense\n",
    "from tensorflow.keras.layers import Flatten, LSTM\n",
    "from tensorflow.keras.layers import GlobalMaxPooling1D\n",
    "from tensorflow.keras.models import Model\n",
    "from tensorflow.keras.layers import Embedding\n",
    "from sklearn.model_selection import train_test_split\n",
    "from tensorflow.keras.preprocessing.text import Tokenizer\n",
    "from tensorflow.keras.layers import Input\n",
    "from tensorflow.keras.layers import Concatenate\n",
    "from tensorflow.keras.layers import Dense, Input, LSTM, Bidirectional, Conv1D\n",
    "from tensorflow.keras.layers import Dropout, Embedding\n",
    "from tensorflow.keras.preprocessing import text, sequence\n",
    "from tensorflow.keras.layers import GlobalMaxPooling1D, GlobalAveragePooling1D, concatenate, SpatialDropout1D\n",
    "from tensorflow.keras.models import Model\n",
    "import tensorflow\n",
    "\n",
    "import pandas as pd\n",
    "import pandas as pd\n",
    "import numpy as np\n",
    "import re\n",
    "\n",
    "import matplotlib.pyplot as plt\n",
    "from numpy import array\n",
    "from numpy import asarray\n",
    "from numpy import zeros\n",
    "import pickle"
   ]
  },
  {
   "cell_type": "code",
   "execution_count": 2,
   "metadata": {},
   "outputs": [
    {
     "data": {
      "text/html": [
       "<div>\n",
       "<style scoped>\n",
       "    .dataframe tbody tr th:only-of-type {\n",
       "        vertical-align: middle;\n",
       "    }\n",
       "\n",
       "    .dataframe tbody tr th {\n",
       "        vertical-align: top;\n",
       "    }\n",
       "\n",
       "    .dataframe thead th {\n",
       "        text-align: right;\n",
       "    }\n",
       "</style>\n",
       "<table border=\"1\" class=\"dataframe\">\n",
       "  <thead>\n",
       "    <tr style=\"text-align: right;\">\n",
       "      <th></th>\n",
       "      <th>id</th>\n",
       "      <th>word_representation</th>\n",
       "      <th>outwear</th>\n",
       "      <th>top</th>\n",
       "      <th>trousers</th>\n",
       "      <th>women dresses</th>\n",
       "      <th>women skirts</th>\n",
       "    </tr>\n",
       "  </thead>\n",
       "  <tbody>\n",
       "    <tr>\n",
       "      <th>0</th>\n",
       "      <td>0</td>\n",
       "      <td>w7718 w173355 w138132 w232277 w90685 w314686 w...</td>\n",
       "      <td>1</td>\n",
       "      <td>0</td>\n",
       "      <td>1</td>\n",
       "      <td>0</td>\n",
       "      <td>0</td>\n",
       "    </tr>\n",
       "    <tr>\n",
       "      <th>1</th>\n",
       "      <td>1</td>\n",
       "      <td>w195317 w127737 w171593 w22890 w342007 w217871...</td>\n",
       "      <td>1</td>\n",
       "      <td>0</td>\n",
       "      <td>1</td>\n",
       "      <td>0</td>\n",
       "      <td>0</td>\n",
       "    </tr>\n",
       "    <tr>\n",
       "      <th>2</th>\n",
       "      <td>2</td>\n",
       "      <td>w247655 w270233 w261113 w337250 w366000 w37873...</td>\n",
       "      <td>0</td>\n",
       "      <td>1</td>\n",
       "      <td>1</td>\n",
       "      <td>0</td>\n",
       "      <td>0</td>\n",
       "    </tr>\n",
       "    <tr>\n",
       "      <th>3</th>\n",
       "      <td>3</td>\n",
       "      <td>w279289 w395855 w61795 w286461 w308610 w27013 ...</td>\n",
       "      <td>1</td>\n",
       "      <td>0</td>\n",
       "      <td>1</td>\n",
       "      <td>0</td>\n",
       "      <td>0</td>\n",
       "    </tr>\n",
       "    <tr>\n",
       "      <th>4</th>\n",
       "      <td>4</td>\n",
       "      <td>w254516 w135431 w115724 w331534 w256214 w71240...</td>\n",
       "      <td>1</td>\n",
       "      <td>0</td>\n",
       "      <td>1</td>\n",
       "      <td>0</td>\n",
       "      <td>0</td>\n",
       "    </tr>\n",
       "    <tr>\n",
       "      <th>5</th>\n",
       "      <td>5</td>\n",
       "      <td>w53495 w306061 w372126 w47982 w66980 w189406 w...</td>\n",
       "      <td>1</td>\n",
       "      <td>0</td>\n",
       "      <td>0</td>\n",
       "      <td>0</td>\n",
       "      <td>1</td>\n",
       "    </tr>\n",
       "    <tr>\n",
       "      <th>6</th>\n",
       "      <td>6</td>\n",
       "      <td>w237465 w256553 w286461 w382662 w206066 w12125...</td>\n",
       "      <td>1</td>\n",
       "      <td>0</td>\n",
       "      <td>0</td>\n",
       "      <td>1</td>\n",
       "      <td>0</td>\n",
       "    </tr>\n",
       "    <tr>\n",
       "      <th>7</th>\n",
       "      <td>7</td>\n",
       "      <td>w173317 w39222 w207614 w136665 w394246 w197783...</td>\n",
       "      <td>1</td>\n",
       "      <td>1</td>\n",
       "      <td>1</td>\n",
       "      <td>0</td>\n",
       "      <td>0</td>\n",
       "    </tr>\n",
       "    <tr>\n",
       "      <th>8</th>\n",
       "      <td>8</td>\n",
       "      <td>w373517 w37419 w358253 w162965 w286461 w204762...</td>\n",
       "      <td>1</td>\n",
       "      <td>0</td>\n",
       "      <td>0</td>\n",
       "      <td>0</td>\n",
       "      <td>0</td>\n",
       "    </tr>\n",
       "    <tr>\n",
       "      <th>9</th>\n",
       "      <td>9</td>\n",
       "      <td>w230409 w109269 w369689 w186076 w377961 w21787...</td>\n",
       "      <td>1</td>\n",
       "      <td>1</td>\n",
       "      <td>0</td>\n",
       "      <td>0</td>\n",
       "      <td>0</td>\n",
       "    </tr>\n",
       "  </tbody>\n",
       "</table>\n",
       "</div>"
      ],
      "text/plain": [
       "   id                                word_representation  outwear  top  \\\n",
       "0   0  w7718 w173355 w138132 w232277 w90685 w314686 w...        1    0   \n",
       "1   1  w195317 w127737 w171593 w22890 w342007 w217871...        1    0   \n",
       "2   2  w247655 w270233 w261113 w337250 w366000 w37873...        0    1   \n",
       "3   3  w279289 w395855 w61795 w286461 w308610 w27013 ...        1    0   \n",
       "4   4  w254516 w135431 w115724 w331534 w256214 w71240...        1    0   \n",
       "5   5  w53495 w306061 w372126 w47982 w66980 w189406 w...        1    0   \n",
       "6   6  w237465 w256553 w286461 w382662 w206066 w12125...        1    0   \n",
       "7   7  w173317 w39222 w207614 w136665 w394246 w197783...        1    1   \n",
       "8   8  w373517 w37419 w358253 w162965 w286461 w204762...        1    0   \n",
       "9   9  w230409 w109269 w369689 w186076 w377961 w21787...        1    1   \n",
       "\n",
       "   trousers  women dresses  women skirts  \n",
       "0         1              0             0  \n",
       "1         1              0             0  \n",
       "2         1              0             0  \n",
       "3         1              0             0  \n",
       "4         1              0             0  \n",
       "5         0              0             1  \n",
       "6         0              1             0  \n",
       "7         1              0             0  \n",
       "8         0              0             0  \n",
       "9         0              0             0  "
      ]
     },
     "execution_count": 2,
     "metadata": {},
     "output_type": "execute_result"
    }
   ],
   "source": [
    "\n",
    "df = pd.read_csv('C:\\\\Users\\\\Raphael\\\\Downloads\\\\TIL_NLP_train_dataset.csv')\n",
    "df.head(10)"
   ]
  },
  {
   "cell_type": "code",
   "execution_count": 3,
   "metadata": {},
   "outputs": [
    {
     "data": {
      "text/html": [
       "<div>\n",
       "<style scoped>\n",
       "    .dataframe tbody tr th:only-of-type {\n",
       "        vertical-align: middle;\n",
       "    }\n",
       "\n",
       "    .dataframe tbody tr th {\n",
       "        vertical-align: top;\n",
       "    }\n",
       "\n",
       "    .dataframe thead th {\n",
       "        text-align: right;\n",
       "    }\n",
       "</style>\n",
       "<table border=\"1\" class=\"dataframe\">\n",
       "  <thead>\n",
       "    <tr style=\"text-align: right;\">\n",
       "      <th></th>\n",
       "      <th>outwear</th>\n",
       "      <th>top</th>\n",
       "      <th>trousers</th>\n",
       "      <th>women dresses</th>\n",
       "      <th>women skirts</th>\n",
       "    </tr>\n",
       "  </thead>\n",
       "  <tbody>\n",
       "    <tr>\n",
       "      <th>0</th>\n",
       "      <td>1</td>\n",
       "      <td>0</td>\n",
       "      <td>1</td>\n",
       "      <td>0</td>\n",
       "      <td>0</td>\n",
       "    </tr>\n",
       "    <tr>\n",
       "      <th>1</th>\n",
       "      <td>1</td>\n",
       "      <td>0</td>\n",
       "      <td>1</td>\n",
       "      <td>0</td>\n",
       "      <td>0</td>\n",
       "    </tr>\n",
       "    <tr>\n",
       "      <th>2</th>\n",
       "      <td>0</td>\n",
       "      <td>1</td>\n",
       "      <td>1</td>\n",
       "      <td>0</td>\n",
       "      <td>0</td>\n",
       "    </tr>\n",
       "    <tr>\n",
       "      <th>3</th>\n",
       "      <td>1</td>\n",
       "      <td>0</td>\n",
       "      <td>1</td>\n",
       "      <td>0</td>\n",
       "      <td>0</td>\n",
       "    </tr>\n",
       "    <tr>\n",
       "      <th>4</th>\n",
       "      <td>1</td>\n",
       "      <td>0</td>\n",
       "      <td>1</td>\n",
       "      <td>0</td>\n",
       "      <td>0</td>\n",
       "    </tr>\n",
       "  </tbody>\n",
       "</table>\n",
       "</div>"
      ],
      "text/plain": [
       "   outwear  top  trousers  women dresses  women skirts\n",
       "0        1    0         1              0             0\n",
       "1        1    0         1              0             0\n",
       "2        0    1         1              0             0\n",
       "3        1    0         1              0             0\n",
       "4        1    0         1              0             0"
      ]
     },
     "execution_count": 3,
     "metadata": {},
     "output_type": "execute_result"
    }
   ],
   "source": [
    "df_labels = df[[\"outwear\", \"top\", \"trousers\", \"women dresses\", \"women skirts\"]]\n",
    "df_labels.head()"
   ]
  },
  {
   "cell_type": "code",
   "execution_count": 4,
   "metadata": {},
   "outputs": [
    {
     "name": "stdout",
     "output_type": "stream",
     "text": [
      "w195317 w127737 w171593 w22890 w342007 w217871 w289824 w500005 w85858 w241910 w194870 w192814 w127834 w263923 w241910\n",
      "<class 'list'>\n",
      "162\n",
      "w195317 w127737 w171593 w22890 w342007 w217871 w289824 w500005 w85858 w241910 w194870 w192814 w127834 w263923 w241910\n",
      "<class 'str'>\n"
     ]
    }
   ],
   "source": [
    "X = list(df[\"word_representation\"])\n",
    "y = df_labels.values\n",
    "print(X[1])\n",
    "print( type(X))\n",
    "print(len(X[2]))\n",
    "banlist=[]\n",
    "mod_X = []\n",
    "for sen in X:\n",
    "    tmp = sen.split(\" \")\n",
    "    ans = [x for x in tmp if x not in banlist]\n",
    "    mod_sen = (\" \").join(ans)\n",
    "    mod_X.append(mod_sen)\n",
    "\n",
    "print(mod_X[1])\n",
    "print(type(X[1]))"
   ]
  },
  {
   "cell_type": "code",
   "execution_count": 5,
   "metadata": {},
   "outputs": [
    {
     "name": "stdout",
     "output_type": "stream",
     "text": [
      "365\n"
     ]
    }
   ],
   "source": [
    "def find_max_list(list):\n",
    "    list_len = [len(i) for i in list]\n",
    "    print(max(list_len))\n",
    "\n",
    "#print output#\n",
    "find_max_list(mod_X)\n",
    "\n"
   ]
  },
  {
   "cell_type": "code",
   "execution_count": 6,
   "metadata": {},
   "outputs": [
    {
     "name": "stdout",
     "output_type": "stream",
     "text": [
      "<class 'numpy.ndarray'>\n"
     ]
    }
   ],
   "source": [
    "df_val = pd.read_csv('C:\\\\Users\\\\Raphael\\\\Downloads\\\\TIL_NLP_test_dataset.csv')\n",
    "df_val.head(10)\n",
    "X_val=df_val['word_representation'].values\n",
    "print(type(X_val))"
   ]
  },
  {
   "cell_type": "code",
   "execution_count": 7,
   "metadata": {},
   "outputs": [
    {
     "name": "stdout",
     "output_type": "stream",
     "text": [
      "162\n"
     ]
    }
   ],
   "source": [
    "print(len(X[2]))"
   ]
  },
  {
   "cell_type": "code",
   "execution_count": 8,
   "metadata": {},
   "outputs": [
    {
     "name": "stdout",
     "output_type": "stream",
     "text": [
      "[[ 489  534  158  535    9   88  207    3  211  315  439  209    3 3028\n",
      "  1300   11  709   39   44  107  662    0    0    0]\n",
      " [  32   27   10  159  873   28  934  143  727   49   89  327    8    0\n",
      "     0    0    0    0    0    0    0    0    0    0]\n",
      " [  79  403  394    3  395  396   16    1  389   64  387    5  397    1\n",
      "   404   35   56    4   51  309  141   92 1064   17]\n",
      " [  24   83  405   98   10   30  953  954  870   14  288   29    4  377\n",
      "   980  904  175  173    0    0    0    0    0    0]\n",
      " [ 122 1252 1964  104   35   20   22  244  164  490  536   39  406  559\n",
      "     3  232   68    1   59   14  968  404   35   29]\n",
      " [ 710  745  799    9  125  369  163   19  185  746   54  132  560  309\n",
      "   994 3029   21   15   20    0    0    0    0    0]\n",
      " [ 899 2355   89   18   69   84    3  269  510   16  170   55  287  469\n",
      "   129    6    0    0    0    0    0    0    0    0]\n",
      " [  44  398   68  174  995   25    7   64  871   21  830  874    0    0\n",
      "     0    0    0    0    0    0    0    0    0    0]\n",
      " [1452  205  151    3  537    1   90  538  109  491   26   84   86 1561\n",
      "   338  114    0    0    0    0    0    0    0    0]\n",
      " [   1   28  208    5  232   75    1  309  994  206   92  224  539  209\n",
      "    29  100    4   44  101  144 1562  304  366  941]\n",
      " [ 663  684  215  773  152  237   85  800  227    6  808    3  812 1563\n",
      "    58   56    0    0    0    0    0    0    0    0]\n",
      " [ 136  635  801   25    7 1965 1171   70   25    7   32   27   53  292\n",
      "     2  133  561    0    0    0    0    0    0    0]\n",
      " [  50   27 1966   57   34  786   65   31    5   48  155    3  103   40\n",
      "    47  304    6    5   48    0    0    0    0    0]\n",
      " [ 151  853   62  194  289  935  137  296   20    3  383 3030 2356  899\n",
      "   905   18  335   89    2  587  511  249    0    0]\n",
      " [ 257   32   27  540  154  615   32   27  225    5   43    2  253  117\n",
      "   142  898   18    3    1  222   54  774   35   20]]\n"
     ]
    }
   ],
   "source": [
    "#why fix num words\n",
    "tokenizer = Tokenizer(num_words=4250)\n",
    "tokenizer.fit_on_texts(mod_X)\n",
    "\n",
    "mod_X = tokenizer.texts_to_sequences(mod_X)\n",
    "X_val = tokenizer.texts_to_sequences(X_val)\n",
    "\n",
    "vocab_size = len(tokenizer.word_index) + 1\n",
    "#what is max len\n",
    "maxlen = 24\n",
    "pre_pad_X = mod_X\n",
    "mod_X = pad_sequences(mod_X, padding='post', maxlen=maxlen)\n",
    "X_val = pad_sequences(X_val, padding='post', maxlen=maxlen)\n",
    "print(mod_X[5:20])\n",
    "#print(type(mod_X[1]))"
   ]
  },
  {
   "cell_type": "code",
   "execution_count": 9,
   "metadata": {},
   "outputs": [],
   "source": [
    "all_lens = []\n",
    "for i in range(7380):\n",
    "    all_lens.append(len(pre_pad_X[i]))\n",
    "\n",
    "# for line in mod_X:\n",
    "#     i = len(line)\n",
    "#     all_lens.append(i)\n",
    "# plt.bar(range(360), all_lens)"
   ]
  },
  {
   "cell_type": "code",
   "execution_count": 10,
   "metadata": {},
   "outputs": [
    {
     "name": "stdout",
     "output_type": "stream",
     "text": [
      "47\n",
      "8\n",
      "7380\n"
     ]
    }
   ],
   "source": [
    "#print(all_lens)\n",
    "print(max(all_lens))\n",
    "print(min(all_lens))\n",
    "print(len(all_lens))"
   ]
  },
  {
   "cell_type": "code",
   "execution_count": 11,
   "metadata": {},
   "outputs": [],
   "source": [
    "type(all_lens)\n",
    "dflens = pd.DataFrame(all_lens,columns=['Lengths'])"
   ]
  },
  {
   "cell_type": "code",
   "execution_count": 12,
   "metadata": {},
   "outputs": [
    {
     "data": {
      "text/plain": [
       "array([[<matplotlib.axes._subplots.AxesSubplot object at 0x000001BCD1D508D0>]],\n",
       "      dtype=object)"
      ]
     },
     "execution_count": 12,
     "metadata": {},
     "output_type": "execute_result"
    },
    {
     "data": {
      "image/png": "[encoded data removed]",
      "text/plain": [
       "<Figure size 432x288 with 1 Axes>"
      ]
     },
     "metadata": {
      "needs_background": "light"
     },
     "output_type": "display_data"
    }
   ],
   "source": [
    "dflens.hist()"
   ]
  },
  {
   "cell_type": "code",
   "execution_count": 13,
   "metadata": {},
   "outputs": [
    {
     "name": "stdout",
     "output_type": "stream",
     "text": [
      "[  32  337   99    2  175  814 2679   81    7  553  234    1  601  152\n",
      "  229  120   77  103   29    0    0    0    0    0]\n",
      "<class 'numpy.ndarray'>\n",
      "4250\n"
     ]
    }
   ],
   "source": [
    "print(X_val[1])\n",
    "embeddings_dictionary = pd.read_pickle(\"word_embeddings.pkl\")\n",
    "\n",
    "embedding_matrix = zeros((vocab_size, 100))\n",
    "for word, index in tokenizer.word_index.items():\n",
    "#    if word in banlist:\n",
    "#        continue\n",
    "    embedding_vector = embeddings_dictionary.get(word)\n",
    "    if embedding_vector is not None :\n",
    "        embedding_matrix[index] = embedding_vector\n",
    "print(type(embedding_matrix))\n",
    "print(len(embedding_matrix))"
   ]
  },
  {
   "cell_type": "code",
   "execution_count": 14,
   "metadata": {},
   "outputs": [],
   "source": [
    "#old model \n",
    "#from tensorflow.keras.layers import Bidirectional\n",
    "# model = Sequential()\n",
    "# #model.add(tensorflow.keras.Input(shape=(maxlen,)))\n",
    "# model.add(Embedding(vocab_size, 100, weights=[embedding_matrix], trainable=False, input_shape=(maxlen,)))\n",
    "# model.add(Bidirectional(LSTM(132, return_sequences=False),merge_mode=\"concat\"))\n",
    "# model.add(Dropout(0.2))\n",
    "# # model.add(Dense(units=50))\n",
    "# model.add(Dense(units=5))\n",
    "# model.add(Activation('sigmoid'))\n",
    "# model.compile(loss='binary_crossentropy', optimizer='adam', metrics=['acc'])"
   ]
  },
  {
   "cell_type": "code",
   "execution_count": 32,
   "metadata": {},
   "outputs": [],
   "source": [
    "inp = Input(shape=(maxlen,))\n",
    "#all drop out rates used to be .10 lower, with only 10 epochs)\n",
    "x = Embedding(vocab_size, 100, weights=[embedding_matrix], trainable=True)(inp)\n",
    "x = SpatialDropout1D(0.45)(x)\n",
    "\n",
    "x = Bidirectional(LSTM(128, return_sequences=True, dropout=0.25, recurrent_dropout=0.25))(x)\n",
    "x = Conv1D(64, kernel_size=3, padding='valid', kernel_initializer='glorot_uniform')(x)\n",
    "\n",
    "#avg_pool = GlobalAveragePooling1D()(x)\n",
    "#max_pool = GlobalMaxPooling1D()(x)\n",
    "#x = concatenate([avg_pool, max_pool])\n",
    "x = GlobalAveragePooling1D()(x)\n",
    "out = Dense(5, activation='sigmoid')(x)\n",
    "model = Model(inp, out)\n",
    "model.compile(loss='binary_crossentropy', optimizer='adam', metrics=['accuracy'])"
   ]
  },
  {
   "cell_type": "code",
   "execution_count": 40,
   "metadata": {},
   "outputs": [
    {
     "name": "stdout",
     "output_type": "stream",
     "text": [
      "Epoch 1/20\n",
      "28/28 [==============================] - 3s 125ms/step - loss: 0.0360 - accuracy: 0.5264 - val_loss: 0.0759 - val_accuracy: 0.5017\n",
      "Epoch 2/20\n",
      "28/28 [==============================] - 4s 127ms/step - loss: 0.0317 - accuracy: 0.5357 - val_loss: 0.0752 - val_accuracy: 0.4929\n",
      "Epoch 3/20\n",
      "28/28 [==============================] - 4s 133ms/step - loss: 0.0295 - accuracy: 0.5108 - val_loss: 0.0752 - val_accuracy: 0.4949\n",
      "Epoch 4/20\n",
      "28/28 [==============================] - 4s 130ms/step - loss: 0.0300 - accuracy: 0.5183 - val_loss: 0.0753 - val_accuracy: 0.5064\n",
      "Epoch 5/20\n",
      "28/28 [==============================] - 4s 133ms/step - loss: 0.0284 - accuracy: 0.5303 - val_loss: 0.0785 - val_accuracy: 0.4685\n",
      "Epoch 6/20\n",
      "28/28 [==============================] - 4s 125ms/step - loss: 0.0253 - accuracy: 0.5106 - val_loss: 0.0786 - val_accuracy: 0.4827\n",
      "Epoch 7/20\n",
      "28/28 [==============================] - 3s 124ms/step - loss: 0.0281 - accuracy: 0.5215 - val_loss: 0.0802 - val_accuracy: 0.4390\n",
      "Epoch 8/20\n",
      "28/28 [==============================] - 3s 124ms/step - loss: 0.0266 - accuracy: 0.5065 - val_loss: 0.0768 - val_accuracy: 0.4827\n",
      "Epoch 9/20\n",
      "28/28 [==============================] - 3s 125ms/step - loss: 0.0236 - accuracy: 0.5093 - val_loss: 0.0785 - val_accuracy: 0.4604\n",
      "Epoch 10/20\n",
      "28/28 [==============================] - 4s 125ms/step - loss: 0.0220 - accuracy: 0.5208 - val_loss: 0.0796 - val_accuracy: 0.4898\n",
      "Epoch 11/20\n",
      "28/28 [==============================] - 4s 127ms/step - loss: 0.0209 - accuracy: 0.5115 - val_loss: 0.0849 - val_accuracy: 0.4580\n",
      "Epoch 12/20\n",
      "28/28 [==============================] - 4s 129ms/step - loss: 0.0219 - accuracy: 0.5167 - val_loss: 0.0799 - val_accuracy: 0.4875\n",
      "Epoch 13/20\n",
      "28/28 [==============================] - 4s 130ms/step - loss: 0.0194 - accuracy: 0.5264 - val_loss: 0.0829 - val_accuracy: 0.4919\n",
      "Epoch 14/20\n",
      "28/28 [==============================] - 4s 129ms/step - loss: 0.0208 - accuracy: 0.5257 - val_loss: 0.0864 - val_accuracy: 0.4956\n",
      "Epoch 15/20\n",
      "28/28 [==============================] - 4s 132ms/step - loss: 0.0183 - accuracy: 0.5206 - val_loss: 0.0838 - val_accuracy: 0.4610\n",
      "Epoch 16/20\n",
      "28/28 [==============================] - 4s 132ms/step - loss: 0.0182 - accuracy: 0.5201 - val_loss: 0.0832 - val_accuracy: 0.4837\n",
      "Epoch 17/20\n",
      "28/28 [==============================] - 4s 135ms/step - loss: 0.0167 - accuracy: 0.5190 - val_loss: 0.0848 - val_accuracy: 0.4722\n",
      "Epoch 18/20\n",
      "28/28 [==============================] - 4s 133ms/step - loss: 0.0172 - accuracy: 0.5291 - val_loss: 0.0841 - val_accuracy: 0.4973\n",
      "Epoch 19/20\n",
      "28/28 [==============================] - 4s 135ms/step - loss: 0.0143 - accuracy: 0.5192 - val_loss: 0.0828 - val_accuracy: 0.4817\n",
      "Epoch 20/20\n",
      "28/28 [==============================] - 4s 135ms/step - loss: 0.0140 - accuracy: 0.5099 - val_loss: 0.0868 - val_accuracy: 0.4997\n"
     ]
    }
   ],
   "source": [
    "history = model.fit(mod_X, y, batch_size=160, epochs=20, verbose=1, validation_split=0.4)"
   ]
  },
  {
   "cell_type": "code",
   "execution_count": 35,
   "metadata": {},
   "outputs": [
    {
     "ename": "KeyError",
     "evalue": "'acc'",
     "output_type": "error",
     "traceback": [
      "\u001b[1;31m---------------------------------------------------------------------------\u001b[0m",
      "\u001b[1;31mKeyError\u001b[0m                                  Traceback (most recent call last)",
      "\u001b[1;32m<ipython-input-35-21dda4771c34>\u001b[0m in \u001b[0;36m<module>\u001b[1;34m\u001b[0m\n\u001b[1;32m----> 1\u001b[1;33m \u001b[0mplt\u001b[0m\u001b[1;33m.\u001b[0m\u001b[0mplot\u001b[0m\u001b[1;33m(\u001b[0m\u001b[0mhistory\u001b[0m\u001b[1;33m.\u001b[0m\u001b[0mhistory\u001b[0m\u001b[1;33m[\u001b[0m\u001b[1;34m'acc'\u001b[0m\u001b[1;33m]\u001b[0m\u001b[1;33m)\u001b[0m\u001b[1;33m\u001b[0m\u001b[1;33m\u001b[0m\u001b[0m\n\u001b[0m\u001b[0;32m      2\u001b[0m \u001b[0mplt\u001b[0m\u001b[1;33m.\u001b[0m\u001b[0mplot\u001b[0m\u001b[1;33m(\u001b[0m\u001b[0mhistory\u001b[0m\u001b[1;33m.\u001b[0m\u001b[0mhistory\u001b[0m\u001b[1;33m[\u001b[0m\u001b[1;34m'val_acc'\u001b[0m\u001b[1;33m]\u001b[0m\u001b[1;33m)\u001b[0m\u001b[1;33m\u001b[0m\u001b[1;33m\u001b[0m\u001b[0m\n\u001b[0;32m      3\u001b[0m \u001b[1;33m\u001b[0m\u001b[0m\n\u001b[0;32m      4\u001b[0m \u001b[0mplt\u001b[0m\u001b[1;33m.\u001b[0m\u001b[0mtitle\u001b[0m\u001b[1;33m(\u001b[0m\u001b[1;34m'model accuracy'\u001b[0m\u001b[1;33m)\u001b[0m\u001b[1;33m\u001b[0m\u001b[1;33m\u001b[0m\u001b[0m\n\u001b[0;32m      5\u001b[0m \u001b[0mplt\u001b[0m\u001b[1;33m.\u001b[0m\u001b[0mylabel\u001b[0m\u001b[1;33m(\u001b[0m\u001b[1;34m'accuracy'\u001b[0m\u001b[1;33m)\u001b[0m\u001b[1;33m\u001b[0m\u001b[1;33m\u001b[0m\u001b[0m\n",
      "\u001b[1;31mKeyError\u001b[0m: 'acc'"
     ]
    }
   ],
   "source": [
    "plt.plot(history.history['acc'])\n",
    "plt.plot(history.history['val_acc'])\n",
    "\n",
    "plt.title('model accuracy')\n",
    "plt.ylabel('accuracy')\n",
    "plt.xlabel('epoch')\n",
    "plt.legend(['train','test'], loc='upper left')\n",
    "plt.show()\n",
    "\n",
    "plt.plot(history.history['loss'])\n",
    "plt.plot(history.history['val_loss'])\n",
    "\n",
    "plt.title('model loss')\n",
    "plt.ylabel('loss')\n",
    "plt.xlabel('epoch')\n",
    "plt.legend(['train','test'], loc='upper left')\n",
    "plt.show()"
   ]
  },
  {
   "cell_type": "code",
   "execution_count": 41,
   "metadata": {},
   "outputs": [
    {
     "name": "stdout",
     "output_type": "stream",
     "text": [
      "77/77 [==============================] - 1s 7ms/step\n",
      "[[0. 1. 1. 0. 0.]\n",
      " [1. 1. 0. 0. 0.]\n",
      " [1. 0. 1. 0. 0.]\n",
      " ...\n",
      " [1. 0. 1. 0. 0.]\n",
      " [1. 1. 1. 0. 0.]\n",
      " [0. 0. 1. 0. 1.]]\n"
     ]
    },
    {
     "data": {
      "text/plain": [
       "numpy.float32"
      ]
     },
     "execution_count": 41,
     "metadata": {},
     "output_type": "execute_result"
    }
   ],
   "source": [
    "preds_val = model.predict(X_val, verbose = 1)\n",
    "preds_val[preds_val>=0.5] = 1\n",
    "preds_val[preds_val<0.5] = 0\n",
    "\n",
    "print(preds_val)\n",
    "type(preds_val[1,1])"
   ]
  },
  {
   "cell_type": "code",
   "execution_count": 42,
   "metadata": {},
   "outputs": [
    {
     "name": "stdout",
     "output_type": "stream",
     "text": [
      "      outwear  top  trousers  women dresses  women skirts\n",
      "id                                                       \n",
      "0         0.0  1.0       1.0            0.0           0.0\n",
      "1         1.0  1.0       0.0            0.0           0.0\n",
      "2         1.0  0.0       1.0            0.0           0.0\n",
      "3         0.0  1.0       1.0            0.0           0.0\n",
      "4         0.0  1.0       1.0            0.0           0.0\n",
      "...       ...  ...       ...            ...           ...\n",
      "2455      0.0  0.0       1.0            1.0           0.0\n",
      "2456      1.0  0.0       1.0            0.0           0.0\n",
      "2457      1.0  0.0       1.0            0.0           0.0\n",
      "2458      1.0  1.0       1.0            0.0           0.0\n",
      "2459      0.0  0.0       1.0            0.0           1.0\n",
      "\n",
      "[2460 rows x 5 columns]\n"
     ]
    },
    {
     "data": {
      "text/plain": [
       "outwear          int32\n",
       "top              int32\n",
       "trousers         int32\n",
       "women dresses    int32\n",
       "women skirts     int32\n",
       "dtype: object"
      ]
     },
     "execution_count": 42,
     "metadata": {},
     "output_type": "execute_result"
    }
   ],
   "source": [
    "preds_val_df=pd.DataFrame(data=preds_val, columns = [\"outwear\",\"top\",\"trousers\",\"women dresses\",\"women skirts\"])\n",
    "preds_val_df.index.name = \"id\"\n",
    "\n",
    "print(preds_val_df)\n",
    "preds_val_df = preds_val_df.astype(int)\n",
    "preds_val_df.dtypes"
   ]
  },
  {
   "cell_type": "code",
   "execution_count": 43,
   "metadata": {},
   "outputs": [],
   "source": [
    "preds_val_df.to_csv(\"way2manyepochs.csv\")"
   ]
  },
  {
   "cell_type": "code",
   "execution_count": null,
   "metadata": {},
   "outputs": [],
   "source": []
  },
  {
   "cell_type": "code",
   "execution_count": null,
   "metadata": {},
   "outputs": [],
   "source": [
    "\n"
   ]
  }
 ],
 "metadata": {
  "kernelspec": {
   "display_name": "Python 3.6.8 64-bit ('TIL-2020': pipenv)",
   "language": "python",
   "name": "python36864bittil2020pipenv2f21c983fd1542a19b317973bf347e7d"
  },
  "language_info": {
   "codemirror_mode": {
    "name": "ipython",
    "version": 3
   },
   "file_extension": ".py",
   "mimetype": "text/x-python",
   "name": "python",
   "nbconvert_exporter": "python",
   "pygments_lexer": "ipython3",
   "version": "3.6.8"
  }
 },
 "nbformat": 4,
 "nbformat_minor": 4
}
