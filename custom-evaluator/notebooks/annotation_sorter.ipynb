{
 "cells": [
  {
   "cell_type": "code",
   "execution_count": 6,
   "metadata": {},
   "outputs": [],
   "source": [
    "import pandas as pd\n",
    "from pathlib import Path\n",
    "import json\n",
    "import collections\n",
    "import numpy as np"
   ]
  },
  {
   "cell_type": "code",
   "execution_count": 13,
   "metadata": {},
   "outputs": [],
   "source": [
    "truth_json_path = Path('val.json')\n",
    "truth_annot_json = json.load(truth_json_path.open())\n",
    "truth_annot = pd.read_json(json.dumps(truth_annot_json['annotations']))\n",
    "\n",
    "ans_json_path = Path('ans.json')\n",
    "ans_json = json.load(ans_json_path.open())\n",
    "ans_annot = pd.read_json(json.dumps(ans_json))\n",
    "\n",
    "truth_annot = truth_annot.sort_values(by=['image_id','category_id'],ignore_index=True)\n",
    "ans_annot = ans_annot.sort_values(['image_id','category_id'],ignore_index=True)\n"
   ]
  },
  {
   "cell_type": "code",
   "execution_count": 14,
   "metadata": {},
   "outputs": [
    {
     "output_type": "execute_result",
     "data": {
      "text/plain": "   image_id  category_id                    bbox\n0         1            4    [523, 55, 869, 1147]\n1         6            4    [455, 620, 633, 773]\n2        13            2   [768, 1824, 605, 654]\n3        13            3  [491, 536, 1151, 1135]\n4        13            4   [745, 576, 803, 1322]",
      "text/html": "<div>\n<style scoped>\n    .dataframe tbody tr th:only-of-type {\n        vertical-align: middle;\n    }\n\n    .dataframe tbody tr th {\n        vertical-align: top;\n    }\n\n    .dataframe thead th {\n        text-align: right;\n    }\n</style>\n<table border=\"1\" class=\"dataframe\">\n  <thead>\n    <tr style=\"text-align: right;\">\n      <th></th>\n      <th>image_id</th>\n      <th>category_id</th>\n      <th>bbox</th>\n    </tr>\n  </thead>\n  <tbody>\n    <tr>\n      <th>0</th>\n      <td>1</td>\n      <td>4</td>\n      <td>[523, 55, 869, 1147]</td>\n    </tr>\n    <tr>\n      <th>1</th>\n      <td>6</td>\n      <td>4</td>\n      <td>[455, 620, 633, 773]</td>\n    </tr>\n    <tr>\n      <th>2</th>\n      <td>13</td>\n      <td>2</td>\n      <td>[768, 1824, 605, 654]</td>\n    </tr>\n    <tr>\n      <th>3</th>\n      <td>13</td>\n      <td>3</td>\n      <td>[491, 536, 1151, 1135]</td>\n    </tr>\n    <tr>\n      <th>4</th>\n      <td>13</td>\n      <td>4</td>\n      <td>[745, 576, 803, 1322]</td>\n    </tr>\n  </tbody>\n</table>\n</div>"
     },
     "metadata": {},
     "execution_count": 14
    }
   ],
   "source": [
    "\n",
    "truth_annot.drop(columns=['area','iscrowd','id'], inplace=True)\n"
   ]
  },
  {
   "cell_type": "code",
   "execution_count": 15,
   "metadata": {
    "tags": []
   },
   "outputs": [],
   "source": [
    "truth_annot_grouped = truth_annot.groupby(['image_id','category_id'])\n",
    "\n",
    "\n",
    "\n",
    "\n",
    "\n",
    "\n"
   ]
  },
  {
   "cell_type": "code",
   "execution_count": null,
   "metadata": {},
   "outputs": [],
   "source": []
  }
 ],
 "metadata": {
  "language_info": {
   "codemirror_mode": {
    "name": "ipython",
    "version": 3
   },
   "file_extension": ".py",
   "mimetype": "text/x-python",
   "name": "python",
   "nbconvert_exporter": "python",
   "pygments_lexer": "ipython3",
   "version": "3.6.9-final"
  },
  "orig_nbformat": 2,
  "kernelspec": {
   "name": "python36964bit3d550392b03f4277a812d0dc6b19a398",
   "display_name": "Python 3.6.9 64-bit"
  }
 },
 "nbformat": 4,
 "nbformat_minor": 2
}