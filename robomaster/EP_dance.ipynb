{
 "cells": [
  {
   "cell_type": "code",
   "execution_count": 1,
   "metadata": {
    "tags": []
   },
   "outputs": [
    {
     "output_type": "stream",
     "name": "stdout",
     "text": "data sent is b'robot ip 192.168.1.122' from ('192.168.1.122', 48094)\nCommand socket: ok\n"
    }
   ],
   "source": [
    "from EP_api import Robot, findrobotIP\n",
    "import time\n",
    "\n",
    "robot = Robot(findrobotIP()) # router\n",
    "\n"
   ]
  },
  {
   "cell_type": "code",
   "execution_count": null,
   "metadata": {
    "tags": []
   },
   "outputs": [],
   "source": [
    "# robot.rotate('-5')\n",
    "robot.move('x -0.3')"
   ]
  },
  {
   "cell_type": "code",
   "execution_count": 16,
   "metadata": {
    "tags": []
   },
   "outputs": [
    {
     "output_type": "stream",
     "name": "stdout",
     "text": "reply for chassis move x 5 y 0 z 0 vxy 0.5;: ok\n\treply for chassis move x 0.3 y 0 z 180 vxy 2 vz 200;: ok\n\treply for chassis move x -1 y 0 vxy 2;: ok\n"
    },
    {
     "output_type": "execute_result",
     "data": {
      "text/plain": "'ok'"
     },
     "metadata": {},
     "execution_count": 16
    }
   ],
   "source": [
    "robot.move('x 5 y 0 z 0 vxy 0.5')\n",
    "# robot.center()\n",
    "time.sleep(2)\n",
    "robot.move('x 0.3 y 0 z 180 vxy 2 vz 200')\n",
    "time.sleep(1)\n",
    "\n",
    "robot.move('x -1 y 0 vxy 2')"
   ]
  },
  {
   "cell_type": "code",
   "execution_count": null,
   "metadata": {},
   "outputs": [],
   "source": [
    "robot"
   ]
  },
  {
   "cell_type": "code",
   "execution_count": 17,
   "metadata": {
    "tags": []
   },
   "outputs": [
    {
     "output_type": "stream",
     "name": "stdout",
     "text": "Exiting...\n\treply for chassis move x 0;: ok\n\treply for gimbal speed p 0 y 0;: ok\n\treply for robotic_arm stop;: ok\n\treply for gimbal moveto p 0 y 0;: ok\n\treply for robotic_arm recenter;: ok\n\treply for stream off;: ok\n\treply for quit;: ok\nAll done\n"
    }
   ],
   "source": [
    "robot.exit()"
   ]
  },
  {
   "cell_type": "code",
   "execution_count": null,
   "metadata": {},
   "outputs": [],
   "source": []
  }
 ],
 "metadata": {
  "language_info": {
   "codemirror_mode": {
    "name": "ipython",
    "version": 3
   },
   "file_extension": ".py",
   "mimetype": "text/x-python",
   "name": "python",
   "nbconvert_exporter": "python",
   "pygments_lexer": "ipython3",
   "version": "3.6.10-final"
  },
  "orig_nbformat": 2,
  "kernelspec": {
   "name": "python361064bittil2020pipenv17199de5e80542afbf33ce54dc36357a",
   "display_name": "Python 3.6.10 64-bit ('TIL-2020': pipenv)"
  }
 },
 "nbformat": 4,
 "nbformat_minor": 2
}