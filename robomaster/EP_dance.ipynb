{
 "cells": [
  {
   "cell_type": "code",
   "execution_count": 4,
   "metadata": {
    "tags": []
   },
   "outputs": [
    {
     "output_type": "stream",
     "name": "stdout",
     "text": "data sent is b'robot ip 192.168.1.122' from ('192.168.1.122', 46132)\nCommand socket: ok\n"
    }
   ],
   "source": [
    "from EP_api import Robot, findrobotIP\n",
    "import time\n",
    "\n",
    "robot = Robot(findrobotIP()) # router\n",
    "\n"
   ]
  },
  {
   "cell_type": "code",
   "execution_count": null,
   "metadata": {},
   "outputs": [],
   "source": []
  },
  {
   "cell_type": "code",
   "execution_count": 5,
   "metadata": {
    "tags": []
   },
   "outputs": [
    {
     "output_type": "stream",
     "name": "stdout",
     "text": "reply for robotic_gripper open 1;: ok\n"
    },
    {
     "output_type": "execute_result",
     "data": {
      "text/plain": "'ok'"
     },
     "metadata": {},
     "execution_count": 5
    }
   ],
   "source": [
    "# robot.rotate('-20')\n",
    "# robot.move('y 0.5')\n",
    "# robot.movearm('x 0 y 100')\n",
    "# robot.move('z 180 vz 100')\n",
    "# robot.center()\n",
    "robot.openarm()"
   ]
  },
  {
   "cell_type": "code",
   "execution_count": 12,
   "metadata": {
    "tags": []
   },
   "outputs": [
    {
     "output_type": "stream",
     "name": "stdout",
     "text": "reply for chassis move x 5 y 0 z 0 vxy 0.5;: ok\n\treply for chassis move x 0.3 y 0 z 180 vxy 2 vz 200;: ok\n\treply for chassis move x -1 y 0 vxy 2;: ok\n"
    },
    {
     "output_type": "execute_result",
     "data": {
      "text/plain": "'ok'"
     },
     "metadata": {},
     "execution_count": 12
    }
   ],
   "source": [
    "# forward swivel reverse\n",
    "robot.move('x 5 y 0 z 0 vxy 0.5')\n",
    "# robot.center()\n",
    "time.sleep(2)\n",
    "robot.move('x 0.3 y 0 z 180 vxy 2 vz 200')\n",
    "time.sleep(1)\n",
    "\n",
    "robot.move('x -1 y 0 vxy 2')"
   ]
  },
  {
   "cell_type": "code",
   "execution_count": null,
   "metadata": {},
   "outputs": [],
   "source": []
  },
  {
   "cell_type": "code",
   "execution_count": 36,
   "metadata": {
    "tags": []
   },
   "outputs": [
    {
     "output_type": "stream",
     "name": "stdout",
     "text": "reply for chassis move x 0 y 0 z 30 vz 500;: ok\n\treply for chassis move x 0 y 0 z -30 vz 500;: ok\n\treply for chassis move x 0 y 0 z 30 vz 500;: ok\n\treply for chassis move x 0 y 0 z -30 vz 500;: ok\n\treply for chassis move x 0 y 0 z -300 vz 150;: ok\n\treply for chassis move x 0 y 0 z -30 vz 500;: ok\n\treply for chassis move x 0 y 0 z 30 vz 500;: ok\n\treply for chassis move x 0 y 0 z -30 vz 500;: ok\n\treply for chassis move x 0 y 0 z 30 vz 500;: ok\n"
    }
   ],
   "source": [
    "# Wiggle then swivel\n",
    "\n",
    "robot.move('x 0 y 0 z 30 vz 500')\n",
    "time.sleep(0.60)\n",
    "robot.move('x 0 y 0 z -30 vz 500')\n",
    "time.sleep(0.60)\n",
    "robot.move('x 0 y 0 z 30 vz 500')\n",
    "time.sleep(0.60)\n",
    "robot.move('x 0 y 0 z -30 vz 500')\n",
    "time.sleep(0.60)\n",
    "robot.move('x 0 y 0 z -300 vz 150')\n",
    "time.sleep(2.4)\n",
    "robot.move('x 0 y 0 z -30 vz 500')\n",
    "time.sleep(0.60)\n",
    "robot.move('x 0 y 0 z 30 vz 500')\n",
    "time.sleep(0.60)\n",
    "robot.move('x 0 y 0 z -30 vz 500')\n",
    "time.sleep(0.60)\n",
    "robot.move('x 0 y 0 z 30 vz 500')\n",
    "time.sleep(0.60)\n",
    "\n",
    "# robot.move('x 0 y -1 z 320 vxy 1 vz 300')"
   ]
  },
  {
   "cell_type": "code",
   "execution_count": 63,
   "metadata": {
    "tags": []
   },
   "outputs": [
    {
     "output_type": "stream",
     "name": "stdout",
     "text": "reply for chassis move x 0 y 0 z 30 vz 500;: ok\n\treply for chassis move x 0 y 0 z -30 vz 500;: ok\n\treply for chassis move x 0 y 0 z 30 vz 500;: ok\n\treply for chassis move x 0 y 0 z -15 vz 500;: ok\n\treply for robotic_arm move x 0 y 200;: fail\n\treply for robotic_arm move x 0 y -200;: fail\n\treply for robotic_arm move x 0 y 200;: fail\n\treply for robotic_arm move x 0 y -200;: fail\n\treply for chassis move x 0 y 0 z 30 vz 500;: ok\n\treply for robotic_arm move x 0 y 200;: fail\n\treply for chassis move x 0 y 0 z -50 vz 500;: ok\n\treply for robotic_arm move x 0 y -200;: fail\n"
    }
   ],
   "source": [
    "# Draw the square\n",
    "robot.move('x 0 y 0 z 30 vz 500')\n",
    "time.sleep(0.60)\n",
    "robot.move('x 0 y 0 z -30 vz 500')\n",
    "time.sleep(0.60)\n",
    "robot.move('x 0 y 0 z 30 vz 500')\n",
    "time.sleep(0.60)\n",
    "robot.move('x 0 y 0 z -15 vz 500')\n",
    "time.sleep(0.60)\n",
    "robot.movearm('x 0 y 200')\n",
    "time.sleep(0.60)\n",
    "robot.movearm('x 0 y -200')\n",
    "time.sleep(0.60)\n",
    "robot.movearm('x 0 y 200')\n",
    "time.sleep(0.60)\n",
    "robot.movearm('x 0 y -200')\n",
    "time.sleep(0.60)\n",
    "robot.move('x 0 y 0 z 30 vz 500')\n",
    "time.sleep(0.60)\n",
    "robot.movearm('x 0 y 200')\n",
    "time.sleep(0.60)\n",
    "robot.move('x 0 y 0 z -50 vz 500')\n",
    "time.sleep(0.60)\n",
    "robot.movearm('x 0 y -200')\n",
    "time.sleep(0.60)\n"
   ]
  },
  {
   "cell_type": "code",
   "execution_count": 6,
   "metadata": {
    "tags": []
   },
   "outputs": [
    {
     "output_type": "stream",
     "name": "stdout",
     "text": "Exiting...\n\treply for chassis move x 0;: ok\n\treply for gimbal speed p 0 y 0;: ok\n\treply for robotic_arm stop;: ok\n\treply for gimbal moveto p 0 y 0;: ok\n\treply for robotic_arm recenter;: ok\n\treply for stream off;: ok\n\treply for quit;: ok\nAll done\n"
    }
   ],
   "source": [
    "robot.exit()"
   ]
  },
  {
   "cell_type": "code",
   "execution_count": 335,
   "metadata": {
    "tags": []
   },
   "outputs": [
    {
     "output_type": "stream",
     "name": "stdout",
     "text": "reply for robotic_arm move x 0 y -200;: fail\n\treply for robotic_arm move x 0 y 200;: fail\n\treply for chassis move x 0 y 0 z -30 vz 500;: ok\n\treply for robotic_arm move x 0 y -200;: fail\n\treply for robotic_arm move x 0 y 200;: fail\n"
    },
    {
     "output_type": "execute_result",
     "data": {
      "text/plain": "'fail'"
     },
     "metadata": {},
     "execution_count": 335
    }
   ],
   "source": [
    "# Drumming\n",
    "# robot.movearm('x 0 y 200')\n",
    "# time.sleep(0.2)\n",
    "# robot.movearm('x 0 y -200')\n",
    "# time.sleep(0.3)\n",
    "# robot.movearm('x 0 y 200')\n",
    "# time.sleep(0.8)\n",
    "# robot.movearm('x 0 y -200')\n",
    "# time.sleep(0.3)\n",
    "# robot.movearm('x 0 y 200')\n",
    "# time.sleep(0.8)\n",
    "# robot.movearm('x 0 y -200')\n",
    "# time.sleep(0.3)\n",
    "# robot.movearm('x 0 y 200')\n",
    "# time.sleep(0.8)\n",
    "robot.movearm('x 0 y -200')\n",
    "time.sleep(0.3)\n",
    "robot.movearm('x 0 y 200')\n",
    "time.sleep(0.2)\n",
    "robot.move('x 0 y 0 z -30 vz 500')\n",
    "time.sleep(0.8)\n",
    "robot.movearm('x 0 y -200')\n",
    "time.sleep(0.2)\n",
    "robot.movearm('x 0 y 200')\n",
    "#time.sleep(1.0)"
   ]
  },
  {
   "cell_type": "code",
   "execution_count": 373,
   "metadata": {
    "tags": []
   },
   "outputs": [
    {
     "output_type": "stream",
     "name": "stdout",
     "text": "reply for chassis move x 4 vxy 0.8;: ok\n\treply for chassis move x -0.05;: ok\n\treply for robotic_arm move x 0 y -100;: fail\n\treply for robotic_arm move x 0 y 100;: fail\n\treply for chassis move x -4 vxy 0.8;: ok\n\treply for chassis move x 0;: ok\n\treply for gimbal speed p 0 y 0;: ok\n\treply for robotic_arm stop;: ok\n\treply for chassis move z 180 vz 100;: ok\n"
    },
    {
     "output_type": "execute_result",
     "data": {
      "text/plain": "'ok'"
     },
     "metadata": {},
     "execution_count": 373
    }
   ],
   "source": [
    "# Egyptian\n",
    "robot.move('x 4 vxy 0.8')\n",
    "time.sleep(1.6)\n",
    "robot.move('x -0.05')\n",
    "time.sleep(0.2)\n",
    "robot.movearm('x 0 y -100')\n",
    "time.sleep(0.6)\n",
    "robot.movearm('x 0 y 100')\n",
    "time.sleep(0.6)\n",
    "robot.move('x -4 vxy 0.8')\n",
    "time.sleep(1.7)\n",
    "robot.stop()\n",
    "robot.move('z 180 vz 100')\n"
   ]
  },
  {
   "cell_type": "code",
   "execution_count": 308,
   "metadata": {
    "tags": []
   },
   "outputs": [
    {
     "output_type": "stream",
     "name": "stdout",
     "text": "reply for chassis move x 0 y 0 z 30 vz 500;: ok\n"
    },
    {
     "output_type": "execute_result",
     "data": {
      "text/plain": "'ok'"
     },
     "metadata": {},
     "execution_count": 308
    }
   ],
   "source": []
  },
  {
   "cell_type": "code",
   "execution_count": null,
   "metadata": {},
   "outputs": [],
   "source": []
  }
 ],
 "metadata": {
  "language_info": {
   "codemirror_mode": {
    "name": "ipython",
    "version": 3
   },
   "file_extension": ".py",
   "mimetype": "text/x-python",
   "name": "python",
   "nbconvert_exporter": "python",
   "pygments_lexer": "ipython3",
   "version": "3.6.10-final"
  },
  "orig_nbformat": 2,
  "kernelspec": {
   "name": "python361064bittil2020pipenvc13e4a599863495fbc0c295eb547fdc7",
   "display_name": "Python 3.6.10 64-bit ('TIL-2020': pipenv)"
  }
 },
 "nbformat": 4,
 "nbformat_minor": 2
}