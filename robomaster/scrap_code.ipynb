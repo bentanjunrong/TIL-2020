{
 "cells": [
  {
   "cell_type": "code",
   "execution_count": 57,
   "metadata": {},
   "outputs": [],
   "source": [
    "from EP_api import Robot, findrobotIP\n",
    "import copy"
   ]
  },
  {
   "cell_type": "code",
   "execution_count": 58,
   "metadata": {},
   "outputs": [],
   "source": [
    "occupancy_grid = [\n",
    "[1,1,1,1,1,1,1,1,1],\n",
    "[1,0,1,0,1,0,1,0,1],\n",
    "[1,1,1,1,1,1,1,1,1]\n",
    "]\n",
    "occupancy_grid_test = [\n",
    "[1,1,1,1,1,1,1,1,1],\n",
    "[1,0,0,0,1,0,1,0,0],\n",
    "[0,1,1,1,1,1,1,1,1]\n",
    "] "
   ]
  },
  {
   "cell_type": "code",
   "execution_count": 59,
   "metadata": {},
   "outputs": [],
   "source": [
    "start_loc = (0,1)\n",
    "end_loc = (2,1)\n",
    "\n",
    "\n",
    "\n",
    "def findAllAdjacent(current_loc,grid):\n",
    "    search_range = [(-1,0),(0,1),(1,0),(0,-1)] #top, right, bot, left\n",
    "    adj = []\n",
    "    ref_row, ref_col = current_loc\n",
    "    for i in range(4):\n",
    "        row = ref_row + search_range[i][0]\n",
    "        col = ref_col + search_range[i][1]\n",
    "        if row < 0 or col < 0: continue\n",
    "        try:\n",
    "            if grid[row][col] == 1:\n",
    "                adj.append((row,col))\n",
    "        except: #out of bounds\n",
    "            continue\n",
    "    return adj\n"
   ]
  },
  {
   "cell_type": "code",
   "execution_count": 60,
   "metadata": {
    "tags": []
   },
   "outputs": [],
   "source": [
    "def bfs(start_loc, end_loc, grid):\n",
    "    dist = {}\n",
    "    pred = {}\n",
    "    visited = []\n",
    "    queue = []\n",
    "\n",
    "    visited.append(start_loc)\n",
    "    queue.append(start_loc)\n",
    "    dist[start_loc] = 0\n",
    "\n",
    "    while queue:\n",
    "        current_loc = queue.pop(0)\n",
    "        \n",
    "        adjacents = findAllAdjacent(current_loc,grid)\n",
    "        for adjacent in adjacents:\n",
    "            if adjacent not in visited:\n",
    "                visited.append(adjacent)\n",
    "                dist[adjacent] = dist[current_loc] + 1\n",
    "                pred[adjacent] = current_loc\n",
    "                queue.append(adjacent)\n",
    "                if(adjacent == end_loc): return pred\n",
    "\n",
    "    "
   ]
  },
  {
   "cell_type": "code",
   "execution_count": 61,
   "metadata": {
    "tags": []
   },
   "outputs": [
    {
     "output_type": "execute_result",
     "data": {
      "text/plain": "{(0, 2): (0, 1),\n (0, 0): (0, 1),\n (0, 3): (0, 2),\n (1, 0): (0, 0),\n (0, 4): (0, 3),\n (0, 5): (0, 4),\n (1, 4): (0, 4),\n (0, 6): (0, 5),\n (2, 4): (1, 4),\n (0, 7): (0, 6),\n (1, 6): (0, 6),\n (2, 5): (2, 4),\n (2, 3): (2, 4),\n (0, 8): (0, 7),\n (2, 6): (1, 6),\n (2, 2): (2, 3),\n (2, 7): (2, 6),\n (2, 1): (2, 2)}"
     },
     "metadata": {},
     "execution_count": 61
    }
   ],
   "source": [
    "pred = bfs(start_loc,end_loc,occupancy_grid_test)\n",
    "pred"
   ]
  },
  {
   "cell_type": "code",
   "execution_count": 62,
   "metadata": {},
   "outputs": [
    {
     "output_type": "execute_result",
     "data": {
      "text/plain": "[(2, 1), (2, 2), (2, 3), (2, 4), (1, 4), (0, 4), (0, 3), (0, 2), (0, 1)]"
     },
     "metadata": {},
     "execution_count": 62
    }
   ],
   "source": [
    "crawl = end_loc\n",
    "path = [crawl]\n",
    "\n",
    "while crawl != start_loc:\n",
    "    path.append(pred[crawl])\n",
    "    crawl = pred[crawl]\n",
    "path\n"
   ]
  },
  {
   "cell_type": "code",
   "execution_count": null,
   "metadata": {},
   "outputs": [],
   "source": []
  }
 ],
 "metadata": {
  "language_info": {
   "codemirror_mode": {
    "name": "ipython",
    "version": 3
   },
   "file_extension": ".py",
   "mimetype": "text/x-python",
   "name": "python",
   "nbconvert_exporter": "python",
   "pygments_lexer": "ipython3",
   "version": "3.6.9-final"
  },
  "orig_nbformat": 2,
  "kernelspec": {
   "name": "python36964bitnotebookspipenv57eabbfff9a149fba4c264734c2a3b05",
   "display_name": "Python 3.6.9 64-bit ('notebooks': pipenv)"
  }
 },
 "nbformat": 4,
 "nbformat_minor": 2
}