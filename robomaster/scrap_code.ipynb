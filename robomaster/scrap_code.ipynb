{
 "cells": [
  {
   "cell_type": "code",
   "execution_count": 1,
   "metadata": {
    "tags": []
   },
   "outputs": [
    {
     "output_type": "stream",
     "name": "stdout",
     "text": "[1]\n\tdata sent is b'robot ip 192.168.1.215' from ('192.168.1.215', 40522)\nCommand socket: ok\n"
    }
   ],
   "source": [
    "from search_rescue import *\n",
    "import copy"
   ]
  },
  {
   "cell_type": "code",
   "execution_count": null,
   "metadata": {
    "tags": []
   },
   "outputs": [],
   "source": [
    "align([0,0,0])"
   ]
  },
  {
   "cell_type": "code",
   "execution_count": 7,
   "metadata": {
    "tags": []
   },
   "outputs": [
    {
     "output_type": "stream",
     "name": "stdout",
     "text": "reply for chassis position ?;: -0.030 0.032 -3.440 \n\treply for chassis position ?;: -0.030 0.032 -3.440 \n\treply for chassis move x 0.5 vxy 0.1;: ok\nTrue\n"
    }
   ],
   "source": [
    "print(moveforward(0.5))"
   ]
  },
  {
   "cell_type": "code",
   "execution_count": 4,
   "metadata": {
    "tags": []
   },
   "outputs": [
    {
     "output_type": "stream",
     "name": "stdout",
     "text": "reply for led control comp all r 255 g 0 b 0 effect blink;: ok\n\treply for led control comp all r 255 g 255 b 255 effect solid;: ok\n"
    }
   ],
   "source": [
    "flash_red()"
   ]
  },
  {
   "cell_type": "code",
   "execution_count": 2,
   "metadata": {
    "tags": []
   },
   "outputs": [
    {
     "output_type": "stream",
     "name": "stdout",
     "text": "reply for stream on;: ok\nvideothread started!\n\treply for robotic_arm moveto x 182 y 0;: ok\n\treply for robotic_gripper close 1;: ok\n\treply for robotic_gripper open 1;: ok\n\treply for gimbal moveto p 0 y 0;: ok\n\treply for robotic_arm recenter;: ok\nGRIP THRESHOLD:  26.01529605263158\n\treply for robotic_arm moveto x 182 y 0;: ok\n"
    }
   ],
   "source": [
    "start_video()\n",
    "set_grip_threshold()\n",
    "rescue_grip()"
   ]
  },
  {
   "cell_type": "code",
   "execution_count": 3,
   "metadata": {
    "tags": []
   },
   "outputs": [
    {
     "output_type": "stream",
     "name": "stdout",
     "text": "reply for robotic_gripper close 1;: ok\nCURRENT THRESHOLD:  24.695723684210527\n\treply for robotic_gripper open 1;: ok\n\treply for chassis move x 0.04 vxy 0.1;: ok\n\treply for robotic_gripper close 1;: ok\nCURRENT THRESHOLD:  17.569572368421053\n\treply for robotic_gripper open 1;: ok\n\treply for chassis move x 0.04 vxy 0.1;: ok\n\treply for robotic_gripper close 1;: ok\nCURRENT THRESHOLD:  13.162664473684211\n\treply for robotic_gripper open 1;: ok\n\treply for chassis move x 0.04 vxy 0.1;: ok\n\treply for robotic_gripper close 1;: ok\nCURRENT THRESHOLD:  44.54144736842105\n\treply for robotic_arm move x 0 y 50;: fail\n\treply for led control comp all r 0 g 255 b 0 effect blink;: ok\n\treply for led control comp all r 255 g 255 b 255 effect solid;: ok\nDONE\n"
    }
   ],
   "source": [
    "while True:\n",
    "    if test_claw_algo(): break\n",
    "\n",
    "print('DONE')\n",
    "        "
   ]
  },
  {
   "cell_type": "code",
   "execution_count": null,
   "metadata": {},
   "outputs": [],
   "source": []
  }
 ],
 "metadata": {
  "language_info": {
   "codemirror_mode": {
    "name": "ipython",
    "version": 3
   },
   "file_extension": ".py",
   "mimetype": "text/x-python",
   "name": "python",
   "nbconvert_exporter": "python",
   "pygments_lexer": "ipython3",
   "version": "3.6.9-final"
  },
  "orig_nbformat": 2,
  "kernelspec": {
   "name": "python36964bitnotebookspipenv57eabbfff9a149fba4c264734c2a3b05",
   "display_name": "Python 3.6.9 64-bit ('notebooks': pipenv)"
  }
 },
 "nbformat": 4,
 "nbformat_minor": 2
}