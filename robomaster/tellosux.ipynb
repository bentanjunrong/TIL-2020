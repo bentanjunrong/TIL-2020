{
 "cells": [
  {
   "cell_type": "code",
   "execution_count": 1,
   "metadata": {
    "tags": []
   },
   "outputs": [
    {
     "output_type": "stream",
     "name": "stdout",
     "text": "reply for command: ok\nCreating state socket\n"
    }
   ],
   "source": [
    "from Tello_api import *\n",
    "import cv2\n",
    "import time\n",
    "\n",
    "# load drone\n",
    "tello = Tello()"
   ]
  },
  {
   "cell_type": "code",
   "execution_count": 2,
   "metadata": {
    "tags": []
   },
   "outputs": [
    {
     "output_type": "stream",
     "name": "stdout",
     "text": "reply for takeoff: ok\nland, Attempt 1 out of 3 failed\n\treply for land: ok\n\treply for streamoff: ok\n\treply for moff: ok\n"
    }
   ],
   "source": [
    "tello._sendcommand('takeoff')\n",
    "time.sleep(5)\n",
    "\n",
    "\n",
    "tello.exit()"
   ]
  },
  {
   "cell_type": "code",
   "execution_count": 5,
   "metadata": {
    "tags": []
   },
   "outputs": [
    {
     "output_type": "stream",
     "name": "stdout",
     "text": "reply for takeoff: ok\n\treply for mon: ok\n\treply for mdirection 0: ok\n\treply for jump 30 0 100 10 0 m1 m8: ok\n"
    },
    {
     "output_type": "execute_result",
     "data": {
      "text/plain": "'ok'"
     },
     "metadata": {},
     "execution_count": 5
    }
   ],
   "source": [
    "tello._sendcommand('takeoff')\n",
    "tello.start_pad_det() # enables mission pad detection\n",
    "time.sleep(5)\n",
    "tello._sendcommand('jump 30 0 100 10 0 m1 m8')"
   ]
  },
  {
   "cell_type": "code",
   "execution_count": 6,
   "metadata": {
    "tags": []
   },
   "outputs": [
    {
     "output_type": "stream",
     "name": "stdout",
     "text": "reply for land: ok\n\treply for streamoff: ok\n\treply for moff: ok\n"
    }
   ],
   "source": [
    "tello.exit()"
   ]
  },
  {
   "cell_type": "code",
   "execution_count": 8,
   "metadata": {
    "tags": []
   },
   "outputs": [
    {
     "output_type": "stream",
     "name": "stdout",
     "text": "reply for ap SivaMESH ss5536319: OK,drone will reboot in 3s\n"
    },
    {
     "output_type": "execute_result",
     "data": {
      "text/plain": "'OK,drone will reboot in 3s'"
     },
     "metadata": {},
     "execution_count": 8
    }
   ],
   "source": [
    "tello._sendcommand('ap SivaMESH ss5536319')"
   ]
  },
  {
   "cell_type": "code",
   "execution_count": null,
   "metadata": {},
   "outputs": [],
   "source": [
    "tello.startvideo()\n",
    "tello.startstates() # to read height of tello\n",
    "\n",
    "while tello.frame is None: # this is for video warm up. when frame is received, this loop is exited.\n",
    "\tpass\n",
    "while True:\n",
    "\tcv2.namedWindow('Tello video', cv2.WINDOW_NORMAL)\n",
    "\tcv2.imshow('Tello video', cv2.flip(tello.frame, 0)) # flip required if using mirror\n",
    "\n",
    "\tk = cv2.waitKey(16) & 0xFF\n",
    "\tif k == 27: # press esc to stop\n",
    "\t\ttello.exit()\n",
    "\t\tbreak\n",
    "\n",
    "\telif k != -1: # press wasdqe to control tello. u,j to control height. t,l to takeoff and land\n",
    "\t\ttello.act(k) "
   ]
  }
 ],
 "metadata": {
  "language_info": {
   "codemirror_mode": {
    "name": "ipython",
    "version": 3
   },
   "file_extension": ".py",
   "mimetype": "text/x-python",
   "name": "python",
   "nbconvert_exporter": "python",
   "pygments_lexer": "ipython3",
   "version": "3.6.10-final"
  },
  "orig_nbformat": 2,
  "kernelspec": {
   "name": "python361064bittil2020pipenv17199de5e80542afbf33ce54dc36357a",
   "display_name": "Python 3.6.10 64-bit ('TIL-2020': pipenv)"
  }
 },
 "nbformat": 4,
 "nbformat_minor": 2
}