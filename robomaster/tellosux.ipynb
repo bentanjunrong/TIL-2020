{
 "cells": [
  {
   "cell_type": "code",
   "execution_count": 1,
   "metadata": {
    "tags": []
   },
   "outputs": [
    {
     "output_type": "stream",
     "name": "stdout",
     "text": "reply for command: ok\nCreating state socket\n"
    }
   ],
   "source": [
    "from Tello_api import *\n",
    "import cv2\n",
    "import time\n",
    "\n",
    "# load drone\n",
    "tello = Tello()"
   ]
  },
  {
   "cell_type": "code",
   "execution_count": 2,
   "metadata": {
    "tags": []
   },
   "outputs": [
    {
     "output_type": "stream",
     "name": "stdout",
     "text": "reply for battery?: 7\n\n"
    },
    {
     "output_type": "execute_result",
     "data": {
      "text/plain": "'7\\r\\n'"
     },
     "metadata": {},
     "execution_count": 2
    }
   ],
   "source": [
    "tello._sendcommand('battery?')"
   ]
  },
  {
   "cell_type": "code",
   "execution_count": 2,
   "metadata": {
    "tags": []
   },
   "outputs": [
    {
     "output_type": "stream",
     "name": "stdout",
     "text": "reply for takeoff: error\n\treply for land: error\n\treply for streamoff: ok\n\treply for moff: ok\n"
    }
   ],
   "source": [
    "tello._sendcommand('takeoff')\n",
    "time.sleep(5)\n",
    "\n",
    "\n",
    "tello.exit()"
   ]
  },
  {
   "cell_type": "code",
   "execution_count": 5,
   "metadata": {
    "tags": []
   },
   "outputs": [
    {
     "output_type": "stream",
     "name": "stdout",
     "text": "reply for takeoff: ok\n\treply for mon: ok\n\treply for mdirection 0: ok\n\treply for jump 30 0 100 10 0 m1 m8: ok\n"
    },
    {
     "output_type": "execute_result",
     "data": {
      "text/plain": "'ok'"
     },
     "metadata": {},
     "execution_count": 5
    }
   ],
   "source": [
    "tello._sendcommand('takeoff')\n",
    "tello.start_pad_det() # enables mission pad detection\n",
    "time.sleep(5)\n",
    "tello._sendcommand('jump 30 0 100 10 0 m1 m8')"
   ]
  },
  {
   "cell_type": "code",
   "execution_count": 6,
   "metadata": {
    "tags": []
   },
   "outputs": [
    {
     "output_type": "stream",
     "name": "stdout",
     "text": "reply for land: ok\n\treply for streamoff: ok\n\treply for moff: ok\n"
    }
   ],
   "source": [
    "tello.exit()"
   ]
  },
  {
   "cell_type": "code",
   "execution_count": 8,
   "metadata": {
    "tags": []
   },
   "outputs": [
    {
     "output_type": "stream",
     "name": "stdout",
     "text": "reply for ap SivaMESH ss5536319: OK,drone will reboot in 3s\n"
    },
    {
     "output_type": "execute_result",
     "data": {
      "text/plain": "'OK,drone will reboot in 3s'"
     },
     "metadata": {},
     "execution_count": 8
    }
   ],
   "source": [
    "tello._sendcommand('ap SivaMESH ss5536319')"
   ]
  },
  {
   "cell_type": "code",
   "execution_count": 2,
   "metadata": {
    "tags": []
   },
   "outputs": [
    {
     "output_type": "stream",
     "name": "stdout",
     "text": "reply for streamon: ok\nVideo thread started!\nState thread started!\n\treply for takeoff: ok\n\treply for forward 20: error No valid imu\n\treply for back 20: error No valid imu\n\treply for right 20: error No valid imu\n\treply for right 20: error No valid imu\n\treply for right 20: error No valid imu\n\treply for right 20: error No valid imu\n\treply for right 20: error Not joystick\n\treply for land: ok\n"
    },
    {
     "output_type": "error",
     "ename": "error",
     "evalue": "OpenCV(4.2.0) /io/opencv/modules/highgui/src/window.cpp:376: error: (-215:Assertion failed) size.width>0 && size.height>0 in function 'imshow'\n",
     "traceback": [
      "\u001b[0;31m---------------------------------------------------------------------------\u001b[0m",
      "\u001b[0;31merror\u001b[0m                                     Traceback (most recent call last)",
      "\u001b[0;32m<ipython-input-2-13a65ad42ecd>\u001b[0m in \u001b[0;36m<module>\u001b[0;34m\u001b[0m\n\u001b[1;32m      6\u001b[0m \u001b[0;32mwhile\u001b[0m \u001b[0;32mTrue\u001b[0m\u001b[0;34m:\u001b[0m\u001b[0;34m\u001b[0m\u001b[0;34m\u001b[0m\u001b[0m\n\u001b[1;32m      7\u001b[0m         \u001b[0mcv2\u001b[0m\u001b[0;34m.\u001b[0m\u001b[0mnamedWindow\u001b[0m\u001b[0;34m(\u001b[0m\u001b[0;34m'Tello video'\u001b[0m\u001b[0;34m,\u001b[0m \u001b[0mcv2\u001b[0m\u001b[0;34m.\u001b[0m\u001b[0mWINDOW_NORMAL\u001b[0m\u001b[0;34m)\u001b[0m\u001b[0;34m\u001b[0m\u001b[0;34m\u001b[0m\u001b[0m\n\u001b[0;32m----> 8\u001b[0;31m         \u001b[0mcv2\u001b[0m\u001b[0;34m.\u001b[0m\u001b[0mimshow\u001b[0m\u001b[0;34m(\u001b[0m\u001b[0;34m'Tello video'\u001b[0m\u001b[0;34m,\u001b[0m \u001b[0mcv2\u001b[0m\u001b[0;34m.\u001b[0m\u001b[0mflip\u001b[0m\u001b[0;34m(\u001b[0m\u001b[0mtello\u001b[0m\u001b[0;34m.\u001b[0m\u001b[0mframe\u001b[0m\u001b[0;34m,\u001b[0m \u001b[0;36m0\u001b[0m\u001b[0;34m)\u001b[0m\u001b[0;34m)\u001b[0m \u001b[0;31m# flip required if using mirror\u001b[0m\u001b[0;34m\u001b[0m\u001b[0;34m\u001b[0m\u001b[0m\n\u001b[0m\u001b[1;32m      9\u001b[0m \u001b[0;34m\u001b[0m\u001b[0m\n\u001b[1;32m     10\u001b[0m         \u001b[0mk\u001b[0m \u001b[0;34m=\u001b[0m \u001b[0mcv2\u001b[0m\u001b[0;34m.\u001b[0m\u001b[0mwaitKey\u001b[0m\u001b[0;34m(\u001b[0m\u001b[0;36m16\u001b[0m\u001b[0;34m)\u001b[0m \u001b[0;34m&\u001b[0m \u001b[0;36m0xFF\u001b[0m\u001b[0;34m\u001b[0m\u001b[0;34m\u001b[0m\u001b[0m\n",
      "\u001b[0;31merror\u001b[0m: OpenCV(4.2.0) /io/opencv/modules/highgui/src/window.cpp:376: error: (-215:Assertion failed) size.width>0 && size.height>0 in function 'imshow'\n"
     ]
    }
   ],
   "source": [
    "tello.startvideo()\n",
    "tello.startstates() # to read height of tello\n",
    "\n",
    "while tello.frame is None: # this is for video warm up. when frame is received, this loop is exited.\n",
    "\tpass\n",
    "while True:\n",
    "\tcv2.namedWindow('Tello video', cv2.WINDOW_NORMAL)\n",
    "\tcv2.imshow('Tello video', cv2.flip(tello.frame, 0)) # flip required if using mirror\n",
    "\n",
    "\tk = cv2.waitKey(16) & 0xFF\n",
    "\tif k == 27: # press esc to stop\n",
    "\t\ttello.exit()\n",
    "\t\tbreak\n",
    "\n",
    "\telif k != -1: # press wasdqe to control tello. u,j to control height. t,l to takeoff and land\n",
    "\t\ttello.act(k) "
   ]
  },
  {
   "cell_type": "code",
   "execution_count": 2,
   "metadata": {
    "tags": []
   },
   "outputs": [
    {
     "output_type": "stream",
     "name": "stdout",
     "text": "reply for takeoff: error\n"
    },
    {
     "output_type": "execute_result",
     "data": {
      "text/plain": "'error'"
     },
     "metadata": {},
     "execution_count": 2
    }
   ],
   "source": [
    "tello._sendcommand('takeoff')"
   ]
  },
  {
   "cell_type": "code",
   "execution_count": null,
   "metadata": {},
   "outputs": [],
   "source": []
  }
 ],
 "metadata": {
  "language_info": {
   "codemirror_mode": {
    "name": "ipython",
    "version": 3
   },
   "file_extension": ".py",
   "mimetype": "text/x-python",
   "name": "python",
   "nbconvert_exporter": "python",
   "pygments_lexer": "ipython3",
   "version": "3.6.10-final"
  },
  "orig_nbformat": 2,
  "kernelspec": {
   "name": "python361064bittil2020pipenv17199de5e80542afbf33ce54dc36357a",
   "display_name": "Python 3.6.10 64-bit ('TIL-2020': pipenv)"
  }
 },
 "nbformat": 4,
 "nbformat_minor": 2
}