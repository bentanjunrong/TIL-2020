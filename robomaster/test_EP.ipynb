{
 "cells": [
  {
   "cell_type": "code",
   "execution_count": 2,
   "metadata": {
    "tags": []
   },
   "outputs": [
    {
     "output_type": "stream",
     "name": "stdout",
     "text": "data sent is b'robot ip 192.168.1.215' from ('192.168.1.215', 60797)\nCommand socket: ok\n"
    }
   ],
   "source": [
    "from utils.EP_api import Robot, findrobotIP\n",
    "import time\n",
    "robot = Robot(findrobotIP()) # router"
   ]
  },
  {
   "cell_type": "code",
   "execution_count": 2,
   "metadata": {
    "tags": []
   },
   "outputs": [
    {
     "output_type": "stream",
     "name": "stdout",
     "text": "reply for robotic_arm moveto x 182 y 0;: ok\n"
    },
    {
     "output_type": "execute_result",
     "data": {
      "text/plain": "'ok'"
     },
     "metadata": {},
     "execution_count": 2
    }
   ],
   "source": [
    "# robot.rotate('90')\n",
    "# robot._sendcommand('chassis position ?')\n",
    "robot._sendcommand('robotic_arm moveto x 182 y 0')"
   ]
  },
  {
   "cell_type": "code",
   "execution_count": 74,
   "metadata": {
    "tags": []
   },
   "outputs": [
    {
     "output_type": "stream",
     "name": "stdout",
     "text": "reply for robotic_gripper close 1;: ok\n"
    },
    {
     "output_type": "execute_result",
     "data": {
      "text/plain": "'ok'"
     },
     "metadata": {},
     "execution_count": 74
    }
   ],
   "source": [
    "# robot.movearm('x -100 y 100')\n",
    "# robot._sendcommand('robotic_arm recenter')\n",
    "robot.closearm()\n"
   ]
  },
  {
   "cell_type": "code",
   "execution_count": 78,
   "metadata": {
    "tags": []
   },
   "outputs": [
    {
     "output_type": "stream",
     "name": "stdout",
     "text": "reply for robotic_gripper status ?;: 1 \n"
    },
    {
     "output_type": "execute_result",
     "data": {
      "text/plain": "1"
     },
     "metadata": {},
     "execution_count": 78
    }
   ],
   "source": [
    "val = int(robot._sendcommand('robotic_gripper status ?'))\n",
    "val"
   ]
  },
  {
   "cell_type": "code",
   "execution_count": 2,
   "metadata": {
    "tags": []
   },
   "outputs": [
    {
     "output_type": "stream",
     "name": "stdout",
     "text": "reply for robotic_gripper open 1;: ok\n"
    },
    {
     "output_type": "execute_result",
     "data": {
      "text/plain": "'ok'"
     },
     "metadata": {},
     "execution_count": 2
    }
   ],
   "source": [
    "robot.openarm()"
   ]
  },
  {
   "cell_type": "code",
   "execution_count": 3,
   "metadata": {
    "tags": []
   },
   "outputs": [
    {
     "output_type": "stream",
     "name": "stdout",
     "text": "Exiting...\n\treply for chassis move x 0;: ok\n\treply for gimbal speed p 0 y 0;: ok\n\treply for robotic_arm stop;: ok\n\treply for gimbal moveto p 0 y 0;: ok\n\treply for robotic_arm recenter;: ok\n\treply for stream off;: ok\n\treply for quit;: ok\nAll done\n"
    }
   ],
   "source": [
    "robot.exit()"
   ]
  },
  {
   "cell_type": "code",
   "execution_count": 2,
   "metadata": {},
   "outputs": [],
   "source": [
    "grip_thresh = 7\n",
    "def rescue_grip():\n",
    "    robot._sendcommand('robotic_arm moveto x 182 y 0')\n",
    "def calc_image():\n",
    "    img = cv2.cvtColor(robot.frame,cv2.COLOR_BGR2GRAY)[549:625, 603:683]\n",
    "    res = 0\n",
    "    for row in img:\n",
    "        res += sum(row)\n",
    "    return res / sum([len(row) for row in img])\n",
    "\n",
    "def set_grip_threshold():\n",
    "    global grip_thresh\n",
    "    rescue_grip()\n",
    "    time.sleep(2)\n",
    "    robot.closearm()\n",
    "    time.sleep(3)\n",
    "    grip_thresh = calc_image()\n",
    "    time.sleep(3)\n",
    "    robot.openarm()\n",
    "    robot.center() \n",
    "    time.sleep(1)\n",
    "    print(\"GRIP THRESHOLD: \",grip_thresh)\n",
    "    return True\n",
    "\n",
    "\n",
    "def is_gripped():\n",
    "    # val = int(robot._sendcommand('robotic_gripper status ?'))\n",
    "    # if val == 1: return True\n",
    "    # else: return False\n",
    "    val = calc_image()\n",
    "    print('CURRENT THRESHOLD: ',val)\n",
    "    print('COMPARISON THRESHOLD: ',grip_thresh + 3)\n",
    "    if val > (grip_thresh + 3) or val < (grip_thresh - 3): return True\n",
    "    else: return False"
   ]
  },
  {
   "cell_type": "code",
   "execution_count": 3,
   "metadata": {
    "tags": []
   },
   "outputs": [
    {
     "output_type": "stream",
     "name": "stdout",
     "text": "reply for stream on;: ok\nvideothread started!\n\treply for robotic_arm moveto x 182 y 0;: ok\n\treply for robotic_gripper close 1;: ok\n\treply for robotic_gripper open 1;: ok\n\treply for gimbal moveto p 0 y 0;: ok\n\treply for robotic_arm recenter;: ok\nGRIP THRESHOLD:  26.28782894736842\nCURRENT THRESHOLD:  87.97878289473684\nCOMPARISON THRESHOLD:  29.28782894736842\nGripped:  True\n\treply for robotic_gripper close 1;: ok\nCURRENT THRESHOLD:  26.384703947368422\nCOMPARISON THRESHOLD:  29.28782894736842\nGripped:  False\n\treply for robotic_gripper open 1;: ok\n\treply for robotic_gripper close 1;: ok\nCURRENT THRESHOLD:  96.64276315789473\nCOMPARISON THRESHOLD:  29.28782894736842\nGripped:  True\n\treply for robotic_gripper open 1;: ok\n\treply for robotic_gripper close 1;: ok\nCURRENT THRESHOLD:  28.694736842105264\nCOMPARISON THRESHOLD:  29.28782894736842\nGripped:  False\nCURRENT THRESHOLD:  28.11315789473684\nCOMPARISON THRESHOLD:  29.28782894736842\nGripped:  False\nCURRENT THRESHOLD:  28.124013157894737\nCOMPARISON THRESHOLD:  29.28782894736842\nGripped:  False\nCURRENT THRESHOLD:  28.170888157894737\nCOMPARISON THRESHOLD:  29.28782894736842\nGripped:  False\n\treply for robotic_gripper open 1;: ok\nQuitting\nExiting...\n\treply for chassis move x 0;: ok\n\treply for gimbal speed p 0 y 0;: ok\n\treply for robotic_arm stop;: ok\n\treply for gimbal moveto p 0 y 0;: ok\n\treply for robotic_arm recenter;: ok\n\treply for stream off;: ok\n\treply for quit;: ok\nAll done\n"
    }
   ],
   "source": [
    "import cv2\n",
    "robot.startvideo()\n",
    "\n",
    "while robot.frame is None: # this is for video warm up. when frame is received, this loop is exited.\n",
    "\tpass\n",
    "\n",
    "initial_setup = False\n",
    "while True:\n",
    "\tcv2.namedWindow('Live video', cv2.WINDOW_NORMAL)\n",
    "\tcv2.imshow('Live video', robot.frame) # access the video feed by robot.frame\n",
    "\tif initial_setup is False:\n",
    "            initial_setup = set_grip_threshold()\n",
    "\tk = cv2.waitKey(16) & 0xFF\n",
    "\tif k == ord('p'): # Take pic and save to screenshots\n",
    "\t\tcv2.imwrite('screenshots/last.png',robot.frame)\n",
    "\tif k == ord('o'): # Open claw\n",
    "\t\trobot.openarm()\n",
    "\tif k == ord('c'):\n",
    "\t\trobot.closearm()\n",
    "\tif k == ord('t'): # Test if occupied\n",
    "\t\tprint('Gripped: ',is_gripped())\n",
    "\tif k == 27: # press esc to stop\n",
    "\t\tprint(\"Quitting\")\n",
    "\t\trobot.exit()\n",
    "\t\tbreak\n",
    "\t"
   ]
  },
  {
   "cell_type": "code",
   "execution_count": null,
   "metadata": {
    "tags": []
   },
   "outputs": [],
   "source": [
    "robot.exit()"
   ]
  },
  {
   "cell_type": "code",
   "execution_count": null,
   "metadata": {},
   "outputs": [],
   "source": []
  }
 ],
 "metadata": {
  "language_info": {
   "codemirror_mode": {
    "name": "ipython",
    "version": 3
   },
   "file_extension": ".py",
   "mimetype": "text/x-python",
   "name": "python",
   "nbconvert_exporter": "python",
   "pygments_lexer": "ipython3",
   "version": "3.6.10-final"
  },
  "orig_nbformat": 2,
  "kernelspec": {
   "name": "python361064bittil2020pipenvc13e4a599863495fbc0c295eb547fdc7",
   "display_name": "Python 3.6.10 64-bit ('TIL-2020': pipenv)"
  }
 },
 "nbformat": 4,
 "nbformat_minor": 2
}