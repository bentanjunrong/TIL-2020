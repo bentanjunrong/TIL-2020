{
 "cells": [
  {
   "cell_type": "code",
   "execution_count": 1,
   "metadata": {},
   "outputs": [],
   "source": [
    "from EP_api import Robot, findrobotIP\n",
    "import time"
   ]
  },
  {
   "cell_type": "code",
   "execution_count": 2,
   "metadata": {
    "tags": []
   },
   "outputs": [
    {
     "output_type": "stream",
     "name": "stdout",
     "text": "data sent is b'robot ip 192.168.1.122' from ('192.168.1.122', 46465)\nCommand socket: ok\n"
    }
   ],
   "source": [
    "robot = Robot(findrobotIP()) # router"
   ]
  },
  {
   "cell_type": "code",
   "execution_count": 7,
   "metadata": {
    "tags": []
   },
   "outputs": [
    {
     "output_type": "stream",
     "name": "stdout",
     "text": "reply for chassis move z -90;: ok\n"
    },
    {
     "output_type": "execute_result",
     "data": {
      "text/plain": "'ok'"
     },
     "metadata": {},
     "execution_count": 7
    }
   ],
   "source": [
    "robot.rotate('-90')"
   ]
  },
  {
   "cell_type": "code",
   "execution_count": 23,
   "metadata": {
    "tags": []
   },
   "outputs": [
    {
     "output_type": "stream",
     "name": "stdout",
     "text": "reply for robotic_gripper close 1;: ok\n\treply for robotic_gripper open 1;: ok\n"
    },
    {
     "output_type": "execute_result",
     "data": {
      "text/plain": "'ok'"
     },
     "metadata": {},
     "execution_count": 23
    }
   ],
   "source": [
    "# robot.movearm('x -100 y 100')\n",
    "# robot._sendcommand('robotic_arm recenter')\n",
    "robot.closearm()\n",
    "time.sleep(2)\n",
    "robot.openarm()"
   ]
  },
  {
   "cell_type": "code",
   "execution_count": 21,
   "metadata": {
    "tags": []
   },
   "outputs": [
    {
     "output_type": "stream",
     "name": "stdout",
     "text": "reply for chassis move x .5 y 0;: 1 0 0 0 0 0 0 0 0 0 0 \nDONE\n"
    }
   ],
   "source": [
    "# robot.move('x 0 y 1')\n",
    "def waitToStill():\n",
    "    time.sleep(0.5)\n",
    "    still = False\n",
    "    while (still is False):\n",
    "        state = robot._sendcommand('chassis status ?', echo=False).split(' ')\n",
    "        # print (state)\n",
    "        if state[0] == 'ok':\n",
    "            continue\n",
    "        elif int(state[0]) == 1:\n",
    "            still = True\n",
    "    return\n",
    "\n",
    "robot.move('x .5 y 0')\n",
    "waitToStill()\n",
    "print('DONE')\n",
    "# robot.rotate('-90')"
   ]
  },
  {
   "cell_type": "code",
   "execution_count": 22,
   "metadata": {
    "tags": []
   },
   "outputs": [
    {
     "output_type": "stream",
     "name": "stdout",
     "text": "reply for stream on;: 1 0 0 0 0 0 0 0 0 0 0 \nvideothread started!\nQuitting\nExiting...\n\treply for chassis move x 0;: ok\n\treply for gimbal speed p 0 y 0;: ok\n\treply for robotic_arm stop;: ok\n\treply for gimbal moveto p 0 y 0;: ok\n\treply for robotic_arm recenter;: ok\n"
    }
   ],
   "source": [
    "import cv2\n",
    "robot.startvideo()\n",
    "\n",
    "while robot.frame is None: # this is for video warm up. when frame is received, this loop is exited.\n",
    "\tpass\n",
    "\n",
    "\n",
    "while True:\n",
    "\tcv2.namedWindow('Live video', cv2.WINDOW_NORMAL)\n",
    "\tcv2.imshow('Live video', robot.frame) # access the video feed by robot.frame\n",
    "\n",
    "\tk = cv2.waitKey(16) & 0xFF\n",
    "\tif k == 27: # press esc to stop\n",
    "\t\tprint(\"Quitting\")\n",
    "\t\trobot.exit()\n",
    "\t\tbreak"
   ]
  },
  {
   "cell_type": "code",
   "execution_count": 1,
   "metadata": {
    "tags": []
   },
   "outputs": [
    {
     "output_type": "error",
     "ename": "NameError",
     "evalue": "name 'robot' is not defined",
     "traceback": [
      "\u001b[0;31m---------------------------------------------------------------------------\u001b[0m",
      "\u001b[0;31mNameError\u001b[0m                                 Traceback (most recent call last)",
      "\u001b[0;32m<ipython-input-1-d79f8e63ca39>\u001b[0m in \u001b[0;36m<module>\u001b[0;34m\u001b[0m\n\u001b[0;32m----> 1\u001b[0;31m \u001b[0mrobot\u001b[0m\u001b[0;34m.\u001b[0m\u001b[0mexit\u001b[0m\u001b[0;34m(\u001b[0m\u001b[0;34m)\u001b[0m\u001b[0;34m\u001b[0m\u001b[0;34m\u001b[0m\u001b[0m\n\u001b[0m",
      "\u001b[0;31mNameError\u001b[0m: name 'robot' is not defined"
     ]
    }
   ],
   "source": [
    "robot.exit()"
   ]
  },
  {
   "cell_type": "code",
   "execution_count": null,
   "metadata": {},
   "outputs": [],
   "source": []
  }
 ],
 "metadata": {
  "language_info": {
   "codemirror_mode": {
    "name": "ipython",
    "version": 3
   },
   "file_extension": ".py",
   "mimetype": "text/x-python",
   "name": "python",
   "nbconvert_exporter": "python",
   "pygments_lexer": "ipython3",
   "version": "3.6.9-final"
  },
  "orig_nbformat": 2,
  "kernelspec": {
   "name": "python36964bitnotebookspipenv57eabbfff9a149fba4c264734c2a3b05",
   "display_name": "Python 3.6.9 64-bit ('notebooks': pipenv)"
  }
 },
 "nbformat": 4,
 "nbformat_minor": 2
}