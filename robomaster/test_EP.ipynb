{
 "cells": [
  {
   "cell_type": "code",
   "execution_count": 80,
   "metadata": {
    "tags": []
   },
   "outputs": [
    {
     "output_type": "stream",
     "name": "stdout",
     "text": "data sent is b'robot ip 192.168.1.215' from ('192.168.1.215', 41037)\nCommand socket: ok\n"
    }
   ],
   "source": [
    "from EP_api import Robot, findrobotIP\n",
    "import time\n",
    "robot = Robot(findrobotIP()) # router"
   ]
  },
  {
   "cell_type": "code",
   "execution_count": 81,
   "metadata": {
    "tags": []
   },
   "outputs": [
    {
     "output_type": "stream",
     "name": "stdout",
     "text": "reply for robotic_arm moveto x 182 y 0;: ok\n"
    },
    {
     "output_type": "execute_result",
     "data": {
      "text/plain": "'ok'"
     },
     "metadata": {},
     "execution_count": 81
    }
   ],
   "source": [
    "# robot.rotate('90')\n",
    "# robot._sendcommand('chassis position ?')\n",
    "robot._sendcommand('robotic_arm moveto x 182 y 0')"
   ]
  },
  {
   "cell_type": "code",
   "execution_count": 74,
   "metadata": {
    "tags": []
   },
   "outputs": [
    {
     "output_type": "stream",
     "name": "stdout",
     "text": "reply for robotic_gripper close 1;: ok\n"
    },
    {
     "output_type": "execute_result",
     "data": {
      "text/plain": "'ok'"
     },
     "metadata": {},
     "execution_count": 74
    }
   ],
   "source": [
    "# robot.movearm('x -100 y 100')\n",
    "# robot._sendcommand('robotic_arm recenter')\n",
    "robot.closearm()\n"
   ]
  },
  {
   "cell_type": "code",
   "execution_count": 78,
   "metadata": {
    "tags": []
   },
   "outputs": [
    {
     "output_type": "stream",
     "name": "stdout",
     "text": "reply for robotic_gripper status ?;: 1 \n"
    },
    {
     "output_type": "execute_result",
     "data": {
      "text/plain": "1"
     },
     "metadata": {},
     "execution_count": 78
    }
   ],
   "source": [
    "val = int(robot._sendcommand('robotic_gripper status ?'))\n",
    "val"
   ]
  },
  {
   "cell_type": "code",
   "execution_count": 75,
   "metadata": {
    "tags": []
   },
   "outputs": [
    {
     "output_type": "stream",
     "name": "stdout",
     "text": "reply for robotic_gripper open 1;: ok\n"
    },
    {
     "output_type": "execute_result",
     "data": {
      "text/plain": "'ok'"
     },
     "metadata": {},
     "execution_count": 75
    }
   ],
   "source": [
    "robot.openarm()"
   ]
  },
  {
   "cell_type": "code",
   "execution_count": 9,
   "metadata": {
    "tags": []
   },
   "outputs": [
    {
     "output_type": "stream",
     "name": "stdout",
     "text": "Exiting...\n\treply for chassis move x 0;: ok\n\treply for gimbal speed p 0 y 0;: ok\n\treply for robotic_arm stop;: ok\n\treply for gimbal moveto p 0 y 0;: ok\n\treply for robotic_arm recenter;: ok\n\treply for stream off;: ok\n\treply for quit;: ok\nAll done\n"
    }
   ],
   "source": [
    "robot.exit()"
   ]
  },
  {
   "cell_type": "code",
   "execution_count": 1,
   "metadata": {
    "tags": []
   },
   "outputs": [
    {
     "output_type": "error",
     "ename": "SyntaxError",
     "evalue": "invalid syntax (<ipython-input-1-c8e0271e1546>, line 13)",
     "traceback": [
      "\u001b[0;36m  File \u001b[0;32m\"<ipython-input-1-c8e0271e1546>\"\u001b[0;36m, line \u001b[0;32m13\u001b[0m\n\u001b[0;31m    if k = ord('p'): # Take pic and save to screenshots\u001b[0m\n\u001b[0m         ^\u001b[0m\n\u001b[0;31mSyntaxError\u001b[0m\u001b[0;31m:\u001b[0m invalid syntax\n"
     ]
    }
   ],
   "source": [
    "import cv2\n",
    "robot.startvideo()\n",
    "\n",
    "while robot.frame is None: # this is for video warm up. when frame is received, this loop is exited.\n",
    "\tpass\n",
    "\n",
    "\n",
    "while True:\n",
    "\tcv2.namedWindow('Live video', cv2.WINDOW_NORMAL)\n",
    "\tcv2.imshow('Live video', robot.frame) # access the video feed by robot.frame\n",
    "\n",
    "\tk = cv2.waitKey(16) & 0xFF\n",
    "\tif k == ord('p'): # Take pic and save to screenshots\n",
    "\t\tcv2.imwrite('screenshots/last.png',robot.frame)\n",
    "\tif k == ord('o'): # Open claw\n",
    "\t\trobot.openarm()\n",
    "\tif k == ord('c'):\n",
    "\t\trobot.closearm()\n",
    "\tif k == 27: # press esc to stop\n",
    "\t\tprint(\"Quitting\")\n",
    "\t\trobot.exit()\n",
    "\t\tbreak\n",
    "\t"
   ]
  },
  {
   "cell_type": "code",
   "execution_count": 79,
   "metadata": {
    "tags": []
   },
   "outputs": [
    {
     "output_type": "stream",
     "name": "stdout",
     "text": "Exiting...\n\treply for chassis move x 0;: ok\n\treply for gimbal speed p 0 y 0;: ok\n\treply for robotic_arm stop;: ok\n\treply for gimbal moveto p 0 y 0;: ok\n\treply for robotic_arm recenter;: ok\n\treply for stream off;: ok\n\treply for quit;: ok\nAll done\n"
    }
   ],
   "source": [
    "robot.exit()"
   ]
  },
  {
   "cell_type": "code",
   "execution_count": null,
   "metadata": {},
   "outputs": [],
   "source": []
  }
 ],
 "metadata": {
  "language_info": {
   "codemirror_mode": {
    "name": "ipython",
    "version": 3
   },
   "file_extension": ".py",
   "mimetype": "text/x-python",
   "name": "python",
   "nbconvert_exporter": "python",
   "pygments_lexer": "ipython3",
   "version": "3.6.10-final"
  },
  "orig_nbformat": 2,
  "kernelspec": {
   "name": "python361064bittil2020pipenvc13e4a599863495fbc0c295eb547fdc7",
   "display_name": "Python 3.6.10 64-bit ('TIL-2020': pipenv)"
  }
 },
 "nbformat": 4,
 "nbformat_minor": 2
}